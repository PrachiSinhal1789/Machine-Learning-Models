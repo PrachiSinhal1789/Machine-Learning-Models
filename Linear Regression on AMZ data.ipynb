{
 "cells": [
  {
   "cell_type": "code",
   "execution_count": 1,
   "id": "eb5c478f",
   "metadata": {
    "ExecuteTime": {
     "end_time": "2022-05-20T06:26:06.210867Z",
     "start_time": "2022-05-20T06:26:03.146026Z"
    }
   },
   "outputs": [],
   "source": [
    "import pandas as pd\n",
    "import numpy as np\n",
    "import matplotlib.pyplot as plt\n",
    "import seaborn as sns\n",
    "from sklearn.model_selection import train_test_split\n",
    "from sklearn.linear_model import LinearRegression\n",
    "from sklearn.metrics import r2_score,mean_squared_error"
   ]
  },
  {
   "cell_type": "code",
   "execution_count": 2,
   "id": "25d672bb",
   "metadata": {
    "ExecuteTime": {
     "end_time": "2022-05-20T06:26:07.428452Z",
     "start_time": "2022-05-20T06:26:06.221419Z"
    }
   },
   "outputs": [
    {
     "data": {
      "text/html": [
       "<div>\n",
       "<style scoped>\n",
       "    .dataframe tbody tr th:only-of-type {\n",
       "        vertical-align: middle;\n",
       "    }\n",
       "\n",
       "    .dataframe tbody tr th {\n",
       "        vertical-align: top;\n",
       "    }\n",
       "\n",
       "    .dataframe thead th {\n",
       "        text-align: right;\n",
       "    }\n",
       "</style>\n",
       "<table border=\"1\" class=\"dataframe\">\n",
       "  <thead>\n",
       "    <tr style=\"text-align: right;\">\n",
       "      <th></th>\n",
       "      <th>Name</th>\n",
       "      <th>Performance</th>\n",
       "      <th>IQ</th>\n",
       "      <th>Motivation</th>\n",
       "      <th>Annual Salary</th>\n",
       "    </tr>\n",
       "  </thead>\n",
       "  <tbody>\n",
       "    <tr>\n",
       "      <th>0</th>\n",
       "      <td>Reetu Rani</td>\n",
       "      <td>85.0</td>\n",
       "      <td>109.0</td>\n",
       "      <td>89.0</td>\n",
       "      <td>73.0</td>\n",
       "    </tr>\n",
       "    <tr>\n",
       "      <th>1</th>\n",
       "      <td>Akshya</td>\n",
       "      <td>84.0</td>\n",
       "      <td>106.0</td>\n",
       "      <td>84.0</td>\n",
       "      <td>80.0</td>\n",
       "    </tr>\n",
       "    <tr>\n",
       "      <th>2</th>\n",
       "      <td>Akshya Bhatt</td>\n",
       "      <td>87.0</td>\n",
       "      <td>125.0</td>\n",
       "      <td>59.0</td>\n",
       "      <td>67.0</td>\n",
       "    </tr>\n",
       "    <tr>\n",
       "      <th>3</th>\n",
       "      <td>Dilip</td>\n",
       "      <td>69.0</td>\n",
       "      <td>84.0</td>\n",
       "      <td>60.0</td>\n",
       "      <td>58.0</td>\n",
       "    </tr>\n",
       "    <tr>\n",
       "      <th>4</th>\n",
       "      <td>Kiran Babu</td>\n",
       "      <td>69.0</td>\n",
       "      <td>89.0</td>\n",
       "      <td>60.0</td>\n",
       "      <td>67.0</td>\n",
       "    </tr>\n",
       "  </tbody>\n",
       "</table>\n",
       "</div>"
      ],
      "text/plain": [
       "           Name  Performance     IQ  Motivation   Annual Salary\n",
       "0    Reetu Rani         85.0  109.0         89.0           73.0\n",
       "1       Akshya          84.0  106.0         84.0           80.0\n",
       "2  Akshya Bhatt         87.0  125.0         59.0           67.0\n",
       "3         Dilip         69.0   84.0         60.0           58.0\n",
       "4    Kiran Babu         69.0   89.0         60.0           67.0"
      ]
     },
     "execution_count": 2,
     "metadata": {},
     "output_type": "execute_result"
    }
   ],
   "source": [
    "df=pd.read_excel('Amz_Data.xlsx')\n",
    "df.head()"
   ]
  },
  {
   "cell_type": "code",
   "execution_count": 3,
   "id": "53796164",
   "metadata": {
    "ExecuteTime": {
     "end_time": "2022-05-20T06:26:07.460452Z",
     "start_time": "2022-05-20T06:26:07.428452Z"
    }
   },
   "outputs": [
    {
     "name": "stdout",
     "output_type": "stream",
     "text": [
      "<class 'pandas.core.frame.DataFrame'>\n",
      "RangeIndex: 62 entries, 0 to 61\n",
      "Data columns (total 5 columns):\n",
      " #   Column         Non-Null Count  Dtype  \n",
      "---  ------         --------------  -----  \n",
      " 0   Name           61 non-null     object \n",
      " 1   Performance    61 non-null     float64\n",
      " 2   IQ             60 non-null     float64\n",
      " 3   Motivation     60 non-null     float64\n",
      " 4   Annual Salary  60 non-null     float64\n",
      "dtypes: float64(4), object(1)\n",
      "memory usage: 2.5+ KB\n"
     ]
    }
   ],
   "source": [
    "df.info()"
   ]
  },
  {
   "cell_type": "code",
   "execution_count": 4,
   "id": "f1bf925a",
   "metadata": {
    "ExecuteTime": {
     "end_time": "2022-05-20T06:26:07.844135Z",
     "start_time": "2022-05-20T06:26:07.460452Z"
    }
   },
   "outputs": [
    {
     "name": "stdout",
     "output_type": "stream",
     "text": [
      "<class 'pandas.core.frame.DataFrame'>\n",
      "Int64Index: 60 entries, 0 to 59\n",
      "Data columns (total 5 columns):\n",
      " #   Column         Non-Null Count  Dtype  \n",
      "---  ------         --------------  -----  \n",
      " 0   Name           60 non-null     object \n",
      " 1   Performance    60 non-null     float64\n",
      " 2   IQ             60 non-null     float64\n",
      " 3   Motivation     60 non-null     float64\n",
      " 4   Annual Salary  60 non-null     float64\n",
      "dtypes: float64(4), object(1)\n",
      "memory usage: 2.8+ KB\n"
     ]
    }
   ],
   "source": [
    "df.dropna(inplace=True)\n",
    "df.info()"
   ]
  },
  {
   "cell_type": "code",
   "execution_count": 5,
   "id": "80759fc2",
   "metadata": {
    "ExecuteTime": {
     "end_time": "2022-05-20T06:26:08.115515Z",
     "start_time": "2022-05-20T06:26:07.852110Z"
    }
   },
   "outputs": [
    {
     "data": {
      "text/html": [
       "<div>\n",
       "<style scoped>\n",
       "    .dataframe tbody tr th:only-of-type {\n",
       "        vertical-align: middle;\n",
       "    }\n",
       "\n",
       "    .dataframe tbody tr th {\n",
       "        vertical-align: top;\n",
       "    }\n",
       "\n",
       "    .dataframe thead th {\n",
       "        text-align: right;\n",
       "    }\n",
       "</style>\n",
       "<table border=\"1\" class=\"dataframe\">\n",
       "  <thead>\n",
       "    <tr style=\"text-align: right;\">\n",
       "      <th></th>\n",
       "      <th>Performance</th>\n",
       "      <th>IQ</th>\n",
       "      <th>Motivation</th>\n",
       "      <th>Annual Salary</th>\n",
       "    </tr>\n",
       "  </thead>\n",
       "  <tbody>\n",
       "    <tr>\n",
       "      <th>count</th>\n",
       "      <td>60.000000</td>\n",
       "      <td>60.000000</td>\n",
       "      <td>60.000000</td>\n",
       "      <td>60.000000</td>\n",
       "    </tr>\n",
       "    <tr>\n",
       "      <th>mean</th>\n",
       "      <td>78.116667</td>\n",
       "      <td>106.650000</td>\n",
       "      <td>66.950000</td>\n",
       "      <td>67.716667</td>\n",
       "    </tr>\n",
       "    <tr>\n",
       "      <th>std</th>\n",
       "      <td>8.027689</td>\n",
       "      <td>14.315838</td>\n",
       "      <td>13.586415</td>\n",
       "      <td>12.276603</td>\n",
       "    </tr>\n",
       "    <tr>\n",
       "      <th>min</th>\n",
       "      <td>62.000000</td>\n",
       "      <td>73.000000</td>\n",
       "      <td>32.000000</td>\n",
       "      <td>44.000000</td>\n",
       "    </tr>\n",
       "    <tr>\n",
       "      <th>25%</th>\n",
       "      <td>72.750000</td>\n",
       "      <td>97.750000</td>\n",
       "      <td>58.000000</td>\n",
       "      <td>58.000000</td>\n",
       "    </tr>\n",
       "    <tr>\n",
       "      <th>50%</th>\n",
       "      <td>78.500000</td>\n",
       "      <td>105.500000</td>\n",
       "      <td>65.500000</td>\n",
       "      <td>67.500000</td>\n",
       "    </tr>\n",
       "    <tr>\n",
       "      <th>75%</th>\n",
       "      <td>84.000000</td>\n",
       "      <td>112.250000</td>\n",
       "      <td>74.500000</td>\n",
       "      <td>76.500000</td>\n",
       "    </tr>\n",
       "    <tr>\n",
       "      <th>max</th>\n",
       "      <td>99.000000</td>\n",
       "      <td>145.000000</td>\n",
       "      <td>97.000000</td>\n",
       "      <td>93.000000</td>\n",
       "    </tr>\n",
       "  </tbody>\n",
       "</table>\n",
       "</div>"
      ],
      "text/plain": [
       "       Performance          IQ  Motivation   Annual Salary\n",
       "count    60.000000   60.000000    60.000000      60.000000\n",
       "mean     78.116667  106.650000    66.950000      67.716667\n",
       "std       8.027689   14.315838    13.586415      12.276603\n",
       "min      62.000000   73.000000    32.000000      44.000000\n",
       "25%      72.750000   97.750000    58.000000      58.000000\n",
       "50%      78.500000  105.500000    65.500000      67.500000\n",
       "75%      84.000000  112.250000    74.500000      76.500000\n",
       "max      99.000000  145.000000    97.000000      93.000000"
      ]
     },
     "execution_count": 5,
     "metadata": {},
     "output_type": "execute_result"
    }
   ],
   "source": [
    "df.describe()"
   ]
  },
  {
   "cell_type": "code",
   "execution_count": 6,
   "id": "3f556c19",
   "metadata": {
    "ExecuteTime": {
     "end_time": "2022-05-20T06:26:08.315484Z",
     "start_time": "2022-05-20T06:26:08.123506Z"
    }
   },
   "outputs": [
    {
     "name": "stderr",
     "output_type": "stream",
     "text": [
      "C:\\Users\\Dell\\AppData\\Local\\Temp/ipykernel_10108/1665899112.py:1: FutureWarning: Dropping of nuisance columns in DataFrame reductions (with 'numeric_only=None') is deprecated; in a future version this will raise TypeError.  Select only valid columns before calling the reduction.\n",
      "  df.skew()\n"
     ]
    },
    {
     "data": {
      "text/plain": [
       "Performance      0.156654\n",
       "IQ               0.520067\n",
       "Motivation       0.087409\n",
       "Annual Salary    0.088591\n",
       "dtype: float64"
      ]
     },
     "execution_count": 6,
     "metadata": {},
     "output_type": "execute_result"
    }
   ],
   "source": [
    "df.skew()"
   ]
  },
  {
   "cell_type": "code",
   "execution_count": 7,
   "id": "72152cab",
   "metadata": {
    "ExecuteTime": {
     "end_time": "2022-05-20T06:26:08.564905Z",
     "start_time": "2022-05-20T06:26:08.323485Z"
    }
   },
   "outputs": [
    {
     "name": "stderr",
     "output_type": "stream",
     "text": [
      "C:\\Users\\Dell\\AppData\\Local\\Temp/ipykernel_10108/1257127604.py:1: FutureWarning: Dropping of nuisance columns in DataFrame reductions (with 'numeric_only=None') is deprecated; in a future version this will raise TypeError.  Select only valid columns before calling the reduction.\n",
      "  df.kurt()\n"
     ]
    },
    {
     "data": {
      "text/plain": [
       "Performance     -0.182097\n",
       "IQ               0.627460\n",
       "Motivation      -0.027536\n",
       "Annual Salary   -0.827099\n",
       "dtype: float64"
      ]
     },
     "execution_count": 7,
     "metadata": {},
     "output_type": "execute_result"
    }
   ],
   "source": [
    "df.kurt()"
   ]
  },
  {
   "cell_type": "code",
   "execution_count": 8,
   "id": "96617018",
   "metadata": {
    "ExecuteTime": {
     "end_time": "2022-05-20T06:26:09.384755Z",
     "start_time": "2022-05-20T06:26:08.572910Z"
    }
   },
   "outputs": [
    {
     "data": {
      "text/plain": [
       "<AxesSubplot:>"
      ]
     },
     "execution_count": 8,
     "metadata": {},
     "output_type": "execute_result"
    },
    {
     "data": {
      "image/png": "[encoded data removed]",
      "text/plain": [
       "<Figure size 1080x720 with 1 Axes>"
      ]
     },
     "metadata": {
      "needs_background": "light"
     },
     "output_type": "display_data"
    }
   ],
   "source": [
    "fig=plt.figure(figsize=(15,10))\n",
    "df.boxplot(vert=False)"
   ]
  },
  {
   "cell_type": "code",
   "execution_count": 9,
   "id": "97e7b7eb",
   "metadata": {
    "ExecuteTime": {
     "end_time": "2022-05-20T06:26:09.401098Z",
     "start_time": "2022-05-20T06:26:09.385098Z"
    }
   },
   "outputs": [],
   "source": [
    "def remove_outlier(mydf,col):\n",
    "    q1=mydf[col].quantile(0.25)\n",
    "    q3=mydf[col].quantile(0.75)\n",
    "    IQR=q3-q1\n",
    "    mydf.loc[mydf[col]>(q3+1.5*IQR),col]=q3\n",
    "    mydf.loc[mydf[col]<(q1-1.5*IQR),col]=q1\n",
    "    return mydf"
   ]
  },
  {
   "cell_type": "code",
   "execution_count": 10,
   "id": "0be8e34f",
   "metadata": {
    "ExecuteTime": {
     "end_time": "2022-05-20T06:26:09.604658Z",
     "start_time": "2022-05-20T06:26:09.401098Z"
    }
   },
   "outputs": [],
   "source": [
    "for i in df.drop(['Name','Performance'],axis=1).columns:\n",
    "    mydf=remove_outlier(df,i)"
   ]
  },
  {
   "cell_type": "code",
   "execution_count": 12,
   "id": "a3d4e2f9",
   "metadata": {
    "ExecuteTime": {
     "end_time": "2022-05-20T06:30:45.067459Z",
     "start_time": "2022-05-20T06:30:45.043463Z"
    }
   },
   "outputs": [],
   "source": [
    "X=df.drop(['Name','Performance'],axis=1)\n",
    "y=df['Performance']"
   ]
  },
  {
   "cell_type": "code",
   "execution_count": 14,
   "id": "1b6695d9",
   "metadata": {
    "ExecuteTime": {
     "end_time": "2022-05-20T06:30:53.229097Z",
     "start_time": "2022-05-20T06:30:53.213095Z"
    }
   },
   "outputs": [],
   "source": [
    "X_train,X_test,y_train,y_test=train_test_split(X,y,test_size=0.2,random_state=1)"
   ]
  },
  {
   "cell_type": "code",
   "execution_count": 16,
   "id": "a2a2c59e",
   "metadata": {
    "ExecuteTime": {
     "end_time": "2022-05-20T06:31:12.662145Z",
     "start_time": "2022-05-20T06:31:12.646140Z"
    }
   },
   "outputs": [],
   "source": [
    "model=LinearRegression()"
   ]
  },
  {
   "cell_type": "code",
   "execution_count": 17,
   "id": "5263e29b",
   "metadata": {
    "ExecuteTime": {
     "end_time": "2022-05-20T06:31:36.569773Z",
     "start_time": "2022-05-20T06:31:36.449789Z"
    }
   },
   "outputs": [
    {
     "data": {
      "text/plain": [
       "LinearRegression()"
      ]
     },
     "execution_count": 17,
     "metadata": {},
     "output_type": "execute_result"
    }
   ],
   "source": [
    "model.fit(X_train,y_train)"
   ]
  },
  {
   "cell_type": "code",
   "execution_count": 21,
   "id": "0c4598ff",
   "metadata": {
    "ExecuteTime": {
     "end_time": "2022-05-20T06:32:53.283846Z",
     "start_time": "2022-05-20T06:32:53.259847Z"
    }
   },
   "outputs": [],
   "source": [
    "y_pred=model.predict(X_test)"
   ]
  },
  {
   "cell_type": "code",
   "execution_count": 22,
   "id": "c311cca6",
   "metadata": {
    "ExecuteTime": {
     "end_time": "2022-05-20T06:33:47.050320Z",
     "start_time": "2022-05-20T06:33:47.034323Z"
    }
   },
   "outputs": [
    {
     "data": {
      "text/plain": [
       "0.1577418663078437"
      ]
     },
     "execution_count": 22,
     "metadata": {},
     "output_type": "execute_result"
    }
   ],
   "source": [
    "r2_score(y_test,y_pred)"
   ]
  },
  {
   "cell_type": "code",
   "execution_count": 24,
   "id": "c9e62858",
   "metadata": {
    "ExecuteTime": {
     "end_time": "2022-05-20T06:34:29.008203Z",
     "start_time": "2022-05-20T06:34:28.984200Z"
    }
   },
   "outputs": [
    {
     "data": {
      "text/plain": [
       "5.0839744764975014"
      ]
     },
     "execution_count": 24,
     "metadata": {},
     "output_type": "execute_result"
    }
   ],
   "source": [
    "np.sqrt(mean_squared_error(y_test,y_pred))"
   ]
  }
 ],
 "metadata": {
  "kernelspec": {
   "display_name": "Python 3 (ipykernel)",
   "language": "python",
   "name": "python3"
  },
  "language_info": {
   "codemirror_mode": {
    "name": "ipython",
    "version": 3
   },
   "file_extension": ".py",
   "mimetype": "text/x-python",
   "name": "python",
   "nbconvert_exporter": "python",
   "pygments_lexer": "ipython3",
   "version": "3.9.7"
  }
 },
 "nbformat": 4,
 "nbformat_minor": 5
}
