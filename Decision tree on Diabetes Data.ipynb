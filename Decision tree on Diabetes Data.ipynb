{
 "cells": [
  {
   "cell_type": "markdown",
   "id": "18032849",
   "metadata": {},
   "source": [
    "#  Importing necessary libraries"
   ]
  },
  {
   "cell_type": "code",
   "execution_count": 1,
   "id": "e48155d1",
   "metadata": {},
   "outputs": [],
   "source": [
    "import pandas as pd\n",
    "import numpy as np\n",
    "from sklearn.model_selection import train_test_split,StratifiedKFold,GridSearchCV\n",
    "from sklearn.tree import DecisionTreeClassifier\n",
    "from sklearn.metrics import accuracy_score,classification_report\n"
   ]
  },
  {
   "cell_type": "code",
   "execution_count": 2,
   "id": "09cbf818",
   "metadata": {},
   "outputs": [],
   "source": [
    "df=pd.read_csv('pima-indians-diabetes_label.csv')"
   ]
  },
  {
   "cell_type": "code",
   "execution_count": 3,
   "id": "b1abbf88",
   "metadata": {},
   "outputs": [
    {
     "data": {
      "text/html": [
       "<div>\n",
       "<style scoped>\n",
       "    .dataframe tbody tr th:only-of-type {\n",
       "        vertical-align: middle;\n",
       "    }\n",
       "\n",
       "    .dataframe tbody tr th {\n",
       "        vertical-align: top;\n",
       "    }\n",
       "\n",
       "    .dataframe thead th {\n",
       "        text-align: right;\n",
       "    }\n",
       "</style>\n",
       "<table border=\"1\" class=\"dataframe\">\n",
       "  <thead>\n",
       "    <tr style=\"text-align: right;\">\n",
       "      <th></th>\n",
       "      <th>Pregnancies</th>\n",
       "      <th>Glucose</th>\n",
       "      <th>BloodPressure</th>\n",
       "      <th>SkinThickness</th>\n",
       "      <th>Insulin</th>\n",
       "      <th>BMI</th>\n",
       "      <th>DiabetesPedigreeF</th>\n",
       "      <th>Age</th>\n",
       "      <th>Outcome</th>\n",
       "    </tr>\n",
       "  </thead>\n",
       "  <tbody>\n",
       "    <tr>\n",
       "      <th>0</th>\n",
       "      <td>6</td>\n",
       "      <td>148</td>\n",
       "      <td>72</td>\n",
       "      <td>35</td>\n",
       "      <td>0</td>\n",
       "      <td>33.6</td>\n",
       "      <td>0.627</td>\n",
       "      <td>50</td>\n",
       "      <td>1</td>\n",
       "    </tr>\n",
       "    <tr>\n",
       "      <th>1</th>\n",
       "      <td>1</td>\n",
       "      <td>85</td>\n",
       "      <td>66</td>\n",
       "      <td>29</td>\n",
       "      <td>0</td>\n",
       "      <td>26.6</td>\n",
       "      <td>0.351</td>\n",
       "      <td>31</td>\n",
       "      <td>0</td>\n",
       "    </tr>\n",
       "    <tr>\n",
       "      <th>2</th>\n",
       "      <td>8</td>\n",
       "      <td>183</td>\n",
       "      <td>64</td>\n",
       "      <td>0</td>\n",
       "      <td>0</td>\n",
       "      <td>23.3</td>\n",
       "      <td>0.672</td>\n",
       "      <td>32</td>\n",
       "      <td>1</td>\n",
       "    </tr>\n",
       "    <tr>\n",
       "      <th>3</th>\n",
       "      <td>1</td>\n",
       "      <td>89</td>\n",
       "      <td>66</td>\n",
       "      <td>23</td>\n",
       "      <td>94</td>\n",
       "      <td>28.1</td>\n",
       "      <td>0.167</td>\n",
       "      <td>21</td>\n",
       "      <td>0</td>\n",
       "    </tr>\n",
       "    <tr>\n",
       "      <th>4</th>\n",
       "      <td>0</td>\n",
       "      <td>137</td>\n",
       "      <td>40</td>\n",
       "      <td>35</td>\n",
       "      <td>168</td>\n",
       "      <td>43.1</td>\n",
       "      <td>2.288</td>\n",
       "      <td>33</td>\n",
       "      <td>1</td>\n",
       "    </tr>\n",
       "  </tbody>\n",
       "</table>\n",
       "</div>"
      ],
      "text/plain": [
       "   Pregnancies  Glucose  BloodPressure  SkinThickness  Insulin   BMI  \\\n",
       "0            6      148             72             35        0  33.6   \n",
       "1            1       85             66             29        0  26.6   \n",
       "2            8      183             64              0        0  23.3   \n",
       "3            1       89             66             23       94  28.1   \n",
       "4            0      137             40             35      168  43.1   \n",
       "\n",
       "   DiabetesPedigreeF  Age  Outcome  \n",
       "0              0.627   50        1  \n",
       "1              0.351   31        0  \n",
       "2              0.672   32        1  \n",
       "3              0.167   21        0  \n",
       "4              2.288   33        1  "
      ]
     },
     "execution_count": 3,
     "metadata": {},
     "output_type": "execute_result"
    }
   ],
   "source": [
    "df.head()"
   ]
  },
  {
   "cell_type": "markdown",
   "id": "de0fc4aa",
   "metadata": {},
   "source": [
    "#  EDA-exploratory data analysis"
   ]
  },
  {
   "cell_type": "code",
   "execution_count": 4,
   "id": "a65be58e",
   "metadata": {},
   "outputs": [
    {
     "name": "stdout",
     "output_type": "stream",
     "text": [
      "<class 'pandas.core.frame.DataFrame'>\n",
      "RangeIndex: 768 entries, 0 to 767\n",
      "Data columns (total 9 columns):\n",
      " #   Column             Non-Null Count  Dtype  \n",
      "---  ------             --------------  -----  \n",
      " 0   Pregnancies        768 non-null    int64  \n",
      " 1   Glucose            768 non-null    int64  \n",
      " 2   BloodPressure      768 non-null    int64  \n",
      " 3   SkinThickness      768 non-null    int64  \n",
      " 4   Insulin            768 non-null    int64  \n",
      " 5   BMI                768 non-null    float64\n",
      " 6   DiabetesPedigreeF  768 non-null    float64\n",
      " 7   Age                768 non-null    int64  \n",
      " 8   Outcome            768 non-null    int64  \n",
      "dtypes: float64(2), int64(7)\n",
      "memory usage: 54.1 KB\n"
     ]
    }
   ],
   "source": [
    "df.info()"
   ]
  },
  {
   "cell_type": "code",
   "execution_count": 5,
   "id": "c22505a1",
   "metadata": {},
   "outputs": [
    {
     "data": {
      "text/html": [
       "<div>\n",
       "<style scoped>\n",
       "    .dataframe tbody tr th:only-of-type {\n",
       "        vertical-align: middle;\n",
       "    }\n",
       "\n",
       "    .dataframe tbody tr th {\n",
       "        vertical-align: top;\n",
       "    }\n",
       "\n",
       "    .dataframe thead th {\n",
       "        text-align: right;\n",
       "    }\n",
       "</style>\n",
       "<table border=\"1\" class=\"dataframe\">\n",
       "  <thead>\n",
       "    <tr style=\"text-align: right;\">\n",
       "      <th></th>\n",
       "      <th>Pregnancies</th>\n",
       "      <th>Glucose</th>\n",
       "      <th>BloodPressure</th>\n",
       "      <th>SkinThickness</th>\n",
       "      <th>Insulin</th>\n",
       "      <th>BMI</th>\n",
       "      <th>DiabetesPedigreeF</th>\n",
       "      <th>Age</th>\n",
       "      <th>Outcome</th>\n",
       "    </tr>\n",
       "  </thead>\n",
       "  <tbody>\n",
       "    <tr>\n",
       "      <th>count</th>\n",
       "      <td>768.000000</td>\n",
       "      <td>768.000000</td>\n",
       "      <td>768.000000</td>\n",
       "      <td>768.000000</td>\n",
       "      <td>768.000000</td>\n",
       "      <td>768.000000</td>\n",
       "      <td>768.000000</td>\n",
       "      <td>768.000000</td>\n",
       "      <td>768.000000</td>\n",
       "    </tr>\n",
       "    <tr>\n",
       "      <th>mean</th>\n",
       "      <td>3.845052</td>\n",
       "      <td>120.894531</td>\n",
       "      <td>69.105469</td>\n",
       "      <td>20.536458</td>\n",
       "      <td>79.799479</td>\n",
       "      <td>31.992578</td>\n",
       "      <td>0.471876</td>\n",
       "      <td>33.240885</td>\n",
       "      <td>0.348958</td>\n",
       "    </tr>\n",
       "    <tr>\n",
       "      <th>std</th>\n",
       "      <td>3.369578</td>\n",
       "      <td>31.972618</td>\n",
       "      <td>19.355807</td>\n",
       "      <td>15.952218</td>\n",
       "      <td>115.244002</td>\n",
       "      <td>7.884160</td>\n",
       "      <td>0.331329</td>\n",
       "      <td>11.760232</td>\n",
       "      <td>0.476951</td>\n",
       "    </tr>\n",
       "    <tr>\n",
       "      <th>min</th>\n",
       "      <td>0.000000</td>\n",
       "      <td>0.000000</td>\n",
       "      <td>0.000000</td>\n",
       "      <td>0.000000</td>\n",
       "      <td>0.000000</td>\n",
       "      <td>0.000000</td>\n",
       "      <td>0.078000</td>\n",
       "      <td>21.000000</td>\n",
       "      <td>0.000000</td>\n",
       "    </tr>\n",
       "    <tr>\n",
       "      <th>25%</th>\n",
       "      <td>1.000000</td>\n",
       "      <td>99.000000</td>\n",
       "      <td>62.000000</td>\n",
       "      <td>0.000000</td>\n",
       "      <td>0.000000</td>\n",
       "      <td>27.300000</td>\n",
       "      <td>0.243750</td>\n",
       "      <td>24.000000</td>\n",
       "      <td>0.000000</td>\n",
       "    </tr>\n",
       "    <tr>\n",
       "      <th>50%</th>\n",
       "      <td>3.000000</td>\n",
       "      <td>117.000000</td>\n",
       "      <td>72.000000</td>\n",
       "      <td>23.000000</td>\n",
       "      <td>30.500000</td>\n",
       "      <td>32.000000</td>\n",
       "      <td>0.372500</td>\n",
       "      <td>29.000000</td>\n",
       "      <td>0.000000</td>\n",
       "    </tr>\n",
       "    <tr>\n",
       "      <th>75%</th>\n",
       "      <td>6.000000</td>\n",
       "      <td>140.250000</td>\n",
       "      <td>80.000000</td>\n",
       "      <td>32.000000</td>\n",
       "      <td>127.250000</td>\n",
       "      <td>36.600000</td>\n",
       "      <td>0.626250</td>\n",
       "      <td>41.000000</td>\n",
       "      <td>1.000000</td>\n",
       "    </tr>\n",
       "    <tr>\n",
       "      <th>max</th>\n",
       "      <td>17.000000</td>\n",
       "      <td>199.000000</td>\n",
       "      <td>122.000000</td>\n",
       "      <td>99.000000</td>\n",
       "      <td>846.000000</td>\n",
       "      <td>67.100000</td>\n",
       "      <td>2.420000</td>\n",
       "      <td>81.000000</td>\n",
       "      <td>1.000000</td>\n",
       "    </tr>\n",
       "  </tbody>\n",
       "</table>\n",
       "</div>"
      ],
      "text/plain": [
       "       Pregnancies     Glucose  BloodPressure  SkinThickness     Insulin  \\\n",
       "count   768.000000  768.000000     768.000000     768.000000  768.000000   \n",
       "mean      3.845052  120.894531      69.105469      20.536458   79.799479   \n",
       "std       3.369578   31.972618      19.355807      15.952218  115.244002   \n",
       "min       0.000000    0.000000       0.000000       0.000000    0.000000   \n",
       "25%       1.000000   99.000000      62.000000       0.000000    0.000000   \n",
       "50%       3.000000  117.000000      72.000000      23.000000   30.500000   \n",
       "75%       6.000000  140.250000      80.000000      32.000000  127.250000   \n",
       "max      17.000000  199.000000     122.000000      99.000000  846.000000   \n",
       "\n",
       "              BMI  DiabetesPedigreeF         Age     Outcome  \n",
       "count  768.000000         768.000000  768.000000  768.000000  \n",
       "mean    31.992578           0.471876   33.240885    0.348958  \n",
       "std      7.884160           0.331329   11.760232    0.476951  \n",
       "min      0.000000           0.078000   21.000000    0.000000  \n",
       "25%     27.300000           0.243750   24.000000    0.000000  \n",
       "50%     32.000000           0.372500   29.000000    0.000000  \n",
       "75%     36.600000           0.626250   41.000000    1.000000  \n",
       "max     67.100000           2.420000   81.000000    1.000000  "
      ]
     },
     "execution_count": 5,
     "metadata": {},
     "output_type": "execute_result"
    }
   ],
   "source": [
    "df.describe()"
   ]
  },
  {
   "cell_type": "code",
   "execution_count": 6,
   "id": "66dcf858",
   "metadata": {},
   "outputs": [
    {
     "data": {
      "text/plain": [
       "Pregnancies          0.901674\n",
       "Glucose              0.173754\n",
       "BloodPressure       -1.843608\n",
       "SkinThickness        0.109372\n",
       "Insulin              2.272251\n",
       "BMI                 -0.428982\n",
       "DiabetesPedigreeF    1.919911\n",
       "Age                  1.129597\n",
       "Outcome              0.635017\n",
       "dtype: float64"
      ]
     },
     "execution_count": 6,
     "metadata": {},
     "output_type": "execute_result"
    }
   ],
   "source": [
    "df.skew()"
   ]
  },
  {
   "cell_type": "code",
   "execution_count": 7,
   "id": "e502337f",
   "metadata": {},
   "outputs": [
    {
     "data": {
      "text/plain": [
       "Pregnancies          0.159220\n",
       "Glucose              0.640780\n",
       "BloodPressure        5.180157\n",
       "SkinThickness       -0.520072\n",
       "Insulin              7.214260\n",
       "BMI                  3.290443\n",
       "DiabetesPedigreeF    5.594954\n",
       "Age                  0.643159\n",
       "Outcome             -1.600930\n",
       "dtype: float64"
      ]
     },
     "execution_count": 7,
     "metadata": {},
     "output_type": "execute_result"
    }
   ],
   "source": [
    "df.kurt()"
   ]
  },
  {
   "cell_type": "code",
   "execution_count": 8,
   "id": "1fde75e6",
   "metadata": {},
   "outputs": [
    {
     "data": {
      "text/plain": [
       "<AxesSubplot:>"
      ]
     },
     "execution_count": 8,
     "metadata": {},
     "output_type": "execute_result"
    },
    {
     "data": {
      "image/png": "[encoded data removed]",
      "text/plain": [
       "<Figure size 432x288 with 1 Axes>"
      ]
     },
     "metadata": {
      "needs_background": "light"
     },
     "output_type": "display_data"
    }
   ],
   "source": [
    "df.boxplot(vert=False)"
   ]
  },
  {
   "cell_type": "markdown",
   "id": "24d6654b",
   "metadata": {},
   "source": [
    "##  Train test split"
   ]
  },
  {
   "cell_type": "code",
   "execution_count": 9,
   "id": "f6a3384c",
   "metadata": {},
   "outputs": [],
   "source": [
    "X=df.drop('Outcome',axis=1)\n",
    "y=df['Outcome']"
   ]
  },
  {
   "cell_type": "code",
   "execution_count": 10,
   "id": "f5500608",
   "metadata": {},
   "outputs": [],
   "source": [
    "X_train,X_test,y_train,y_test=train_test_split(X,y,test_size=0.3,random_state=1)"
   ]
  },
  {
   "cell_type": "code",
   "execution_count": 11,
   "id": "e064d163",
   "metadata": {},
   "outputs": [
    {
     "data": {
      "text/plain": [
       "(768, 9)"
      ]
     },
     "execution_count": 11,
     "metadata": {},
     "output_type": "execute_result"
    }
   ],
   "source": [
    "df.shape"
   ]
  },
  {
   "cell_type": "code",
   "execution_count": 12,
   "id": "1636fdea",
   "metadata": {},
   "outputs": [
    {
     "data": {
      "text/plain": [
       "(537, 8)"
      ]
     },
     "execution_count": 12,
     "metadata": {},
     "output_type": "execute_result"
    }
   ],
   "source": [
    "X_train.shape"
   ]
  },
  {
   "cell_type": "code",
   "execution_count": 13,
   "id": "b1b8a214",
   "metadata": {},
   "outputs": [
    {
     "data": {
      "text/plain": [
       "(231, 8)"
      ]
     },
     "execution_count": 13,
     "metadata": {},
     "output_type": "execute_result"
    }
   ],
   "source": [
    "X_test.shape"
   ]
  },
  {
   "cell_type": "code",
   "execution_count": 14,
   "id": "a44e3a18",
   "metadata": {},
   "outputs": [
    {
     "data": {
      "text/plain": [
       "(537,)"
      ]
     },
     "execution_count": 14,
     "metadata": {},
     "output_type": "execute_result"
    }
   ],
   "source": [
    "y_train.shape"
   ]
  },
  {
   "cell_type": "code",
   "execution_count": 15,
   "id": "11330e7d",
   "metadata": {},
   "outputs": [
    {
     "data": {
      "text/plain": [
       "(231,)"
      ]
     },
     "execution_count": 15,
     "metadata": {},
     "output_type": "execute_result"
    }
   ],
   "source": [
    "y_test.shape"
   ]
  },
  {
   "cell_type": "markdown",
   "id": "ea15cbfa",
   "metadata": {},
   "source": [
    "##  Model Building"
   ]
  },
  {
   "cell_type": "code",
   "execution_count": 16,
   "id": "bedf6639",
   "metadata": {},
   "outputs": [],
   "source": [
    "model = DecisionTreeClassifier()"
   ]
  },
  {
   "cell_type": "code",
   "execution_count": 17,
   "id": "ca7ae1a1",
   "metadata": {},
   "outputs": [
    {
     "data": {
      "text/plain": [
       "DecisionTreeClassifier()"
      ]
     },
     "execution_count": 17,
     "metadata": {},
     "output_type": "execute_result"
    }
   ],
   "source": [
    "model.fit(X_train,y_train)"
   ]
  },
  {
   "cell_type": "code",
   "execution_count": 18,
   "id": "28ef99a3",
   "metadata": {},
   "outputs": [],
   "source": [
    "y_pred=model.predict(X_test)"
   ]
  },
  {
   "cell_type": "markdown",
   "id": "c5e06b5d",
   "metadata": {},
   "source": [
    "##  Model Evaluation"
   ]
  },
  {
   "cell_type": "code",
   "execution_count": 19,
   "id": "257ec426",
   "metadata": {},
   "outputs": [
    {
     "data": {
      "text/plain": [
       "0.7142857142857143"
      ]
     },
     "execution_count": 19,
     "metadata": {},
     "output_type": "execute_result"
    }
   ],
   "source": [
    "accuracy_score(y_test,y_pred)"
   ]
  },
  {
   "cell_type": "code",
   "execution_count": 20,
   "id": "a3f35487",
   "metadata": {},
   "outputs": [
    {
     "name": "stdout",
     "output_type": "stream",
     "text": [
      "              precision    recall  f1-score   support\n",
      "\n",
      "           0       0.76      0.81      0.78       146\n",
      "           1       0.63      0.55      0.59        85\n",
      "\n",
      "    accuracy                           0.71       231\n",
      "   macro avg       0.69      0.68      0.68       231\n",
      "weighted avg       0.71      0.71      0.71       231\n",
      "\n"
     ]
    }
   ],
   "source": [
    "print(classification_report(y_test,y_pred))"
   ]
  },
  {
   "cell_type": "markdown",
   "id": "23bfef01",
   "metadata": {},
   "source": [
    "##  Overfitting check"
   ]
  },
  {
   "cell_type": "code",
   "execution_count": 21,
   "id": "64b2129a",
   "metadata": {},
   "outputs": [],
   "source": [
    "y_train_pred=model.predict(X_train)"
   ]
  },
  {
   "cell_type": "code",
   "execution_count": 22,
   "id": "d05dd63e",
   "metadata": {},
   "outputs": [
    {
     "data": {
      "text/plain": [
       "1.0"
      ]
     },
     "execution_count": 22,
     "metadata": {},
     "output_type": "execute_result"
    }
   ],
   "source": [
    "accuracy_score(y_train,y_train_pred)"
   ]
  },
  {
   "cell_type": "code",
   "execution_count": 23,
   "id": "7f35383a",
   "metadata": {},
   "outputs": [
    {
     "data": {
      "text/plain": [
       "array([1, 0, 0, 0, 0, 0, 0, 1, 0, 1, 0, 0, 1, 0, 0, 1, 0, 0, 0, 0, 1, 0,\n",
       "       1, 0, 0, 0, 0, 1, 1, 0, 0, 0, 0, 1, 0, 0, 0, 0, 0, 0, 0, 0, 0, 0,\n",
       "       0, 0, 0, 0, 1, 0, 0, 0, 1, 0, 1, 1, 1, 0, 0, 1, 1, 0, 1, 1, 0, 0,\n",
       "       1, 0, 1, 0, 1, 0, 0, 0, 1, 1, 0, 1, 0, 0, 1, 1, 1, 0, 0, 1, 0, 1,\n",
       "       1, 0, 1, 1, 0, 0, 1, 1, 1, 0, 1, 0, 0, 1, 0, 1, 0, 0, 0, 0, 0, 1,\n",
       "       1, 1, 0, 0, 0, 0, 1, 1, 0, 0, 0, 0, 0, 1, 1, 0, 0, 0, 0, 1, 0, 0,\n",
       "       0, 0, 0, 1, 0, 0, 0, 0, 1, 0, 0, 0, 1, 1, 0, 1, 0, 0, 0, 1, 0, 0,\n",
       "       0, 1, 1, 0, 0, 1, 0, 0, 0, 0, 0, 0, 0, 0, 1, 0, 1, 0, 1, 0, 1, 0,\n",
       "       0, 0, 0, 0, 0, 1, 0, 1, 1, 0, 1, 1, 1, 0, 1, 0, 0, 1, 1, 0, 1, 1,\n",
       "       1, 0, 0, 1, 0, 0, 0, 0, 0, 0, 0, 0, 0, 0, 1, 0, 0, 0, 0, 0, 1, 0,\n",
       "       0, 0, 0, 0, 1, 0, 1, 0, 0, 0, 0, 0, 0, 0, 0, 0, 1, 0, 1, 0, 0, 1,\n",
       "       1, 0, 0, 0, 0, 0, 0, 0, 1, 0, 0, 1, 0, 0, 0, 0, 1, 1, 0, 0, 0, 0,\n",
       "       0, 0, 1, 0, 1, 1, 0, 0, 1, 0, 0, 0, 0, 0, 1, 0, 0, 0, 0, 0, 1, 1,\n",
       "       0, 0, 1, 1, 0, 0, 1, 0, 0, 0, 0, 0, 0, 1, 0, 0, 0, 1, 1, 0, 1, 1,\n",
       "       1, 0, 0, 0, 0, 1, 0, 1, 0, 0, 0, 0, 1, 0, 0, 0, 1, 0, 1, 0, 1, 1,\n",
       "       0, 1, 0, 0, 0, 0, 0, 0, 1, 0, 0, 1, 0, 0, 1, 0, 0, 0, 0, 1, 0, 0,\n",
       "       0, 1, 0, 1, 0, 0, 0, 0, 0, 1, 1, 1, 0, 0, 0, 0, 1, 1, 1, 1, 1, 1,\n",
       "       1, 0, 0, 0, 1, 0, 0, 0, 0, 1, 0, 1, 0, 0, 1, 0, 0, 1, 0, 0, 0, 0,\n",
       "       0, 1, 0, 1, 0, 1, 0, 1, 0, 0, 0, 1, 0, 1, 1, 0, 0, 1, 1, 0, 0, 0,\n",
       "       1, 1, 0, 0, 1, 1, 0, 0, 1, 0, 0, 0, 1, 0, 0, 0, 1, 1, 0, 0, 0, 0,\n",
       "       0, 0, 0, 0, 0, 0, 0, 1, 1, 0, 0, 0, 1, 0, 1, 0, 1, 0, 0, 0, 1, 0,\n",
       "       1, 1, 1, 1, 0, 0, 0, 1, 0, 0, 0, 0, 0, 1, 0, 1, 1, 0, 0, 0, 0, 1,\n",
       "       1, 1, 0, 1, 0, 1, 0, 1, 0, 1, 0, 0, 0, 0, 0, 0, 1, 1, 0, 0, 0, 0,\n",
       "       1, 0, 0, 0, 0, 0, 0, 1, 1, 0, 0, 0, 0, 0, 1, 1, 1, 1, 0, 0, 0, 0,\n",
       "       1, 0, 1, 0, 0, 1, 1, 1, 1], dtype=int64)"
      ]
     },
     "execution_count": 23,
     "metadata": {},
     "output_type": "execute_result"
    }
   ],
   "source": [
    "y_train_pred"
   ]
  },
  {
   "cell_type": "code",
   "execution_count": 24,
   "id": "b0cf87c7",
   "metadata": {},
   "outputs": [
    {
     "data": {
      "text/plain": [
       "array([1, 0, 0, 0, 0, 0, 0, 1, 0, 1, 0, 0, 1, 0, 0, 1, 0, 0, 0, 0, 1, 0,\n",
       "       1, 0, 0, 0, 0, 1, 1, 0, 0, 0, 0, 1, 0, 0, 0, 0, 0, 0, 0, 0, 0, 0,\n",
       "       0, 0, 0, 0, 1, 0, 0, 0, 1, 0, 1, 1, 1, 0, 0, 1, 1, 0, 1, 1, 0, 0,\n",
       "       1, 0, 1, 0, 1, 0, 0, 0, 1, 1, 0, 1, 0, 0, 1, 1, 1, 0, 0, 1, 0, 1,\n",
       "       1, 0, 1, 1, 0, 0, 1, 1, 1, 0, 1, 0, 0, 1, 0, 1, 0, 0, 0, 0, 0, 1,\n",
       "       1, 1, 0, 0, 0, 0, 1, 1, 0, 0, 0, 0, 0, 1, 1, 0, 0, 0, 0, 1, 0, 0,\n",
       "       0, 0, 0, 1, 0, 0, 0, 0, 1, 0, 0, 0, 1, 1, 0, 1, 0, 0, 0, 1, 0, 0,\n",
       "       0, 1, 1, 0, 0, 1, 0, 0, 0, 0, 0, 0, 0, 0, 1, 0, 1, 0, 1, 0, 1, 0,\n",
       "       0, 0, 0, 0, 0, 1, 0, 1, 1, 0, 1, 1, 1, 0, 1, 0, 0, 1, 1, 0, 1, 1,\n",
       "       1, 0, 0, 1, 0, 0, 0, 0, 0, 0, 0, 0, 0, 0, 1, 0, 0, 0, 0, 0, 1, 0,\n",
       "       0, 0, 0, 0, 1, 0, 1, 0, 0, 0, 0, 0, 0, 0, 0, 0, 1, 0, 1, 0, 0, 1,\n",
       "       1, 0, 0, 0, 0, 0, 0, 0, 1, 0, 0, 1, 0, 0, 0, 0, 1, 1, 0, 0, 0, 0,\n",
       "       0, 0, 1, 0, 1, 1, 0, 0, 1, 0, 0, 0, 0, 0, 1, 0, 0, 0, 0, 0, 1, 1,\n",
       "       0, 0, 1, 1, 0, 0, 1, 0, 0, 0, 0, 0, 0, 1, 0, 0, 0, 1, 1, 0, 1, 1,\n",
       "       1, 0, 0, 0, 0, 1, 0, 1, 0, 0, 0, 0, 1, 0, 0, 0, 1, 0, 1, 0, 1, 1,\n",
       "       0, 1, 0, 0, 0, 0, 0, 0, 1, 0, 0, 1, 0, 0, 1, 0, 0, 0, 0, 1, 0, 0,\n",
       "       0, 1, 0, 1, 0, 0, 0, 0, 0, 1, 1, 1, 0, 0, 0, 0, 1, 1, 1, 1, 1, 1,\n",
       "       1, 0, 0, 0, 1, 0, 0, 0, 0, 1, 0, 1, 0, 0, 1, 0, 0, 1, 0, 0, 0, 0,\n",
       "       0, 1, 0, 1, 0, 1, 0, 1, 0, 0, 0, 1, 0, 1, 1, 0, 0, 1, 1, 0, 0, 0,\n",
       "       1, 1, 0, 0, 1, 1, 0, 0, 1, 0, 0, 0, 1, 0, 0, 0, 1, 1, 0, 0, 0, 0,\n",
       "       0, 0, 0, 0, 0, 0, 0, 1, 1, 0, 0, 0, 1, 0, 1, 0, 1, 0, 0, 0, 1, 0,\n",
       "       1, 1, 1, 1, 0, 0, 0, 1, 0, 0, 0, 0, 0, 1, 0, 1, 1, 0, 0, 0, 0, 1,\n",
       "       1, 1, 0, 1, 0, 1, 0, 1, 0, 1, 0, 0, 0, 0, 0, 0, 1, 1, 0, 0, 0, 0,\n",
       "       1, 0, 0, 0, 0, 0, 0, 1, 1, 0, 0, 0, 0, 0, 1, 1, 1, 1, 0, 0, 0, 0,\n",
       "       1, 0, 1, 0, 0, 1, 1, 1, 1], dtype=int64)"
      ]
     },
     "execution_count": 24,
     "metadata": {},
     "output_type": "execute_result"
    }
   ],
   "source": [
    "np.array(y_train)"
   ]
  },
  {
   "cell_type": "markdown",
   "id": "02618008",
   "metadata": {},
   "source": [
    "- Decision tree is an OVERFITTING MODEL.\n",
    "- It basically gives good accuracy for the training data and gives poor accuracy for testing data.\n",
    "- In other terms it overfits the training data and cannot GENERALIZE the test data."
   ]
  },
  {
   "cell_type": "markdown",
   "id": "6f78e722",
   "metadata": {},
   "source": [
    "## Stratified Kfold CV"
   ]
  },
  {
   "cell_type": "code",
   "execution_count": 25,
   "id": "d4c4acaf",
   "metadata": {},
   "outputs": [],
   "source": [
    "stf = StratifiedKFold(n_splits=10,shuffle=True,random_state=1)"
   ]
  },
  {
   "cell_type": "code",
   "execution_count": 26,
   "id": "772b362a",
   "metadata": {},
   "outputs": [
    {
     "data": {
      "text/plain": [
       "10"
      ]
     },
     "execution_count": 26,
     "metadata": {},
     "output_type": "execute_result"
    }
   ],
   "source": [
    "stf.get_n_splits(X=X,y=y)"
   ]
  },
  {
   "cell_type": "code",
   "execution_count": 27,
   "id": "1401031d",
   "metadata": {},
   "outputs": [],
   "source": [
    "dtc = DecisionTreeClassifier()"
   ]
  },
  {
   "cell_type": "code",
   "execution_count": 28,
   "id": "0da807bb",
   "metadata": {},
   "outputs": [
    {
     "name": "stdout",
     "output_type": "stream",
     "text": [
      "Train =  [  1   2   3   4   5   6   7   8   9  11  12  13  14  15  16  17  18  19\n",
      "  20  21  22  23  24  25  26  27  28  29  30  31  32  33  34  35  36  37\n",
      "  39  40  41  42  43  44  45  46  47  48  49  50  51  52  53  54  55  56\n",
      "  58  59  60  61  62  63  64  65  67  68  69  70  71  72  73  74  75  76\n",
      "  78  79  80  81  82  83  84  85  86  87  88  89  90  93  94  95  96  97\n",
      "  98  99 100 101 102 103 104 105 106 107 108 109 110 111 112 113 114 115\n",
      " 116 117 118 119 120 121 122 123 124 125 126 128 129 130 131 132 133 134\n",
      " 135 136 140 141 142 143 145 146 147 148 149 150 151 152 153 155 156 157\n",
      " 158 159 160 161 162 163 164 165 166 167 168 169 171 172 174 175 176 177\n",
      " 178 179 181 182 183 184 185 186 187 188 190 191 192 193 194 195 196 197\n",
      " 198 200 201 202 203 204 205 206 207 208 209 210 211 213 214 215 216 217\n",
      " 218 219 220 221 222 223 224 225 226 227 228 229 230 231 232 234 235 236\n",
      " 237 238 239 240 242 243 244 245 246 247 248 249 250 251 253 254 255 256\n",
      " 257 258 260 261 263 264 265 266 267 270 271 272 273 274 275 276 277 278\n",
      " 280 281 282 283 284 285 287 289 290 291 292 293 294 295 296 297 298 300\n",
      " 301 302 303 304 305 306 307 310 311 312 313 314 315 316 317 318 319 320\n",
      " 321 322 323 324 325 326 327 328 329 330 331 332 333 334 335 336 337 338\n",
      " 339 340 341 342 343 344 345 347 348 349 350 351 352 353 354 355 356 357\n",
      " 358 359 360 361 362 363 364 365 366 367 368 369 370 371 372 373 374 375\n",
      " 376 377 378 379 380 381 382 383 384 385 387 388 389 391 392 394 395 396\n",
      " 397 398 399 400 401 403 404 405 406 407 408 409 410 411 412 413 414 415\n",
      " 416 417 420 421 422 423 424 426 427 428 429 431 432 433 434 435 436 437\n",
      " 440 442 443 444 445 446 447 448 449 450 451 452 453 454 455 456 457 458\n",
      " 459 460 461 462 463 464 465 466 467 468 469 470 472 473 475 476 477 478\n",
      " 479 480 481 482 483 485 486 487 488 489 490 491 492 493 495 496 497 498\n",
      " 499 500 501 502 503 504 505 506 507 508 509 510 511 513 514 515 516 517\n",
      " 518 519 521 522 523 524 525 526 527 528 529 530 531 532 533 535 536 537\n",
      " 540 542 543 544 545 546 548 549 550 551 552 554 555 556 557 558 559 560\n",
      " 561 562 563 564 565 566 567 568 569 570 571 572 573 575 576 578 579 580\n",
      " 581 582 583 585 586 587 588 589 590 591 592 593 594 595 596 597 599 600\n",
      " 601 602 603 604 605 607 608 609 610 611 613 614 615 616 617 618 619 620\n",
      " 621 622 623 625 626 627 628 629 630 632 634 635 636 637 638 639 640 641\n",
      " 642 643 644 645 646 647 648 649 650 651 652 653 655 656 657 658 659 660\n",
      " 661 663 664 665 666 668 670 671 672 675 677 678 679 680 681 682 684 685\n",
      " 686 687 688 689 691 692 693 694 695 696 697 698 699 700 701 702 703 704\n",
      " 705 706 708 709 710 711 712 713 714 715 716 717 718 719 720 721 722 723\n",
      " 724 725 726 727 728 729 730 731 732 733 734 735 736 737 739 740 741 742\n",
      " 743 744 745 746 747 748 749 750 751 752 753 754 755 756 757 758 759 760\n",
      " 761 762 763 764 765 766 767] Test =  [  0  10  38  57  66  77  91  92 127 137 138 139 144 154 170 173 180 189\n",
      " 199 212 233 241 252 259 262 268 269 279 286 288 299 308 309 346 386 390\n",
      " 393 402 418 419 425 430 438 439 441 471 474 484 494 512 520 534 538 539\n",
      " 541 547 553 574 577 584 598 606 612 624 631 633 654 662 667 669 673 674\n",
      " 676 683 690 707 738]\n",
      "Train =  [  0   4   5   6   7   8   9  10  11  12  13  14  15  16  17  18  19  20\n",
      "  21  22  23  24  25  26  27  28  29  30  31  32  33  34  35  36  37  38\n",
      "  39  40  41  43  44  45  46  47  48  49  50  51  52  53  54  55  56  57\n",
      "  59  60  61  62  63  64  65  66  67  68  69  70  71  73  74  75  76  77\n",
      "  79  82  84  85  86  87  89  90  91  92  94  95  96  97  98  99 101 102\n",
      " 103 104 105 107 108 109 110 111 112 113 114 115 116 118 119 120 121 122\n",
      " 123 124 125 126 127 128 129 130 131 132 133 134 135 137 138 139 140 142\n",
      " 143 144 145 146 148 149 151 153 154 155 156 158 159 160 161 162 163 164\n",
      " 165 167 168 170 171 172 173 174 175 176 178 179 180 181 182 183 185 187\n",
      " 189 190 191 192 193 194 195 196 197 199 200 202 203 204 205 206 207 208\n",
      " 209 210 211 212 214 215 217 218 219 220 221 224 225 226 227 228 229 230\n",
      " 231 232 233 234 235 236 237 238 239 240 241 242 243 244 245 246 248 249\n",
      " 250 251 252 253 254 255 256 257 258 259 260 261 262 263 264 265 266 267\n",
      " 268 269 270 272 274 275 276 277 278 279 280 281 282 283 284 285 286 287\n",
      " 288 289 290 291 293 294 295 296 297 298 299 300 301 302 303 304 305 307\n",
      " 308 309 311 312 313 314 315 316 318 319 320 321 322 323 325 326 327 328\n",
      " 329 330 331 332 333 334 335 336 337 338 339 340 341 342 344 345 346 347\n",
      " 348 349 350 351 352 353 354 355 356 357 359 360 361 362 363 364 365 366\n",
      " 367 368 369 370 371 372 373 374 375 376 377 378 379 380 382 383 384 385\n",
      " 386 387 388 389 390 392 393 394 395 396 397 398 400 402 403 404 405 406\n",
      " 407 408 409 410 411 412 413 414 415 416 417 418 419 420 421 422 423 424\n",
      " 425 426 427 428 429 430 431 432 433 434 435 437 438 439 440 441 442 443\n",
      " 444 445 447 449 450 451 452 453 454 455 456 457 458 459 460 461 462 463\n",
      " 464 465 466 467 468 471 472 473 474 475 476 477 478 479 480 481 482 483\n",
      " 484 485 486 487 488 489 490 491 492 494 495 496 497 498 499 501 502 503\n",
      " 504 506 507 508 509 510 511 512 513 514 515 516 517 518 520 521 522 523\n",
      " 524 525 527 528 529 530 531 532 533 534 535 536 537 538 539 540 541 542\n",
      " 543 544 545 546 547 548 549 550 551 552 553 554 555 556 557 558 559 560\n",
      " 561 563 564 565 566 567 568 569 570 571 572 573 574 575 576 577 578 579\n",
      " 580 581 582 583 584 585 587 588 589 590 591 592 594 596 597 598 599 600\n",
      " 601 602 603 605 606 607 609 610 611 612 613 614 616 617 619 621 623 624\n",
      " 625 626 628 629 630 631 632 633 635 636 638 639 640 641 643 644 645 646\n",
      " 647 648 649 650 652 653 654 655 656 657 658 659 660 661 662 663 664 665\n",
      " 666 667 668 669 670 671 672 673 674 675 676 677 678 679 680 681 682 683\n",
      " 684 685 686 687 688 689 690 691 693 695 696 697 698 699 700 701 702 703\n",
      " 704 705 706 707 708 709 710 711 712 713 714 716 717 718 719 720 722 723\n",
      " 724 725 726 727 728 729 730 731 732 733 734 735 736 737 738 739 740 741\n",
      " 742 743 744 745 746 747 748 749 750 751 752 753 754 755 756 757 758 759\n",
      " 760 761 762 763 764 765 767] Test =  [  1   2   3  42  58  72  78  80  81  83  88  93 100 106 117 136 141 147\n",
      " 150 152 157 166 169 177 184 186 188 198 201 213 216 222 223 247 271 273\n",
      " 292 306 310 317 324 343 358 381 391 399 401 436 446 448 469 470 493 500\n",
      " 505 519 526 562 586 593 595 604 608 615 618 620 622 627 634 637 642 651\n",
      " 692 694 715 721 766]\n",
      "Train =  [  0   1   2   3   4   5   6   7   8   9  10  13  14  15  16  17  18  19\n",
      "  20  21  22  23  24  25  27  28  29  30  31  32  33  34  36  37  38  39\n",
      "  40  41  42  43  44  46  47  48  49  50  52  53  54  55  56  57  58  59\n",
      "  60  61  62  63  64  65  66  67  68  69  70  72  73  74  75  76  77  78\n",
      "  79  80  81  82  83  84  85  86  88  89  90  91  92  93  94  95  96  97\n",
      "  98  99 100 101 102 103 104 105 106 107 108 109 110 111 112 113 114 115\n",
      " 116 117 118 119 120 121 122 123 125 126 127 128 129 130 131 132 133 134\n",
      " 135 136 137 138 139 140 141 142 143 144 145 146 147 148 149 150 151 152\n",
      " 154 156 157 158 159 161 163 164 165 166 168 169 170 171 172 173 174 175\n",
      " 176 177 178 179 180 183 184 185 186 187 188 189 190 191 192 193 194 196\n",
      " 197 198 199 201 202 205 206 207 208 209 210 211 212 213 214 215 216 217\n",
      " 218 219 221 222 223 224 226 227 229 230 231 232 233 234 235 236 238 239\n",
      " 241 242 243 244 245 247 248 249 250 252 253 254 255 256 257 258 259 260\n",
      " 261 262 263 264 265 266 267 268 269 270 271 272 273 275 277 278 279 280\n",
      " 281 282 284 286 287 288 289 290 291 292 293 294 295 296 297 298 299 300\n",
      " 301 302 303 305 306 307 308 309 310 311 312 313 315 316 317 318 319 320\n",
      " 321 324 325 326 327 328 329 330 332 333 334 335 336 337 338 339 340 341\n",
      " 342 343 344 345 346 347 348 349 350 351 352 353 354 355 356 357 358 359\n",
      " 360 361 362 363 364 365 366 367 368 369 370 372 374 375 376 377 378 379\n",
      " 380 381 382 383 384 385 386 387 388 389 390 391 392 393 394 395 396 397\n",
      " 398 399 400 401 402 403 404 405 406 407 409 410 411 412 413 414 415 416\n",
      " 417 418 419 420 421 422 423 424 425 426 427 428 429 430 431 432 433 434\n",
      " 436 438 439 440 441 442 444 445 446 447 448 449 450 452 453 454 455 456\n",
      " 457 458 459 460 461 462 463 464 465 466 467 468 469 470 471 473 474 475\n",
      " 476 477 478 479 480 481 482 483 484 485 486 488 489 490 491 492 493 494\n",
      " 495 496 497 498 500 501 502 503 504 505 506 507 509 510 512 513 514 515\n",
      " 516 519 520 521 522 523 524 525 526 527 528 529 530 531 532 533 534 535\n",
      " 536 537 538 539 540 541 542 543 544 545 546 547 548 549 550 551 553 554\n",
      " 555 556 557 559 560 561 562 563 564 565 566 567 569 571 573 574 575 576\n",
      " 577 578 579 581 582 583 584 585 586 587 588 589 590 591 593 594 595 596\n",
      " 598 599 600 601 602 604 605 606 607 608 609 610 611 612 614 615 616 617\n",
      " 618 619 620 621 622 623 624 625 626 627 629 630 631 632 633 634 635 636\n",
      " 637 638 639 640 641 642 643 644 645 646 647 648 649 650 651 652 653 654\n",
      " 655 657 658 659 660 661 662 663 665 666 667 668 669 670 671 672 673 674\n",
      " 676 677 679 682 683 684 685 686 688 689 690 691 692 693 694 695 696 697\n",
      " 698 699 700 701 702 704 705 706 707 708 709 710 711 713 714 715 716 719\n",
      " 720 721 722 723 725 726 727 728 729 730 731 732 733 735 736 737 738 739\n",
      " 740 741 742 743 744 745 746 747 748 750 751 752 753 754 755 756 757 758\n",
      " 760 761 762 763 764 766 767] Test =  [ 11  12  26  35  45  51  71  87 124 153 155 160 162 167 181 182 195 200\n",
      " 203 204 220 225 228 237 240 246 251 274 276 283 285 304 314 322 323 331\n",
      " 371 373 408 435 437 443 451 472 487 499 508 511 517 518 552 558 568 570\n",
      " 572 580 592 597 603 613 628 656 664 675 678 680 681 687 703 712 717 718\n",
      " 724 734 749 759 765]\n",
      "Train =  [  0   1   2   3   4   5   6   8   9  10  11  12  15  17  18  19  21  22\n",
      "  23  24  25  26  27  28  29  30  31  32  34  35  36  37  38  40  41  42\n",
      "  43  44  45  46  47  48  49  51  52  53  54  55  56  57  58  59  60  61\n",
      "  62  63  64  65  66  67  68  69  70  71  72  73  74  75  76  77  78  79\n",
      "  80  81  82  83  84  86  87  88  89  90  91  92  93  94  95  96  98  99\n",
      " 100 101 102 103 104 105 106 107 108 109 111 112 114 116 117 118 119 120\n",
      " 121 122 123 124 125 126 127 128 129 130 131 132 133 136 137 138 139 140\n",
      " 141 142 144 145 147 148 149 150 152 153 154 155 156 157 158 159 160 161\n",
      " 162 163 164 165 166 167 169 170 171 172 173 174 175 176 177 179 180 181\n",
      " 182 183 184 186 187 188 189 190 191 192 193 195 196 197 198 199 200 201\n",
      " 202 203 204 205 206 207 208 209 210 211 212 213 214 216 217 219 220 221\n",
      " 222 223 224 225 227 228 229 230 231 232 233 235 236 237 238 240 241 242\n",
      " 243 244 245 246 247 248 249 250 251 252 253 254 255 256 257 258 259 260\n",
      " 261 262 264 265 267 268 269 271 272 273 274 275 276 277 278 279 280 281\n",
      " 283 284 285 286 287 288 289 290 292 293 294 295 296 297 298 299 300 301\n",
      " 302 303 304 305 306 307 308 309 310 311 312 313 314 315 316 317 318 319\n",
      " 320 321 322 323 324 325 326 327 328 329 330 331 332 333 334 335 336 337\n",
      " 339 340 342 343 344 346 347 348 349 350 351 352 353 354 356 358 359 361\n",
      " 363 364 365 366 367 370 371 372 373 374 375 376 377 378 380 381 382 383\n",
      " 384 385 386 387 388 390 391 392 393 394 395 396 398 399 400 401 402 404\n",
      " 405 406 407 408 409 410 411 412 413 414 415 416 417 418 419 421 422 423\n",
      " 424 425 426 427 428 429 430 431 432 433 435 436 437 438 439 440 441 442\n",
      " 443 444 445 446 447 448 449 450 451 452 453 454 456 457 458 460 462 463\n",
      " 464 465 466 467 469 470 471 472 473 474 475 476 477 478 479 480 482 483\n",
      " 484 485 486 487 488 489 491 492 493 494 495 496 497 498 499 500 501 502\n",
      " 503 504 505 507 508 510 511 512 513 514 515 516 517 518 519 520 521 522\n",
      " 524 525 526 527 528 530 531 532 533 534 535 536 537 538 539 540 541 542\n",
      " 543 544 546 547 549 550 551 552 553 554 555 556 557 558 559 560 561 562\n",
      " 563 564 565 566 567 568 569 570 572 573 574 575 576 577 578 579 580 581\n",
      " 582 583 584 585 586 587 588 589 590 591 592 593 594 595 596 597 598 599\n",
      " 601 602 603 604 606 607 608 609 610 611 612 613 614 615 616 617 618 619\n",
      " 620 621 622 623 624 625 626 627 628 629 630 631 632 633 634 635 636 637\n",
      " 638 640 642 643 644 645 646 647 648 649 650 651 652 653 654 655 656 657\n",
      " 658 659 660 661 662 663 664 665 666 667 668 669 670 671 672 673 674 675\n",
      " 676 677 678 679 680 681 682 683 684 685 686 687 688 689 690 691 692 693\n",
      " 694 697 698 699 700 701 702 703 704 706 707 708 709 711 712 713 714 715\n",
      " 716 717 718 719 720 721 722 723 724 725 726 727 728 729 730 731 732 734\n",
      " 735 736 738 739 741 742 743 745 746 747 748 749 750 751 753 754 755 756\n",
      " 757 759 761 762 765 766 767] Test =  [  7  13  14  16  20  33  39  50  85  97 110 113 115 134 135 143 146 151\n",
      " 168 178 185 194 215 218 226 234 239 263 266 270 282 291 338 341 345 355\n",
      " 357 360 362 368 369 379 389 397 403 420 434 455 459 461 468 481 490 506\n",
      " 509 523 529 545 548 571 600 605 639 641 695 696 705 710 733 737 740 744\n",
      " 752 758 760 763 764]\n",
      "Train =  [  0   1   2   3   6   7   8   9  10  11  12  13  14  15  16  17  18  19\n",
      "  20  21  22  23  24  26  28  29  30  31  32  33  34  35  37  38  39  40\n",
      "  41  42  43  44  45  46  47  48  49  50  51  52  53  54  55  56  57  58\n",
      "  59  61  63  65  66  68  69  70  71  72  73  74  75  76  77  78  79  80\n",
      "  81  82  83  84  85  86  87  88  89  90  91  92  93  94  95  97 100 101\n",
      " 102 103 104 105 106 107 110 111 112 113 114 115 116 117 118 120 121 122\n",
      " 123 124 125 126 127 128 129 130 132 133 134 135 136 137 138 139 140 141\n",
      " 142 143 144 145 146 147 148 150 151 152 153 154 155 156 157 158 159 160\n",
      " 162 163 164 165 166 167 168 169 170 172 173 174 175 176 177 178 180 181\n",
      " 182 183 184 185 186 187 188 189 190 191 192 193 194 195 196 197 198 199\n",
      " 200 201 202 203 204 205 206 207 208 209 210 211 212 213 214 215 216 217\n",
      " 218 219 220 222 223 224 225 226 227 228 229 230 231 232 233 234 235 237\n",
      " 238 239 240 241 242 243 244 245 246 247 248 249 250 251 252 253 254 257\n",
      " 258 259 260 261 262 263 264 266 267 268 269 270 271 272 273 274 275 276\n",
      " 277 278 279 280 281 282 283 284 285 286 287 288 289 290 291 292 294 295\n",
      " 296 297 298 299 300 302 303 304 306 307 308 309 310 311 312 313 314 316\n",
      " 317 318 320 321 322 323 324 326 327 328 329 330 331 332 333 334 335 336\n",
      " 337 338 339 340 341 342 343 344 345 346 347 348 350 351 352 353 354 355\n",
      " 356 357 358 359 360 361 362 363 364 365 366 367 368 369 371 372 373 374\n",
      " 375 376 377 378 379 380 381 382 383 384 385 386 387 388 389 390 391 392\n",
      " 393 394 395 396 397 398 399 400 401 402 403 404 405 406 407 408 409 410\n",
      " 411 412 413 414 415 416 417 418 419 420 422 423 424 425 426 427 428 429\n",
      " 430 432 433 434 435 436 437 438 439 441 442 443 444 445 446 448 450 451\n",
      " 452 453 454 455 456 457 458 459 460 461 462 463 464 465 468 469 470 471\n",
      " 472 473 474 475 476 477 478 479 480 481 482 483 484 485 486 487 488 489\n",
      " 490 492 493 494 495 496 498 499 500 501 502 503 504 505 506 507 508 509\n",
      " 510 511 512 513 514 515 516 517 518 519 520 521 523 525 526 528 529 531\n",
      " 532 533 534 536 538 539 541 542 543 545 546 547 548 550 552 553 554 555\n",
      " 556 557 558 559 560 561 562 564 565 566 567 568 570 571 572 573 574 575\n",
      " 576 577 578 579 580 584 586 587 588 589 591 592 593 594 595 597 598 599\n",
      " 600 601 602 603 604 605 606 608 609 610 611 612 613 614 615 616 617 618\n",
      " 619 620 621 622 623 624 625 626 627 628 629 630 631 632 633 634 636 637\n",
      " 638 639 640 641 642 643 645 646 648 649 650 651 652 653 654 656 657 659\n",
      " 660 661 662 663 664 665 667 668 669 670 671 672 673 674 675 676 677 678\n",
      " 680 681 682 683 685 686 687 688 689 690 691 692 693 694 695 696 697 699\n",
      " 700 701 702 703 704 705 706 707 708 709 710 711 712 713 714 715 716 717\n",
      " 718 719 720 721 722 724 725 726 727 728 729 730 731 732 733 734 735 736\n",
      " 737 738 739 740 743 744 745 746 748 749 751 752 753 755 756 757 758 759\n",
      " 760 761 762 763 764 765 766] Test =  [  4   5  25  27  36  60  62  64  67  96  98  99 108 109 119 131 149 161\n",
      " 171 179 221 236 255 256 265 293 301 305 315 319 325 349 370 421 431 440\n",
      " 447 449 466 467 491 497 522 524 527 530 535 537 540 544 549 551 563 569\n",
      " 581 582 583 585 590 596 607 635 644 647 655 658 666 679 684 698 723 741\n",
      " 742 747 750 754 767]\n",
      "Train =  [  0   1   2   3   4   5   6   7   8   9  10  11  12  13  14  16  17  18\n",
      "  19  20  21  22  24  25  26  27  29  30  31  32  33  34  35  36  37  38\n",
      "  39  40  41  42  43  44  45  46  47  48  50  51  53  54  55  56  57  58\n",
      "  60  62  63  64  65  66  67  69  70  71  72  73  74  76  77  78  79  80\n",
      "  81  82  83  84  85  86  87  88  89  90  91  92  93  94  95  96  97  98\n",
      "  99 100 101 102 103 104 105 106 107 108 109 110 111 112 113 114 115 116\n",
      " 117 119 120 121 122 123 124 125 126 127 128 129 130 131 133 134 135 136\n",
      " 137 138 139 140 141 143 144 145 146 147 148 149 150 151 152 153 154 155\n",
      " 157 158 159 160 161 162 164 166 167 168 169 170 171 173 174 177 178 179\n",
      " 180 181 182 183 184 185 186 187 188 189 190 191 192 193 194 195 196 197\n",
      " 198 199 200 201 203 204 205 207 209 211 212 213 214 215 216 217 218 219\n",
      " 220 221 222 223 224 225 226 227 228 230 231 232 233 234 235 236 237 238\n",
      " 239 240 241 242 243 244 246 247 248 249 250 251 252 253 254 255 256 257\n",
      " 258 259 260 261 262 263 264 265 266 267 268 269 270 271 272 273 274 275\n",
      " 276 278 279 280 281 282 283 284 285 286 287 288 290 291 292 293 294 295\n",
      " 298 299 300 301 302 303 304 305 306 307 308 309 310 312 313 314 315 317\n",
      " 318 319 320 321 322 323 324 325 326 327 328 329 330 331 332 333 334 335\n",
      " 336 337 338 340 341 343 344 345 346 347 349 351 352 354 355 356 357 358\n",
      " 359 360 361 362 363 364 365 366 367 368 369 370 371 373 374 375 376 377\n",
      " 378 379 381 382 383 384 385 386 387 388 389 390 391 392 393 395 396 397\n",
      " 398 399 400 401 402 403 404 405 406 408 409 411 412 413 414 415 416 417\n",
      " 418 419 420 421 422 423 424 425 426 427 428 429 430 431 432 434 435 436\n",
      " 437 438 439 440 441 442 443 446 447 448 449 450 451 452 454 455 456 457\n",
      " 458 459 460 461 463 464 465 466 467 468 469 470 471 472 473 474 477 478\n",
      " 479 480 481 482 483 484 485 486 487 488 489 490 491 492 493 494 495 496\n",
      " 497 499 500 501 502 503 504 505 506 507 508 509 510 511 512 513 514 515\n",
      " 517 518 519 520 522 523 524 525 526 527 529 530 531 533 534 535 536 537\n",
      " 538 539 540 541 542 543 544 545 547 548 549 551 552 553 554 556 557 558\n",
      " 559 560 562 563 565 567 568 569 570 571 572 573 574 575 576 577 578 579\n",
      " 580 581 582 583 584 585 586 587 588 589 590 591 592 593 594 595 596 597\n",
      " 598 600 602 603 604 605 606 607 608 609 611 612 613 614 615 616 617 618\n",
      " 620 621 622 623 624 625 626 627 628 629 630 631 632 633 634 635 636 637\n",
      " 638 639 640 641 642 643 644 645 646 647 648 650 651 652 653 654 655 656\n",
      " 657 658 659 660 661 662 663 664 665 666 667 668 669 670 671 672 673 674\n",
      " 675 676 677 678 679 680 681 682 683 684 685 686 687 688 690 691 692 694\n",
      " 695 696 697 698 699 700 701 702 703 704 705 706 707 708 709 710 712 713\n",
      " 714 715 717 718 720 721 723 724 728 730 732 733 734 735 736 737 738 740\n",
      " 741 742 743 744 745 746 747 748 749 750 751 752 754 755 757 758 759 760\n",
      " 761 762 763 764 765 766 767] Test =  [ 15  23  28  49  52  59  61  68  75 118 132 142 156 163 165 172 175 176\n",
      " 202 206 208 210 229 245 277 289 296 297 311 316 339 342 348 350 353 372\n",
      " 380 394 407 410 433 444 445 453 462 475 476 498 516 521 528 532 546 550\n",
      " 555 561 564 566 599 601 610 619 649 689 693 711 716 719 722 725 726 727\n",
      " 729 731 739 753 756]\n",
      "Train =  [  0   1   2   3   4   5   6   7   9  10  11  12  13  14  15  16  17  18\n",
      "  20  21  22  23  25  26  27  28  29  30  32  33  35  36  37  38  39  40\n",
      "  41  42  44  45  46  47  49  50  51  52  54  55  57  58  59  60  61  62\n",
      "  63  64  65  66  67  68  69  70  71  72  74  75  76  77  78  79  80  81\n",
      "  82  83  84  85  87  88  89  90  91  92  93  95  96  97  98  99 100 106\n",
      " 108 109 110 111 112 113 114 115 116 117 118 119 120 122 124 126 127 129\n",
      " 130 131 132 134 135 136 137 138 139 140 141 142 143 144 145 146 147 149\n",
      " 150 151 152 153 154 155 156 157 158 160 161 162 163 164 165 166 167 168\n",
      " 169 170 171 172 173 174 175 176 177 178 179 180 181 182 183 184 185 186\n",
      " 187 188 189 190 193 194 195 197 198 199 200 201 202 203 204 205 206 207\n",
      " 208 209 210 211 212 213 214 215 216 217 218 220 221 222 223 224 225 226\n",
      " 227 228 229 231 232 233 234 235 236 237 238 239 240 241 242 244 245 246\n",
      " 247 248 249 250 251 252 253 254 255 256 257 258 259 260 262 263 265 266\n",
      " 267 268 269 270 271 272 273 274 275 276 277 278 279 280 281 282 283 284\n",
      " 285 286 287 288 289 290 291 292 293 294 295 296 297 298 299 300 301 302\n",
      " 303 304 305 306 307 308 309 310 311 312 314 315 316 317 318 319 320 321\n",
      " 322 323 324 325 326 327 329 330 331 332 333 334 335 337 338 339 340 341\n",
      " 342 343 344 345 346 347 348 349 350 353 354 355 356 357 358 359 360 362\n",
      " 363 364 366 368 369 370 371 372 373 374 378 379 380 381 382 383 385 386\n",
      " 387 389 390 391 392 393 394 395 396 397 398 399 400 401 402 403 404 405\n",
      " 407 408 410 411 412 414 415 417 418 419 420 421 422 423 424 425 426 427\n",
      " 428 429 430 431 432 433 434 435 436 437 438 439 440 441 442 443 444 445\n",
      " 446 447 448 449 450 451 452 453 455 456 457 458 459 460 461 462 464 465\n",
      " 466 467 468 469 470 471 472 473 474 475 476 477 478 480 481 482 483 484\n",
      " 486 487 488 489 490 491 492 493 494 495 497 498 499 500 501 503 504 505\n",
      " 506 507 508 509 510 511 512 513 514 516 517 518 519 520 521 522 523 524\n",
      " 525 526 527 528 529 530 531 532 533 534 535 536 537 538 539 540 541 542\n",
      " 544 545 546 547 548 549 550 551 552 553 555 558 559 560 561 562 563 564\n",
      " 566 567 568 569 570 571 572 573 574 575 576 577 578 579 580 581 582 583\n",
      " 584 585 586 587 588 589 590 591 592 593 594 595 596 597 598 599 600 601\n",
      " 603 604 605 606 607 608 609 610 611 612 613 614 615 616 617 618 619 620\n",
      " 621 622 623 624 626 627 628 630 631 632 633 634 635 637 638 639 640 641\n",
      " 642 643 644 646 647 649 650 651 652 653 654 655 656 657 658 659 660 661\n",
      " 662 663 664 666 667 668 669 671 672 673 674 675 676 677 678 679 680 681\n",
      " 682 683 684 686 687 688 689 690 691 692 693 694 695 696 697 698 700 701\n",
      " 702 703 704 705 706 707 708 709 710 711 712 713 715 716 717 718 719 720\n",
      " 721 722 723 724 725 726 727 729 730 731 732 733 734 736 737 738 739 740\n",
      " 741 742 743 744 747 748 749 750 751 752 753 754 755 756 757 758 759 760\n",
      " 761 762 763 764 765 766 767] Test =  [  8  19  24  31  34  43  48  53  56  73  86  94 101 102 103 104 105 107\n",
      " 121 123 125 128 133 148 159 191 192 196 219 230 243 261 264 313 328 336\n",
      " 351 352 361 365 367 375 376 377 384 388 406 409 413 416 454 463 479 485\n",
      " 496 502 515 543 554 556 557 565 602 625 629 636 645 648 665 670 685 699\n",
      " 714 728 735 745 746]\n",
      "Train =  [  0   1   2   3   4   5   6   7   8  10  11  12  13  14  15  16  17  18\n",
      "  19  20  21  22  23  24  25  26  27  28  29  30  31  32  33  34  35  36\n",
      "  37  38  39  40  41  42  43  44  45  47  48  49  50  51  52  53  54  55\n",
      "  56  57  58  59  60  61  62  63  64  65  66  67  68  71  72  73  75  77\n",
      "  78  79  80  81  82  83  84  85  86  87  88  89  91  92  93  94  95  96\n",
      "  97  98  99 100 101 102 103 104 105 106 107 108 109 110 111 112 113 115\n",
      " 117 118 119 120 121 123 124 125 126 127 128 129 130 131 132 133 134 135\n",
      " 136 137 138 139 141 142 143 144 145 146 147 148 149 150 151 152 153 154\n",
      " 155 156 157 158 159 160 161 162 163 164 165 166 167 168 169 170 171 172\n",
      " 173 174 175 176 177 178 179 180 181 182 183 184 185 186 187 188 189 190\n",
      " 191 192 193 194 195 196 197 198 199 200 201 202 203 204 206 207 208 210\n",
      " 211 212 213 215 216 217 218 219 220 221 222 223 224 225 226 227 228 229\n",
      " 230 232 233 234 236 237 239 240 241 242 243 244 245 246 247 249 250 251\n",
      " 252 255 256 258 259 261 262 263 264 265 266 268 269 270 271 272 273 274\n",
      " 275 276 277 279 280 281 282 283 284 285 286 287 288 289 291 292 293 296\n",
      " 297 298 299 301 304 305 306 307 308 309 310 311 313 314 315 316 317 319\n",
      " 321 322 323 324 325 326 327 328 329 330 331 332 333 334 335 336 337 338\n",
      " 339 341 342 343 345 346 347 348 349 350 351 352 353 354 355 356 357 358\n",
      " 359 360 361 362 363 364 365 367 368 369 370 371 372 373 375 376 377 378\n",
      " 379 380 381 383 384 385 386 387 388 389 390 391 393 394 395 396 397 398\n",
      " 399 400 401 402 403 404 405 406 407 408 409 410 413 414 415 416 418 419\n",
      " 420 421 425 427 429 430 431 433 434 435 436 437 438 439 440 441 442 443\n",
      " 444 445 446 447 448 449 450 451 453 454 455 457 458 459 460 461 462 463\n",
      " 464 465 466 467 468 469 470 471 472 474 475 476 477 478 479 481 482 484\n",
      " 485 487 488 489 490 491 492 493 494 496 497 498 499 500 501 502 505 506\n",
      " 507 508 509 511 512 513 514 515 516 517 518 519 520 521 522 523 524 525\n",
      " 526 527 528 529 530 531 532 533 534 535 537 538 539 540 541 542 543 544\n",
      " 545 546 547 548 549 550 551 552 553 554 555 556 557 558 561 562 563 564\n",
      " 565 566 567 568 569 570 571 572 573 574 575 577 578 580 581 582 583 584\n",
      " 585 586 588 589 590 591 592 593 595 596 597 598 599 600 601 602 603 604\n",
      " 605 606 607 608 609 610 612 613 614 615 616 617 618 619 620 621 622 624\n",
      " 625 626 627 628 629 631 632 633 634 635 636 637 638 639 640 641 642 643\n",
      " 644 645 647 648 649 650 651 652 654 655 656 657 658 659 660 661 662 664\n",
      " 665 666 667 669 670 671 672 673 674 675 676 677 678 679 680 681 682 683\n",
      " 684 685 686 687 688 689 690 691 692 693 694 695 696 697 698 699 700 701\n",
      " 702 703 705 706 707 708 710 711 712 713 714 715 716 717 718 719 721 722\n",
      " 723 724 725 726 727 728 729 730 731 733 734 735 736 737 738 739 740 741\n",
      " 742 743 744 745 746 747 748 749 750 751 752 753 754 756 757 758 759 760\n",
      " 761 762 763 764 765 766 767] Test =  [  9  46  69  70  74  76  90 114 116 122 140 205 209 214 231 235 238 248\n",
      " 253 254 257 260 267 278 290 294 295 300 302 303 312 318 320 340 344 366\n",
      " 374 382 392 411 412 417 422 423 424 426 428 432 452 456 473 480 483 486\n",
      " 495 503 504 510 536 559 560 576 579 587 594 611 623 630 646 653 663 668\n",
      " 704 709 720 732 755]\n"
     ]
    },
    {
     "name": "stdout",
     "output_type": "stream",
     "text": [
      "Train =  [  0   1   2   3   4   5   6   7   8   9  10  11  12  13  14  15  16  18\n",
      "  19  20  23  24  25  26  27  28  30  31  33  34  35  36  37  38  39  40\n",
      "  41  42  43  44  45  46  48  49  50  51  52  53  55  56  57  58  59  60\n",
      "  61  62  64  66  67  68  69  70  71  72  73  74  75  76  77  78  79  80\n",
      "  81  82  83  85  86  87  88  89  90  91  92  93  94  95  96  97  98  99\n",
      " 100 101 102 103 104 105 106 107 108 109 110 111 113 114 115 116 117 118\n",
      " 119 121 122 123 124 125 126 127 128 129 131 132 133 134 135 136 137 138\n",
      " 139 140 141 142 143 144 146 147 148 149 150 151 152 153 154 155 156 157\n",
      " 159 160 161 162 163 164 165 166 167 168 169 170 171 172 173 175 176 177\n",
      " 178 179 180 181 182 183 184 185 186 187 188 189 190 191 192 193 194 195\n",
      " 196 197 198 199 200 201 202 203 204 205 206 208 209 210 211 212 213 214\n",
      " 215 216 218 219 220 221 222 223 225 226 227 228 229 230 231 233 234 235\n",
      " 236 237 238 239 240 241 242 243 244 245 246 247 248 249 250 251 252 253\n",
      " 254 255 256 257 258 259 260 261 262 263 264 265 266 267 268 269 270 271\n",
      " 273 274 276 277 278 279 280 282 283 284 285 286 287 288 289 290 291 292\n",
      " 293 294 295 296 297 298 299 300 301 302 303 304 305 306 308 309 310 311\n",
      " 312 313 314 315 316 317 318 319 320 322 323 324 325 327 328 331 332 334\n",
      " 335 336 337 338 339 340 341 342 343 344 345 346 347 348 349 350 351 352\n",
      " 353 354 355 356 357 358 360 361 362 364 365 366 367 368 369 370 371 372\n",
      " 373 374 375 376 377 378 379 380 381 382 383 384 385 386 388 389 390 391\n",
      " 392 393 394 395 397 399 401 402 403 406 407 408 409 410 411 412 413 414\n",
      " 415 416 417 418 419 420 421 422 423 424 425 426 428 429 430 431 432 433\n",
      " 434 435 436 437 438 439 440 441 442 443 444 445 446 447 448 449 451 452\n",
      " 453 454 455 456 457 459 461 462 463 464 465 466 467 468 469 470 471 472\n",
      " 473 474 475 476 477 479 480 481 482 483 484 485 486 487 489 490 491 492\n",
      " 493 494 495 496 497 498 499 500 501 502 503 504 505 506 508 509 510 511\n",
      " 512 513 514 515 516 517 518 519 520 521 522 523 524 526 527 528 529 530\n",
      " 531 532 534 535 536 537 538 539 540 541 543 544 545 546 547 548 549 550\n",
      " 551 552 553 554 555 556 557 558 559 560 561 562 563 564 565 566 568 569\n",
      " 570 571 572 574 575 576 577 579 580 581 582 583 584 585 586 587 589 590\n",
      " 591 592 593 594 595 596 597 598 599 600 601 602 603 604 605 606 607 608\n",
      " 609 610 611 612 613 615 616 618 619 620 622 623 624 625 627 628 629 630\n",
      " 631 633 634 635 636 637 638 639 641 642 644 645 646 647 648 649 650 651\n",
      " 652 653 654 655 656 658 662 663 664 665 666 667 668 669 670 672 673 674\n",
      " 675 676 678 679 680 681 683 684 685 687 688 689 690 691 692 693 694 695\n",
      " 696 698 699 703 704 705 707 708 709 710 711 712 714 715 716 717 718 719\n",
      " 720 721 722 723 724 725 726 727 728 729 731 732 733 734 735 737 738 739\n",
      " 740 741 742 743 744 745 746 747 749 750 751 752 753 754 755 756 757 758\n",
      " 759 760 762 763 764 765 766 767] Test =  [ 17  21  22  29  32  47  54  63  65  84 112 120 130 145 158 174 207 217\n",
      " 224 232 272 275 281 307 321 326 329 330 333 359 363 387 396 398 400 404\n",
      " 405 427 450 458 460 478 488 507 525 533 542 567 573 578 588 614 617 621\n",
      " 626 632 640 643 657 659 660 661 671 677 682 686 697 700 701 702 706 713\n",
      " 730 736 748 761]\n",
      "Train =  [  0   1   2   3   4   5   7   8   9  10  11  12  13  14  15  16  17  19\n",
      "  20  21  22  23  24  25  26  27  28  29  31  32  33  34  35  36  38  39\n",
      "  42  43  45  46  47  48  49  50  51  52  53  54  56  57  58  59  60  61\n",
      "  62  63  64  65  66  67  68  69  70  71  72  73  74  75  76  77  78  80\n",
      "  81  83  84  85  86  87  88  90  91  92  93  94  96  97  98  99 100 101\n",
      " 102 103 104 105 106 107 108 109 110 112 113 114 115 116 117 118 119 120\n",
      " 121 122 123 124 125 127 128 130 131 132 133 134 135 136 137 138 139 140\n",
      " 141 142 143 144 145 146 147 148 149 150 151 152 153 154 155 156 157 158\n",
      " 159 160 161 162 163 165 166 167 168 169 170 171 172 173 174 175 176 177\n",
      " 178 179 180 181 182 184 185 186 188 189 191 192 194 195 196 198 199 200\n",
      " 201 202 203 204 205 206 207 208 209 210 212 213 214 215 216 217 218 219\n",
      " 220 221 222 223 224 225 226 228 229 230 231 232 233 234 235 236 237 238\n",
      " 239 240 241 243 245 246 247 248 251 252 253 254 255 256 257 259 260 261\n",
      " 262 263 264 265 266 267 268 269 270 271 272 273 274 275 276 277 278 279\n",
      " 281 282 283 285 286 288 289 290 291 292 293 294 295 296 297 299 300 301\n",
      " 302 303 304 305 306 307 308 309 310 311 312 313 314 315 316 317 318 319\n",
      " 320 321 322 323 324 325 326 328 329 330 331 333 336 338 339 340 341 342\n",
      " 343 344 345 346 348 349 350 351 352 353 355 357 358 359 360 361 362 363\n",
      " 365 366 367 368 369 370 371 372 373 374 375 376 377 379 380 381 382 384\n",
      " 386 387 388 389 390 391 392 393 394 396 397 398 399 400 401 402 403 404\n",
      " 405 406 407 408 409 410 411 412 413 416 417 418 419 420 421 422 423 424\n",
      " 425 426 427 428 430 431 432 433 434 435 436 437 438 439 440 441 443 444\n",
      " 445 446 447 448 449 450 451 452 453 454 455 456 458 459 460 461 462 463\n",
      " 466 467 468 469 470 471 472 473 474 475 476 478 479 480 481 483 484 485\n",
      " 486 487 488 490 491 493 494 495 496 497 498 499 500 502 503 504 505 506\n",
      " 507 508 509 510 511 512 515 516 517 518 519 520 521 522 523 524 525 526\n",
      " 527 528 529 530 532 533 534 535 536 537 538 539 540 541 542 543 544 545\n",
      " 546 547 548 549 550 551 552 553 554 555 556 557 558 559 560 561 562 563\n",
      " 564 565 566 567 568 569 570 571 572 573 574 576 577 578 579 580 581 582\n",
      " 583 584 585 586 587 588 590 592 593 594 595 596 597 598 599 600 601 602\n",
      " 603 604 605 606 607 608 610 611 612 613 614 615 617 618 619 620 621 622\n",
      " 623 624 625 626 627 628 629 630 631 632 633 634 635 636 637 639 640 641\n",
      " 642 643 644 645 646 647 648 649 651 653 654 655 656 657 658 659 660 661\n",
      " 662 663 664 665 666 667 668 669 670 671 673 674 675 676 677 678 679 680\n",
      " 681 682 683 684 685 686 687 689 690 692 693 694 695 696 697 698 699 700\n",
      " 701 702 703 704 705 706 707 709 710 711 712 713 714 715 716 717 718 719\n",
      " 720 721 722 723 724 725 726 727 728 729 730 731 732 733 734 735 736 737\n",
      " 738 739 740 741 742 744 745 746 747 748 749 750 752 753 754 755 756 758\n",
      " 759 760 761 763 764 765 766 767] Test =  [  6  18  30  37  40  41  44  55  79  82  89  95 111 126 129 164 183 187\n",
      " 190 193 197 211 227 242 244 249 250 258 280 284 287 298 327 332 334 335\n",
      " 337 347 354 356 364 378 383 385 395 414 415 429 442 457 464 465 477 482\n",
      " 489 492 501 513 514 531 575 589 591 609 616 638 650 652 672 688 691 708\n",
      " 743 751 757 762]\n"
     ]
    }
   ],
   "source": [
    "accuracy = []\n",
    "for train_index,test_index in stf.split(X,y):\n",
    "    print('Train = ',train_index,'Test = ',test_index) \n",
    "    X1_train,X1_test = X.iloc[train_index],X.iloc[test_index]  #fetching the original data points using iloc\n",
    "    y1_train,y1_test = y.iloc[train_index],y.iloc[test_index]\n",
    "    dtc.fit(X1_train,y1_train)\n",
    "    y1_pred=dtc.predict(X1_test)\n",
    "    accuracy.append(accuracy_score(y1_test,y1_pred))"
   ]
  },
  {
   "cell_type": "code",
   "execution_count": 29,
   "id": "d2629174",
   "metadata": {},
   "outputs": [
    {
     "data": {
      "text/plain": [
       "[0.6623376623376623,\n",
       " 0.6883116883116883,\n",
       " 0.7272727272727273,\n",
       " 0.7402597402597403,\n",
       " 0.7532467532467533,\n",
       " 0.7272727272727273,\n",
       " 0.5714285714285714,\n",
       " 0.7272727272727273,\n",
       " 0.6710526315789473,\n",
       " 0.6578947368421053]"
      ]
     },
     "execution_count": 29,
     "metadata": {},
     "output_type": "execute_result"
    }
   ],
   "source": [
    "accuracy"
   ]
  },
  {
   "cell_type": "code",
   "execution_count": 30,
   "id": "ceff4499",
   "metadata": {},
   "outputs": [
    {
     "data": {
      "text/plain": [
       "0.6926349965823649"
      ]
     },
     "execution_count": 30,
     "metadata": {},
     "output_type": "execute_result"
    }
   ],
   "source": [
    "np.mean(accuracy)"
   ]
  },
  {
   "cell_type": "markdown",
   "id": "35d9f88b",
   "metadata": {},
   "source": [
    "##  Hyperparameter Tuning using GridSearchCV"
   ]
  },
  {
   "cell_type": "code",
   "execution_count": 31,
   "id": "185779c1",
   "metadata": {},
   "outputs": [],
   "source": [
    "dtc = DecisionTreeClassifier()"
   ]
  },
  {
   "cell_type": "code",
   "execution_count": 32,
   "id": "58da479e",
   "metadata": {},
   "outputs": [],
   "source": [
    "param = {'min_weight_fraction_leaf':[0.0,0.1,0.2,0.3],'max_features':['auto', 'sqrt', 'log2',1,2,3,4,5,6,7,8,0.5]}"
   ]
  },
  {
   "cell_type": "code",
   "execution_count": 33,
   "id": "74068c9b",
   "metadata": {},
   "outputs": [],
   "source": [
    "gcv = GridSearchCV(estimator=dtc,param_grid=param,cv=10)"
   ]
  },
  {
   "cell_type": "code",
   "execution_count": 34,
   "id": "2d1b0896",
   "metadata": {},
   "outputs": [
    {
     "data": {
      "text/plain": [
       "GridSearchCV(cv=10, estimator=DecisionTreeClassifier(),\n",
       "             param_grid={'max_features': ['auto', 'sqrt', 'log2', 1, 2, 3, 4, 5,\n",
       "                                          6, 7, 8, 0.5],\n",
       "                         'min_weight_fraction_leaf': [0.0, 0.1, 0.2, 0.3]})"
      ]
     },
     "execution_count": 34,
     "metadata": {},
     "output_type": "execute_result"
    }
   ],
   "source": [
    "gcv.fit(X,y)"
   ]
  },
  {
   "cell_type": "code",
   "execution_count": 35,
   "id": "0fd8edcc",
   "metadata": {},
   "outputs": [
    {
     "data": {
      "text/plain": [
       "{'max_features': 7, 'min_weight_fraction_leaf': 0.1}"
      ]
     },
     "execution_count": 35,
     "metadata": {},
     "output_type": "execute_result"
    }
   ],
   "source": [
    "gcv.best_params_"
   ]
  },
  {
   "cell_type": "code",
   "execution_count": 36,
   "id": "6f22a95b",
   "metadata": {},
   "outputs": [],
   "source": [
    "dtc=DecisionTreeClassifier(max_features=7,min_weight_fraction_leaf=0.1)"
   ]
  },
  {
   "cell_type": "code",
   "execution_count": 37,
   "id": "b8f27d68",
   "metadata": {},
   "outputs": [],
   "source": [
    "accuracy = []\n",
    "for train_index,test_index in stf.split(X,y):\n",
    "    #print('Train = ',train_index,'Test = ',test_index) \n",
    "    X1_train,X1_test = X.iloc[train_index],X.iloc[test_index]  #fetching the original data points using iloc\n",
    "    y1_train,y1_test = y.iloc[train_index],y.iloc[test_index]\n",
    "    dtc.fit(X1_train,y1_train)\n",
    "    y1_pred=dtc.predict(X1_test)\n",
    "    accuracy.append(accuracy_score(y1_test,y1_pred))"
   ]
  },
  {
   "cell_type": "code",
   "execution_count": 38,
   "id": "3906e333",
   "metadata": {},
   "outputs": [
    {
     "data": {
      "text/plain": [
       "0.7252221462747779"
      ]
     },
     "execution_count": 38,
     "metadata": {},
     "output_type": "execute_result"
    }
   ],
   "source": [
    "np.mean(accuracy)"
   ]
  },
  {
   "cell_type": "markdown",
   "id": "d1b9d084",
   "metadata": {},
   "source": [
    "Making prediction for new record"
   ]
  },
  {
   "cell_type": "code",
   "execution_count": 39,
   "id": "c1de2886",
   "metadata": {},
   "outputs": [],
   "source": [
    "new_record=[[1,120,70,20,0,28,0.88,32]]"
   ]
  },
  {
   "cell_type": "code",
   "execution_count": 40,
   "id": "36aa4bf8",
   "metadata": {},
   "outputs": [
    {
     "name": "stderr",
     "output_type": "stream",
     "text": [
      "C:\\Users\\lenovo\\anaconda3\\lib\\site-packages\\sklearn\\base.py:450: UserWarning: X does not have valid feature names, but DecisionTreeClassifier was fitted with feature names\n",
      "  warnings.warn(\n"
     ]
    },
    {
     "data": {
      "text/plain": [
       "array([1], dtype=int64)"
      ]
     },
     "execution_count": 40,
     "metadata": {},
     "output_type": "execute_result"
    }
   ],
   "source": [
    "model.predict(new_record)"
   ]
  },
  {
   "cell_type": "code",
   "execution_count": 41,
   "id": "8cf7b86b",
   "metadata": {},
   "outputs": [
    {
     "name": "stderr",
     "output_type": "stream",
     "text": [
      "C:\\Users\\lenovo\\anaconda3\\lib\\site-packages\\sklearn\\base.py:450: UserWarning: X does not have valid feature names, but DecisionTreeClassifier was fitted with feature names\n",
      "  warnings.warn(\n"
     ]
    },
    {
     "data": {
      "text/plain": [
       "array([[0., 1.]])"
      ]
     },
     "execution_count": 41,
     "metadata": {},
     "output_type": "execute_result"
    }
   ],
   "source": [
    "model.predict_proba(new_record)"
   ]
  },
  {
   "cell_type": "code",
   "execution_count": 42,
   "id": "6d0b6199",
   "metadata": {},
   "outputs": [],
   "source": [
    "new_record=[[1,80,70,20,0,28,0.88,32]]"
   ]
  },
  {
   "cell_type": "code",
   "execution_count": 43,
   "id": "e1f6659f",
   "metadata": {},
   "outputs": [
    {
     "name": "stderr",
     "output_type": "stream",
     "text": [
      "C:\\Users\\lenovo\\anaconda3\\lib\\site-packages\\sklearn\\base.py:450: UserWarning: X does not have valid feature names, but DecisionTreeClassifier was fitted with feature names\n",
      "  warnings.warn(\n"
     ]
    },
    {
     "data": {
      "text/plain": [
       "array([0], dtype=int64)"
      ]
     },
     "execution_count": 43,
     "metadata": {},
     "output_type": "execute_result"
    }
   ],
   "source": [
    "model.predict(new_record)"
   ]
  },
  {
   "cell_type": "code",
   "execution_count": 44,
   "id": "c22b9108",
   "metadata": {},
   "outputs": [
    {
     "name": "stderr",
     "output_type": "stream",
     "text": [
      "C:\\Users\\lenovo\\anaconda3\\lib\\site-packages\\sklearn\\base.py:450: UserWarning: X does not have valid feature names, but DecisionTreeClassifier was fitted with feature names\n",
      "  warnings.warn(\n"
     ]
    },
    {
     "data": {
      "text/plain": [
       "array([[1., 0.]])"
      ]
     },
     "execution_count": 44,
     "metadata": {},
     "output_type": "execute_result"
    }
   ],
   "source": [
    "model.predict_proba(new_record)"
   ]
  },
  {
   "cell_type": "code",
   "execution_count": 45,
   "id": "829e48b9",
   "metadata": {},
   "outputs": [],
   "source": [
    "new_record=[[1,80,70,20,0,28,0.88,32],[0,90,66,30,40,24,0.5,30]]"
   ]
  },
  {
   "cell_type": "code",
   "execution_count": 46,
   "id": "946daebe",
   "metadata": {
    "scrolled": true
   },
   "outputs": [
    {
     "name": "stderr",
     "output_type": "stream",
     "text": [
      "C:\\Users\\lenovo\\anaconda3\\lib\\site-packages\\sklearn\\base.py:450: UserWarning: X does not have valid feature names, but DecisionTreeClassifier was fitted with feature names\n",
      "  warnings.warn(\n"
     ]
    },
    {
     "data": {
      "text/plain": [
       "array([0, 0], dtype=int64)"
      ]
     },
     "execution_count": 46,
     "metadata": {},
     "output_type": "execute_result"
    }
   ],
   "source": [
    "model.predict(new_record)"
   ]
  },
  {
   "cell_type": "code",
   "execution_count": 47,
   "id": "8e58053e",
   "metadata": {},
   "outputs": [
    {
     "name": "stderr",
     "output_type": "stream",
     "text": [
      "C:\\Users\\lenovo\\anaconda3\\lib\\site-packages\\sklearn\\base.py:450: UserWarning: X does not have valid feature names, but DecisionTreeClassifier was fitted with feature names\n",
      "  warnings.warn(\n"
     ]
    },
    {
     "data": {
      "text/plain": [
       "array([[1., 0.],\n",
       "       [1., 0.]])"
      ]
     },
     "execution_count": 47,
     "metadata": {},
     "output_type": "execute_result"
    }
   ],
   "source": [
    "model.predict_proba(new_record)"
   ]
  },
  {
   "cell_type": "code",
   "execution_count": 48,
   "id": "aec74036",
   "metadata": {},
   "outputs": [],
   "source": [
    "new_record=pd.DataFrame(new_record,columns=df.drop('Outcome',axis=1).columns)"
   ]
  },
  {
   "cell_type": "code",
   "execution_count": 49,
   "id": "ec229c88",
   "metadata": {},
   "outputs": [
    {
     "data": {
      "text/html": [
       "<div>\n",
       "<style scoped>\n",
       "    .dataframe tbody tr th:only-of-type {\n",
       "        vertical-align: middle;\n",
       "    }\n",
       "\n",
       "    .dataframe tbody tr th {\n",
       "        vertical-align: top;\n",
       "    }\n",
       "\n",
       "    .dataframe thead th {\n",
       "        text-align: right;\n",
       "    }\n",
       "</style>\n",
       "<table border=\"1\" class=\"dataframe\">\n",
       "  <thead>\n",
       "    <tr style=\"text-align: right;\">\n",
       "      <th></th>\n",
       "      <th>Pregnancies</th>\n",
       "      <th>Glucose</th>\n",
       "      <th>BloodPressure</th>\n",
       "      <th>SkinThickness</th>\n",
       "      <th>Insulin</th>\n",
       "      <th>BMI</th>\n",
       "      <th>DiabetesPedigreeF</th>\n",
       "      <th>Age</th>\n",
       "    </tr>\n",
       "  </thead>\n",
       "  <tbody>\n",
       "    <tr>\n",
       "      <th>0</th>\n",
       "      <td>1</td>\n",
       "      <td>80</td>\n",
       "      <td>70</td>\n",
       "      <td>20</td>\n",
       "      <td>0</td>\n",
       "      <td>28</td>\n",
       "      <td>0.88</td>\n",
       "      <td>32</td>\n",
       "    </tr>\n",
       "    <tr>\n",
       "      <th>1</th>\n",
       "      <td>0</td>\n",
       "      <td>90</td>\n",
       "      <td>66</td>\n",
       "      <td>30</td>\n",
       "      <td>40</td>\n",
       "      <td>24</td>\n",
       "      <td>0.50</td>\n",
       "      <td>30</td>\n",
       "    </tr>\n",
       "  </tbody>\n",
       "</table>\n",
       "</div>"
      ],
      "text/plain": [
       "   Pregnancies  Glucose  BloodPressure  SkinThickness  Insulin  BMI  \\\n",
       "0            1       80             70             20        0   28   \n",
       "1            0       90             66             30       40   24   \n",
       "\n",
       "   DiabetesPedigreeF  Age  \n",
       "0               0.88   32  \n",
       "1               0.50   30  "
      ]
     },
     "execution_count": 49,
     "metadata": {},
     "output_type": "execute_result"
    }
   ],
   "source": [
    "new_record"
   ]
  },
  {
   "cell_type": "code",
   "execution_count": 50,
   "id": "b9f98729",
   "metadata": {},
   "outputs": [
    {
     "data": {
      "text/plain": [
       "array([0, 0], dtype=int64)"
      ]
     },
     "execution_count": 50,
     "metadata": {},
     "output_type": "execute_result"
    }
   ],
   "source": [
    "model.predict(new_record)"
   ]
  },
  {
   "cell_type": "code",
   "execution_count": null,
   "id": "876a6309",
   "metadata": {},
   "outputs": [],
   "source": []
  }
 ],
 "metadata": {
  "kernelspec": {
   "display_name": "Python 3 (ipykernel)",
   "language": "python",
   "name": "python3"
  },
  "language_info": {
   "codemirror_mode": {
    "name": "ipython",
    "version": 3
   },
   "file_extension": ".py",
   "mimetype": "text/x-python",
   "name": "python",
   "nbconvert_exporter": "python",
   "pygments_lexer": "ipython3",
   "version": "3.9.12"
  }
 },
 "nbformat": 4,
 "nbformat_minor": 5
}
