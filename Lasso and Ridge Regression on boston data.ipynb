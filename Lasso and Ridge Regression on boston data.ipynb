{
 "cells": [
  {
   "cell_type": "code",
   "execution_count": 1,
   "id": "2d0c8028",
   "metadata": {},
   "outputs": [],
   "source": [
    "import pandas as pd\n",
    "import numpy as np\n",
    "from sklearn.datasets import load_boston\n",
    "from sklearn.model_selection import train_test_split,GridSearchCV,cross_val_score\n",
    "from sklearn.linear_model import LinearRegression,Lasso,Ridge\n",
    "from sklearn.metrics import mean_squared_error"
   ]
  },
  {
   "cell_type": "code",
   "execution_count": 2,
   "id": "c394dd70",
   "metadata": {},
   "outputs": [
    {
     "name": "stderr",
     "output_type": "stream",
     "text": [
      "C:\\Users\\lenovo\\anaconda3\\lib\\site-packages\\sklearn\\utils\\deprecation.py:87: FutureWarning: Function load_boston is deprecated; `load_boston` is deprecated in 1.0 and will be removed in 1.2.\n",
      "\n",
      "    The Boston housing prices dataset has an ethical problem. You can refer to\n",
      "    the documentation of this function for further details.\n",
      "\n",
      "    The scikit-learn maintainers therefore strongly discourage the use of this\n",
      "    dataset unless the purpose of the code is to study and educate about\n",
      "    ethical issues in data science and machine learning.\n",
      "\n",
      "    In this special case, you can fetch the dataset from the original\n",
      "    source::\n",
      "\n",
      "        import pandas as pd\n",
      "        import numpy as np\n",
      "\n",
      "\n",
      "        data_url = \"http://lib.stat.cmu.edu/datasets/boston\"\n",
      "        raw_df = pd.read_csv(data_url, sep=\"\\s+\", skiprows=22, header=None)\n",
      "        data = np.hstack([raw_df.values[::2, :], raw_df.values[1::2, :2]])\n",
      "        target = raw_df.values[1::2, 2]\n",
      "\n",
      "    Alternative datasets include the California housing dataset (i.e.\n",
      "    :func:`~sklearn.datasets.fetch_california_housing`) and the Ames housing\n",
      "    dataset. You can load the datasets as follows::\n",
      "\n",
      "        from sklearn.datasets import fetch_california_housing\n",
      "        housing = fetch_california_housing()\n",
      "\n",
      "    for the California housing dataset and::\n",
      "\n",
      "        from sklearn.datasets import fetch_openml\n",
      "        housing = fetch_openml(name=\"house_prices\", as_frame=True)\n",
      "\n",
      "    for the Ames housing dataset.\n",
      "    \n",
      "  warnings.warn(msg, category=FutureWarning)\n"
     ]
    }
   ],
   "source": [
    "boston=load_boston()"
   ]
  },
  {
   "cell_type": "code",
   "execution_count": 3,
   "id": "040c5c19",
   "metadata": {},
   "outputs": [],
   "source": [
    "df=pd.DataFrame(boston.data,columns=boston.feature_names)"
   ]
  },
  {
   "cell_type": "code",
   "execution_count": 4,
   "id": "6a414ffb",
   "metadata": {},
   "outputs": [
    {
     "data": {
      "text/html": [
       "<div>\n",
       "<style scoped>\n",
       "    .dataframe tbody tr th:only-of-type {\n",
       "        vertical-align: middle;\n",
       "    }\n",
       "\n",
       "    .dataframe tbody tr th {\n",
       "        vertical-align: top;\n",
       "    }\n",
       "\n",
       "    .dataframe thead th {\n",
       "        text-align: right;\n",
       "    }\n",
       "</style>\n",
       "<table border=\"1\" class=\"dataframe\">\n",
       "  <thead>\n",
       "    <tr style=\"text-align: right;\">\n",
       "      <th></th>\n",
       "      <th>CRIM</th>\n",
       "      <th>ZN</th>\n",
       "      <th>INDUS</th>\n",
       "      <th>CHAS</th>\n",
       "      <th>NOX</th>\n",
       "      <th>RM</th>\n",
       "      <th>AGE</th>\n",
       "      <th>DIS</th>\n",
       "      <th>RAD</th>\n",
       "      <th>TAX</th>\n",
       "      <th>PTRATIO</th>\n",
       "      <th>B</th>\n",
       "      <th>LSTAT</th>\n",
       "    </tr>\n",
       "  </thead>\n",
       "  <tbody>\n",
       "    <tr>\n",
       "      <th>0</th>\n",
       "      <td>0.00632</td>\n",
       "      <td>18.0</td>\n",
       "      <td>2.31</td>\n",
       "      <td>0.0</td>\n",
       "      <td>0.538</td>\n",
       "      <td>6.575</td>\n",
       "      <td>65.2</td>\n",
       "      <td>4.0900</td>\n",
       "      <td>1.0</td>\n",
       "      <td>296.0</td>\n",
       "      <td>15.3</td>\n",
       "      <td>396.90</td>\n",
       "      <td>4.98</td>\n",
       "    </tr>\n",
       "    <tr>\n",
       "      <th>1</th>\n",
       "      <td>0.02731</td>\n",
       "      <td>0.0</td>\n",
       "      <td>7.07</td>\n",
       "      <td>0.0</td>\n",
       "      <td>0.469</td>\n",
       "      <td>6.421</td>\n",
       "      <td>78.9</td>\n",
       "      <td>4.9671</td>\n",
       "      <td>2.0</td>\n",
       "      <td>242.0</td>\n",
       "      <td>17.8</td>\n",
       "      <td>396.90</td>\n",
       "      <td>9.14</td>\n",
       "    </tr>\n",
       "    <tr>\n",
       "      <th>2</th>\n",
       "      <td>0.02729</td>\n",
       "      <td>0.0</td>\n",
       "      <td>7.07</td>\n",
       "      <td>0.0</td>\n",
       "      <td>0.469</td>\n",
       "      <td>7.185</td>\n",
       "      <td>61.1</td>\n",
       "      <td>4.9671</td>\n",
       "      <td>2.0</td>\n",
       "      <td>242.0</td>\n",
       "      <td>17.8</td>\n",
       "      <td>392.83</td>\n",
       "      <td>4.03</td>\n",
       "    </tr>\n",
       "    <tr>\n",
       "      <th>3</th>\n",
       "      <td>0.03237</td>\n",
       "      <td>0.0</td>\n",
       "      <td>2.18</td>\n",
       "      <td>0.0</td>\n",
       "      <td>0.458</td>\n",
       "      <td>6.998</td>\n",
       "      <td>45.8</td>\n",
       "      <td>6.0622</td>\n",
       "      <td>3.0</td>\n",
       "      <td>222.0</td>\n",
       "      <td>18.7</td>\n",
       "      <td>394.63</td>\n",
       "      <td>2.94</td>\n",
       "    </tr>\n",
       "    <tr>\n",
       "      <th>4</th>\n",
       "      <td>0.06905</td>\n",
       "      <td>0.0</td>\n",
       "      <td>2.18</td>\n",
       "      <td>0.0</td>\n",
       "      <td>0.458</td>\n",
       "      <td>7.147</td>\n",
       "      <td>54.2</td>\n",
       "      <td>6.0622</td>\n",
       "      <td>3.0</td>\n",
       "      <td>222.0</td>\n",
       "      <td>18.7</td>\n",
       "      <td>396.90</td>\n",
       "      <td>5.33</td>\n",
       "    </tr>\n",
       "  </tbody>\n",
       "</table>\n",
       "</div>"
      ],
      "text/plain": [
       "      CRIM    ZN  INDUS  CHAS    NOX     RM   AGE     DIS  RAD    TAX  \\\n",
       "0  0.00632  18.0   2.31   0.0  0.538  6.575  65.2  4.0900  1.0  296.0   \n",
       "1  0.02731   0.0   7.07   0.0  0.469  6.421  78.9  4.9671  2.0  242.0   \n",
       "2  0.02729   0.0   7.07   0.0  0.469  7.185  61.1  4.9671  2.0  242.0   \n",
       "3  0.03237   0.0   2.18   0.0  0.458  6.998  45.8  6.0622  3.0  222.0   \n",
       "4  0.06905   0.0   2.18   0.0  0.458  7.147  54.2  6.0622  3.0  222.0   \n",
       "\n",
       "   PTRATIO       B  LSTAT  \n",
       "0     15.3  396.90   4.98  \n",
       "1     17.8  396.90   9.14  \n",
       "2     17.8  392.83   4.03  \n",
       "3     18.7  394.63   2.94  \n",
       "4     18.7  396.90   5.33  "
      ]
     },
     "execution_count": 4,
     "metadata": {},
     "output_type": "execute_result"
    }
   ],
   "source": [
    "df.head()"
   ]
  },
  {
   "cell_type": "code",
   "execution_count": 5,
   "id": "3646c3b1",
   "metadata": {},
   "outputs": [],
   "source": [
    "y=pd.DataFrame(boston.target,columns=['price'])"
   ]
  },
  {
   "cell_type": "code",
   "execution_count": 6,
   "id": "c5286ca2",
   "metadata": {},
   "outputs": [
    {
     "data": {
      "text/html": [
       "<div>\n",
       "<style scoped>\n",
       "    .dataframe tbody tr th:only-of-type {\n",
       "        vertical-align: middle;\n",
       "    }\n",
       "\n",
       "    .dataframe tbody tr th {\n",
       "        vertical-align: top;\n",
       "    }\n",
       "\n",
       "    .dataframe thead th {\n",
       "        text-align: right;\n",
       "    }\n",
       "</style>\n",
       "<table border=\"1\" class=\"dataframe\">\n",
       "  <thead>\n",
       "    <tr style=\"text-align: right;\">\n",
       "      <th></th>\n",
       "      <th>price</th>\n",
       "    </tr>\n",
       "  </thead>\n",
       "  <tbody>\n",
       "    <tr>\n",
       "      <th>0</th>\n",
       "      <td>24.0</td>\n",
       "    </tr>\n",
       "    <tr>\n",
       "      <th>1</th>\n",
       "      <td>21.6</td>\n",
       "    </tr>\n",
       "    <tr>\n",
       "      <th>2</th>\n",
       "      <td>34.7</td>\n",
       "    </tr>\n",
       "    <tr>\n",
       "      <th>3</th>\n",
       "      <td>33.4</td>\n",
       "    </tr>\n",
       "    <tr>\n",
       "      <th>4</th>\n",
       "      <td>36.2</td>\n",
       "    </tr>\n",
       "  </tbody>\n",
       "</table>\n",
       "</div>"
      ],
      "text/plain": [
       "   price\n",
       "0   24.0\n",
       "1   21.6\n",
       "2   34.7\n",
       "3   33.4\n",
       "4   36.2"
      ]
     },
     "execution_count": 6,
     "metadata": {},
     "output_type": "execute_result"
    }
   ],
   "source": [
    "y.head()"
   ]
  },
  {
   "cell_type": "code",
   "execution_count": 7,
   "id": "68b0da0d",
   "metadata": {},
   "outputs": [
    {
     "data": {
      "text/plain": [
       "(506, 13)"
      ]
     },
     "execution_count": 7,
     "metadata": {},
     "output_type": "execute_result"
    }
   ],
   "source": [
    "df.shape"
   ]
  },
  {
   "cell_type": "code",
   "execution_count": 8,
   "id": "258fe860",
   "metadata": {},
   "outputs": [
    {
     "data": {
      "text/plain": [
       "(506, 1)"
      ]
     },
     "execution_count": 8,
     "metadata": {},
     "output_type": "execute_result"
    }
   ],
   "source": [
    "y.shape"
   ]
  },
  {
   "cell_type": "code",
   "execution_count": 9,
   "id": "9c3ae4bf",
   "metadata": {},
   "outputs": [
    {
     "name": "stdout",
     "output_type": "stream",
     "text": [
      "<class 'pandas.core.frame.DataFrame'>\n",
      "RangeIndex: 506 entries, 0 to 505\n",
      "Data columns (total 13 columns):\n",
      " #   Column   Non-Null Count  Dtype  \n",
      "---  ------   --------------  -----  \n",
      " 0   CRIM     506 non-null    float64\n",
      " 1   ZN       506 non-null    float64\n",
      " 2   INDUS    506 non-null    float64\n",
      " 3   CHAS     506 non-null    float64\n",
      " 4   NOX      506 non-null    float64\n",
      " 5   RM       506 non-null    float64\n",
      " 6   AGE      506 non-null    float64\n",
      " 7   DIS      506 non-null    float64\n",
      " 8   RAD      506 non-null    float64\n",
      " 9   TAX      506 non-null    float64\n",
      " 10  PTRATIO  506 non-null    float64\n",
      " 11  B        506 non-null    float64\n",
      " 12  LSTAT    506 non-null    float64\n",
      "dtypes: float64(13)\n",
      "memory usage: 51.5 KB\n"
     ]
    }
   ],
   "source": [
    "df.info()"
   ]
  },
  {
   "cell_type": "code",
   "execution_count": 10,
   "id": "4797f17b",
   "metadata": {},
   "outputs": [],
   "source": [
    "X_train,X_test,y_train,y_test=train_test_split(df,y,test_size=0.3,random_state=1)"
   ]
  },
  {
   "cell_type": "code",
   "execution_count": 11,
   "id": "1881a32f",
   "metadata": {},
   "outputs": [],
   "source": [
    "model=LinearRegression()"
   ]
  },
  {
   "cell_type": "code",
   "execution_count": 12,
   "id": "fb7ed020",
   "metadata": {},
   "outputs": [
    {
     "data": {
      "text/plain": [
       "LinearRegression()"
      ]
     },
     "execution_count": 12,
     "metadata": {},
     "output_type": "execute_result"
    }
   ],
   "source": [
    "model.fit(X_train,y_train)"
   ]
  },
  {
   "cell_type": "code",
   "execution_count": 13,
   "id": "035fa646",
   "metadata": {},
   "outputs": [],
   "source": [
    "y_pred=model.predict(X_test)"
   ]
  },
  {
   "cell_type": "code",
   "execution_count": 14,
   "id": "c16fac80",
   "metadata": {},
   "outputs": [
    {
     "data": {
      "text/plain": [
       "19.831323672063235"
      ]
     },
     "execution_count": 14,
     "metadata": {},
     "output_type": "execute_result"
    }
   ],
   "source": [
    "mean_squared_error(y_test,y_pred)"
   ]
  },
  {
   "cell_type": "markdown",
   "id": "d8eed8b8",
   "metadata": {},
   "source": [
    "## Lasso Regression"
   ]
  },
  {
   "cell_type": "code",
   "execution_count": 15,
   "id": "7cdbd1b6",
   "metadata": {},
   "outputs": [],
   "source": [
    "ls=Lasso()"
   ]
  },
  {
   "cell_type": "code",
   "execution_count": 16,
   "id": "a83d024a",
   "metadata": {},
   "outputs": [
    {
     "data": {
      "text/plain": [
       "Lasso()"
      ]
     },
     "execution_count": 16,
     "metadata": {},
     "output_type": "execute_result"
    }
   ],
   "source": [
    "ls.fit(X_train,y_train)"
   ]
  },
  {
   "cell_type": "code",
   "execution_count": 17,
   "id": "0eb88c1a",
   "metadata": {},
   "outputs": [],
   "source": [
    "ls_pred=ls.predict(X_test)"
   ]
  },
  {
   "cell_type": "code",
   "execution_count": 18,
   "id": "108092d0",
   "metadata": {},
   "outputs": [
    {
     "data": {
      "text/plain": [
       "30.29379822196717"
      ]
     },
     "execution_count": 18,
     "metadata": {},
     "output_type": "execute_result"
    }
   ],
   "source": [
    "mean_squared_error(y_test,ls_pred)"
   ]
  },
  {
   "cell_type": "markdown",
   "id": "81355d79",
   "metadata": {},
   "source": [
    "##  Ridge Regression"
   ]
  },
  {
   "cell_type": "code",
   "execution_count": 19,
   "id": "5dbe8dd3",
   "metadata": {},
   "outputs": [],
   "source": [
    "rg=Ridge()"
   ]
  },
  {
   "cell_type": "code",
   "execution_count": 20,
   "id": "28d10425",
   "metadata": {},
   "outputs": [
    {
     "data": {
      "text/plain": [
       "Ridge()"
      ]
     },
     "execution_count": 20,
     "metadata": {},
     "output_type": "execute_result"
    }
   ],
   "source": [
    "rg.fit(X_train,y_train)"
   ]
  },
  {
   "cell_type": "code",
   "execution_count": 21,
   "id": "1a10465e",
   "metadata": {},
   "outputs": [],
   "source": [
    "rg_pred=rg.predict(X_test)"
   ]
  },
  {
   "cell_type": "code",
   "execution_count": 22,
   "id": "03911d38",
   "metadata": {},
   "outputs": [
    {
     "data": {
      "text/plain": [
       "19.334416287843627"
      ]
     },
     "execution_count": 22,
     "metadata": {},
     "output_type": "execute_result"
    }
   ],
   "source": [
    "mean_squared_error(y_test,rg_pred)"
   ]
  },
  {
   "cell_type": "markdown",
   "id": "ee5b93d4",
   "metadata": {},
   "source": [
    "##  Running a FOR loop to get the best value of alpha(manual hyperparameter tuning) "
   ]
  },
  {
   "cell_type": "code",
   "execution_count": 23,
   "id": "f8647734",
   "metadata": {},
   "outputs": [
    {
     "name": "stdout",
     "output_type": "stream",
     "text": [
      "the parameter 1 gives MSE as: 19.334416287843627\n",
      "the parameter 2 gives MSE as: 19.34414257604263\n",
      "the parameter 3 gives MSE as: 19.4087161997346\n",
      "the parameter 4 gives MSE as: 19.481231131665123\n",
      "the parameter 5 gives MSE as: 19.553270684503488\n",
      "the parameter 6 gives MSE as: 19.623143690717452\n",
      "the parameter 7 gives MSE as: 19.690667750560536\n",
      "the parameter 8 gives MSE as: 19.75601602630487\n",
      "the parameter 9 gives MSE as: 19.8194222582788\n",
      "the parameter 10 gives MSE as: 19.881103543629216\n"
     ]
    }
   ],
   "source": [
    "for i in range(1,11):\n",
    "    rg=Ridge(alpha=i)\n",
    "    rg.fit(X_train,y_train)\n",
    "    rg_pred=rg.predict(X_test)\n",
    "    print(f'the parameter {i} gives MSE as: {mean_squared_error(y_test,rg_pred)}')"
   ]
  },
  {
   "cell_type": "code",
   "execution_count": 24,
   "id": "27e6f16c",
   "metadata": {},
   "outputs": [
    {
     "name": "stdout",
     "output_type": "stream",
     "text": [
      "the parameter 0.001 gives MSE as: 19.82974665728234\n",
      "the parameter 0.002 gives MSE as: 19.828174783377907\n",
      "the parameter 0.003 gives MSE as: 19.826608030581713\n",
      "the parameter 0.004 gives MSE as: 19.825046379217767\n",
      "the parameter 0.005 gives MSE as: 19.823489809701808\n",
      "the parameter 0.006 gives MSE as: 19.82193830254079\n",
      "the parameter 0.007 gives MSE as: 19.820391838332355\n",
      "the parameter 0.008 gives MSE as: 19.818850397764333\n",
      "the parameter 0.009 gives MSE as: 19.817313961614264\n",
      "the parameter 0.01 gives MSE as: 19.8157825107489\n"
     ]
    }
   ],
   "source": [
    "for i in range(1,11):\n",
    "    rg=Ridge(alpha=(i/1000))\n",
    "    rg.fit(X_train,y_train)\n",
    "    rg_pred=rg.predict(X_test)\n",
    "    print(f'the parameter {i/1000} gives MSE as: {mean_squared_error(y_test,rg_pred)}')"
   ]
  },
  {
   "cell_type": "code",
   "execution_count": 25,
   "id": "5a004ef1",
   "metadata": {},
   "outputs": [
    {
     "name": "stdout",
     "output_type": "stream",
     "text": [
      "the parameter 0.0001 gives MSE as: 19.8311657386803\n",
      "the parameter 0.001 gives MSE as: 19.82974665728234\n",
      "the parameter 0.01 gives MSE as: 19.8157825107489\n",
      "the parameter 0.1 gives MSE as: 19.69619983181413\n",
      "the parameter 0.5 gives MSE as: 19.427285232027753\n",
      "the parameter 0.7 gives MSE as: 19.372925508852852\n",
      "the parameter 0.9 gives MSE as: 19.343196176407435\n"
     ]
    }
   ],
   "source": [
    "param = [0.0001,0.001,0.01,0.1,0.5,0.7,0.9]\n",
    "for i in param:\n",
    "    rg=Ridge(alpha=i)\n",
    "    rg.fit(X_train,y_train)\n",
    "    rg_pred=rg.predict(X_test)\n",
    "    print(f'the parameter {i} gives MSE as: {mean_squared_error(y_test,rg_pred)}')"
   ]
  },
  {
   "cell_type": "code",
   "execution_count": 26,
   "id": "626d1148",
   "metadata": {},
   "outputs": [
    {
     "name": "stdout",
     "output_type": "stream",
     "text": [
      "the parameter 1e-15 gives MSE as: 19.83132367206312\n",
      "the parameter 1e-13 gives MSE as: 19.831323672062965\n",
      "the parameter 1e-11 gives MSE as: 19.831323672047326\n",
      "the parameter 1e-09 gives MSE as: 19.83132367048353\n",
      "the parameter 1e-07 gives MSE as: 19.83132351410397\n",
      "the parameter 1e-05 gives MSE as: 19.831307876402846\n",
      "the parameter 0.001 gives MSE as: 19.82974665728234\n",
      "the parameter 0.1 gives MSE as: 19.69619983181413\n",
      "the parameter 0.3 gives MSE as: 19.523651928134928\n",
      "the parameter 0.5 gives MSE as: 19.427285232027753\n",
      "the parameter 0.7 gives MSE as: 19.372925508852852\n",
      "the parameter 0.9 gives MSE as: 19.343196176407435\n",
      "the parameter 1 gives MSE as: 19.334416287843627\n",
      "the parameter 2 gives MSE as: 19.34414257604263\n",
      "the parameter 3 gives MSE as: 19.4087161997346\n",
      "the parameter 4 gives MSE as: 19.481231131665123\n",
      "the parameter 5 gives MSE as: 19.553270684503488\n",
      "the parameter 6 gives MSE as: 19.623143690717452\n",
      "the parameter 7 gives MSE as: 19.690667750560536\n",
      "the parameter 8 gives MSE as: 19.75601602630487\n",
      "the parameter 9 gives MSE as: 19.8194222582788\n",
      "the parameter 10 gives MSE as: 19.881103543629216\n",
      "the parameter 20 gives MSE as: 20.43138191539116\n",
      "the parameter 30 gives MSE as: 20.90134088092256\n",
      "the parameter 40 gives MSE as: 21.315843588321865\n",
      "the parameter 50 gives MSE as: 21.68697092987346\n",
      "the parameter 60 gives MSE as: 22.022638815561\n",
      "the parameter 70 gives MSE as: 22.328656505281945\n",
      "the parameter 80 gives MSE as: 22.609517648197656\n",
      "the parameter 90 gives MSE as: 22.868801623037996\n",
      "the parameter 100 gives MSE as: 23.10941406423701\n",
      "the parameter 200 gives MSE as: 24.866262116872758\n",
      "the parameter 300 gives MSE as: 26.01510711678807\n",
      "the parameter 400 gives MSE as: 26.888107080241532\n",
      "the parameter 500 gives MSE as: 27.60535352866601\n"
     ]
    }
   ],
   "source": [
    "param = [1e-15,1e-13,1e-11,1e-9,1e-7,1e-5,1e-3,1e-1,0.3,0.5,0.7,0.9,1,2,3,4,5,6,7,8,9,10,20,30,40,50,60,70,80,90,100,200,300,400,500]\n",
    "for i in param:\n",
    "    rg=Ridge(alpha=i)\n",
    "    rg.fit(X_train,y_train)\n",
    "    rg_pred=rg.predict(X_test)\n",
    "    print(f'the parameter {i} gives MSE as: {mean_squared_error(y_test,rg_pred)}')"
   ]
  },
  {
   "cell_type": "code",
   "execution_count": 27,
   "id": "48f86af4",
   "metadata": {},
   "outputs": [
    {
     "name": "stdout",
     "output_type": "stream",
     "text": [
      "the parameter 1 gives MSE as: 19.334416287843627\n"
     ]
    }
   ],
   "source": [
    "rg=Ridge(alpha=1)\n",
    "rg.fit(X_train,y_train)\n",
    "rg_pred=rg.predict(X_test)\n",
    "print(f'the parameter 1 gives MSE as: {mean_squared_error(y_test,rg_pred)}')"
   ]
  },
  {
   "cell_type": "code",
   "execution_count": 28,
   "id": "afea09e0",
   "metadata": {},
   "outputs": [
    {
     "name": "stdout",
     "output_type": "stream",
     "text": [
      "the parameter 1e-15 gives MSE as: 19.831323672063103\n",
      "the parameter 1e-13 gives MSE as: 19.831323672061078\n",
      "the parameter 1e-11 gives MSE as: 19.831323671856893\n",
      "the parameter 1e-09 gives MSE as: 19.831323651438982\n",
      "the parameter 1e-07 gives MSE as: 19.831321609667693\n",
      "the parameter 1e-05 gives MSE as: 19.831117462584942\n",
      "the parameter 0.001 gives MSE as: 19.81103120725189\n",
      "the parameter 0.1 gives MSE as: 20.22471700674124\n",
      "the parameter 0.3 gives MSE as: 21.987596152983613\n",
      "the parameter 0.5 gives MSE as: 23.91888317593273\n",
      "the parameter 0.7 gives MSE as: 26.208685323837656\n",
      "the parameter 0.9 gives MSE as: 28.86342585454826\n",
      "the parameter 1 gives MSE as: 30.29379822196717\n",
      "the parameter 2 gives MSE as: 35.408678173317455\n",
      "the parameter 3 gives MSE as: 38.89068851985193\n",
      "the parameter 4 gives MSE as: 40.98078900621156\n",
      "the parameter 5 gives MSE as: 41.78563872008822\n",
      "the parameter 6 gives MSE as: 42.70060909352538\n",
      "the parameter 7 gives MSE as: 43.658204119875215\n"
     ]
    },
    {
     "name": "stderr",
     "output_type": "stream",
     "text": [
      "C:\\Users\\lenovo\\anaconda3\\lib\\site-packages\\sklearn\\linear_model\\_coordinate_descent.py:647: ConvergenceWarning: Objective did not converge. You might want to increase the number of iterations, check the scale of the features or consider increasing regularisation. Duality gap: 3.152e+03, tolerance: 2.874e+00\n",
      "  model = cd_fast.enet_coordinate_descent(\n"
     ]
    },
    {
     "name": "stdout",
     "output_type": "stream",
     "text": [
      "the parameter 8 gives MSE as: 44.04998191825928\n",
      "the parameter 9 gives MSE as: 44.4826470264785\n",
      "the parameter 10 gives MSE as: 44.956169817731784\n",
      "the parameter 20 gives MSE as: 51.93799937435368\n",
      "the parameter 30 gives MSE as: 65.21056747930224\n",
      "the parameter 40 gives MSE as: 65.56771206363891\n",
      "the parameter 50 gives MSE as: 66.2719587479431\n",
      "the parameter 60 gives MSE as: 66.83865058669218\n",
      "the parameter 70 gives MSE as: 67.13122629210736\n",
      "the parameter 80 gives MSE as: 67.45022936233622\n",
      "the parameter 90 gives MSE as: 67.79567582171714\n",
      "the parameter 100 gives MSE as: 68.16745703715412\n",
      "the parameter 200 gives MSE as: 71.51859818639382\n",
      "the parameter 300 gives MSE as: 74.68039405217618\n",
      "the parameter 400 gives MSE as: 78.49124889573748\n",
      "the parameter 500 gives MSE as: 82.95116271707771\n"
     ]
    }
   ],
   "source": [
    "param = [1e-15,1e-13,1e-11,1e-9,1e-7,1e-5,1e-3,1e-1,0.3,0.5,0.7,0.9,1,2,3,4,5,6,7,8,9,10,20,30,40,50,60,70,80,90,100,200,300,400,500]\n",
    "for i in param:\n",
    "    ls=Lasso(alpha=i)\n",
    "    ls.fit(X_train,y_train)\n",
    "    ls_pred=ls.predict(X_test)\n",
    "    print(f'the parameter {i} gives MSE as: {mean_squared_error(y_test,ls_pred)}')"
   ]
  },
  {
   "cell_type": "code",
   "execution_count": 29,
   "id": "37d2be8d",
   "metadata": {},
   "outputs": [
    {
     "name": "stdout",
     "output_type": "stream",
     "text": [
      "the parameter 0.001 gives MSE as: 19.81103120725189\n"
     ]
    }
   ],
   "source": [
    "ls=Lasso(alpha=0.001)\n",
    "ls.fit(X_train,y_train)\n",
    "ls_pred=ls.predict(X_test)\n",
    "print(f'the parameter 0.001 gives MSE as: {mean_squared_error(y_test,ls_pred)}')"
   ]
  },
  {
   "cell_type": "markdown",
   "id": "327ba53d",
   "metadata": {},
   "source": [
    "## Hyperparameter Tuning using GridSearchCV "
   ]
  },
  {
   "cell_type": "code",
   "execution_count": 30,
   "id": "1d25d054",
   "metadata": {},
   "outputs": [],
   "source": [
    "param={'alpha':[1e-15,1e-13,1e-11,1e-9,1e-7,1e-5,1e-3,1e-1,0.3,0.5,0.7,0.9,1,2,3,4,5,6,7,8,9,10,20,30,40,50,60,70,80,90,100,200,300,400,500]}"
   ]
  },
  {
   "cell_type": "code",
   "execution_count": 31,
   "id": "3d12686b",
   "metadata": {},
   "outputs": [],
   "source": [
    "model_ls = GridSearchCV(Lasso(),param)"
   ]
  },
  {
   "cell_type": "code",
   "execution_count": 32,
   "id": "a5c28e5c",
   "metadata": {},
   "outputs": [
    {
     "name": "stderr",
     "output_type": "stream",
     "text": [
      "C:\\Users\\lenovo\\anaconda3\\lib\\site-packages\\sklearn\\linear_model\\_coordinate_descent.py:647: ConvergenceWarning: Objective did not converge. You might want to increase the number of iterations, check the scale of the features or consider increasing regularisation. Duality gap: 4.431e+03, tolerance: 3.919e+00\n",
      "  model = cd_fast.enet_coordinate_descent(\n",
      "C:\\Users\\lenovo\\anaconda3\\lib\\site-packages\\sklearn\\linear_model\\_coordinate_descent.py:647: ConvergenceWarning: Objective did not converge. You might want to increase the number of iterations, check the scale of the features or consider increasing regularisation. Duality gap: 4.397e+03, tolerance: 3.307e+00\n",
      "  model = cd_fast.enet_coordinate_descent(\n",
      "C:\\Users\\lenovo\\anaconda3\\lib\\site-packages\\sklearn\\linear_model\\_coordinate_descent.py:647: ConvergenceWarning: Objective did not converge. You might want to increase the number of iterations, check the scale of the features or consider increasing regularisation. Duality gap: 3.797e+03, tolerance: 2.814e+00\n",
      "  model = cd_fast.enet_coordinate_descent(\n",
      "C:\\Users\\lenovo\\anaconda3\\lib\\site-packages\\sklearn\\linear_model\\_coordinate_descent.py:647: ConvergenceWarning: Objective did not converge. You might want to increase the number of iterations, check the scale of the features or consider increasing regularisation. Duality gap: 2.564e+03, tolerance: 3.307e+00\n",
      "  model = cd_fast.enet_coordinate_descent(\n",
      "C:\\Users\\lenovo\\anaconda3\\lib\\site-packages\\sklearn\\linear_model\\_coordinate_descent.py:647: ConvergenceWarning: Objective did not converge. You might want to increase the number of iterations, check the scale of the features or consider increasing regularisation. Duality gap: 4.294e+03, tolerance: 3.481e+00\n",
      "  model = cd_fast.enet_coordinate_descent(\n",
      "C:\\Users\\lenovo\\anaconda3\\lib\\site-packages\\sklearn\\linear_model\\_coordinate_descent.py:647: ConvergenceWarning: Objective did not converge. You might want to increase the number of iterations, check the scale of the features or consider increasing regularisation. Duality gap: 5.061e+02, tolerance: 3.307e+00\n",
      "  model = cd_fast.enet_coordinate_descent(\n"
     ]
    },
    {
     "data": {
      "text/plain": [
       "GridSearchCV(estimator=Lasso(),\n",
       "             param_grid={'alpha': [1e-15, 1e-13, 1e-11, 1e-09, 1e-07, 1e-05,\n",
       "                                   0.001, 0.1, 0.3, 0.5, 0.7, 0.9, 1, 2, 3, 4,\n",
       "                                   5, 6, 7, 8, 9, 10, 20, 30, 40, 50, 60, 70,\n",
       "                                   80, 90, ...]})"
      ]
     },
     "execution_count": 32,
     "metadata": {},
     "output_type": "execute_result"
    }
   ],
   "source": [
    "model_ls.fit(df,y)  #donot fit it on X_train & y_train bcz we can set CV(cross validation) over here"
   ]
  },
  {
   "cell_type": "code",
   "execution_count": 33,
   "id": "cbb2dbff",
   "metadata": {},
   "outputs": [
    {
     "data": {
      "text/plain": [
       "{'alpha': 0.9}"
      ]
     },
     "execution_count": 33,
     "metadata": {},
     "output_type": "execute_result"
    }
   ],
   "source": [
    "model_ls.best_params_"
   ]
  },
  {
   "cell_type": "code",
   "execution_count": 34,
   "id": "e92b8f4c",
   "metadata": {},
   "outputs": [],
   "source": [
    "model_rg = GridSearchCV(Ridge(),param)"
   ]
  },
  {
   "cell_type": "code",
   "execution_count": 35,
   "id": "6b5bb3d7",
   "metadata": {},
   "outputs": [
    {
     "data": {
      "text/plain": [
       "GridSearchCV(estimator=Ridge(),\n",
       "             param_grid={'alpha': [1e-15, 1e-13, 1e-11, 1e-09, 1e-07, 1e-05,\n",
       "                                   0.001, 0.1, 0.3, 0.5, 0.7, 0.9, 1, 2, 3, 4,\n",
       "                                   5, 6, 7, 8, 9, 10, 20, 30, 40, 50, 60, 70,\n",
       "                                   80, 90, ...]})"
      ]
     },
     "execution_count": 35,
     "metadata": {},
     "output_type": "execute_result"
    }
   ],
   "source": [
    "model_rg.fit(df,y)"
   ]
  },
  {
   "cell_type": "code",
   "execution_count": 36,
   "id": "13eba9aa",
   "metadata": {},
   "outputs": [
    {
     "data": {
      "text/plain": [
       "{'alpha': 200}"
      ]
     },
     "execution_count": 36,
     "metadata": {},
     "output_type": "execute_result"
    }
   ],
   "source": [
    "model_rg.best_params_"
   ]
  },
  {
   "cell_type": "code",
   "execution_count": 37,
   "id": "f1c72dde",
   "metadata": {},
   "outputs": [
    {
     "name": "stdout",
     "output_type": "stream",
     "text": [
      "the parameter 0.9 gives MSE as: 28.86342585454826\n"
     ]
    }
   ],
   "source": [
    "ls=Lasso(alpha=0.9)\n",
    "ls.fit(X_train,y_train)\n",
    "ls_pred=ls.predict(X_test)\n",
    "print(f'the parameter 0.9 gives MSE as: {mean_squared_error(y_test,ls_pred)}')"
   ]
  },
  {
   "cell_type": "code",
   "execution_count": 38,
   "id": "2729d893",
   "metadata": {},
   "outputs": [
    {
     "name": "stdout",
     "output_type": "stream",
     "text": [
      "the parameter 200 gives MSE as: 24.866262116872758\n"
     ]
    }
   ],
   "source": [
    "rg=Ridge(alpha=200)\n",
    "rg.fit(X_train,y_train)\n",
    "rg_pred=rg.predict(X_test)\n",
    "print(f'the parameter 200 gives MSE as: {mean_squared_error(y_test,rg_pred)}')"
   ]
  },
  {
   "cell_type": "markdown",
   "id": "2c139c95",
   "metadata": {},
   "source": [
    "##  CrossValidation"
   ]
  },
  {
   "cell_type": "code",
   "execution_count": 49,
   "id": "eef45c34",
   "metadata": {},
   "outputs": [
    {
     "data": {
      "text/plain": [
       "array([ 0.73376082,  0.4730725 , -1.00631454,  0.64113984,  0.54766046,\n",
       "        0.73640292,  0.37828386, -0.12922703, -0.76843243,  0.4189435 ])"
      ]
     },
     "execution_count": 49,
     "metadata": {},
     "output_type": "execute_result"
    }
   ],
   "source": [
    "CV=cross_val_score(estimator=LinearRegression(),X=df,y=y,cv=10)\n",
    "CV"
   ]
  },
  {
   "cell_type": "code",
   "execution_count": 50,
   "id": "4bc9b2f3",
   "metadata": {},
   "outputs": [
    {
     "data": {
      "text/plain": [
       "0.2025289900605657"
      ]
     },
     "execution_count": 50,
     "metadata": {},
     "output_type": "execute_result"
    }
   ],
   "source": [
    "CV.mean()"
   ]
  },
  {
   "cell_type": "code",
   "execution_count": 39,
   "id": "e4728887",
   "metadata": {},
   "outputs": [],
   "source": [
    "CV=cross_val_score(estimator=LinearRegression(),X=df,y=y,cv=10,scoring='neg_mean_squared_error')"
   ]
  },
  {
   "cell_type": "code",
   "execution_count": 40,
   "id": "bf57938e",
   "metadata": {},
   "outputs": [
    {
     "data": {
      "text/plain": [
       "array([  -9.28694671,  -14.15128316,  -14.07360615,  -35.20692433,\n",
       "        -31.88511666,  -19.83587796,   -9.94726918, -168.37537954,\n",
       "        -33.32974507,  -10.96041068])"
      ]
     },
     "execution_count": 40,
     "metadata": {},
     "output_type": "execute_result"
    }
   ],
   "source": [
    "CV"
   ]
  },
  {
   "cell_type": "code",
   "execution_count": 41,
   "id": "b2798a8e",
   "metadata": {},
   "outputs": [
    {
     "data": {
      "text/plain": [
       "-34.705255944524815"
      ]
     },
     "execution_count": 41,
     "metadata": {},
     "output_type": "execute_result"
    }
   ],
   "source": [
    "CV.mean()"
   ]
  },
  {
   "cell_type": "code",
   "execution_count": 42,
   "id": "981cb1c6",
   "metadata": {},
   "outputs": [
    {
     "data": {
      "text/plain": [
       "-34.705255944524815"
      ]
     },
     "execution_count": 42,
     "metadata": {},
     "output_type": "execute_result"
    }
   ],
   "source": [
    "np.mean(CV)"
   ]
  },
  {
   "cell_type": "code",
   "execution_count": 43,
   "id": "231df1a3",
   "metadata": {},
   "outputs": [],
   "source": [
    "CV_ls=cross_val_score(estimator=Lasso(),X=df,y=y,cv=10,scoring='neg_mean_squared_error')"
   ]
  },
  {
   "cell_type": "code",
   "execution_count": 44,
   "id": "9374ad5d",
   "metadata": {},
   "outputs": [
    {
     "data": {
      "text/plain": [
       "array([ -11.75904887,  -17.87218543,  -10.52504673,  -60.79224355,\n",
       "        -46.77806854,  -40.75196077,  -17.30562005, -102.67754279,\n",
       "        -22.8731834 ,  -13.30594575])"
      ]
     },
     "execution_count": 44,
     "metadata": {},
     "output_type": "execute_result"
    }
   ],
   "source": [
    "CV_ls"
   ]
  },
  {
   "cell_type": "code",
   "execution_count": 45,
   "id": "e152d1e7",
   "metadata": {},
   "outputs": [
    {
     "data": {
      "text/plain": [
       "-34.46408458830233"
      ]
     },
     "execution_count": 45,
     "metadata": {},
     "output_type": "execute_result"
    }
   ],
   "source": [
    "CV_ls.mean()"
   ]
  },
  {
   "cell_type": "code",
   "execution_count": 46,
   "id": "292c0b35",
   "metadata": {},
   "outputs": [],
   "source": [
    "CV_rg=cross_val_score(estimator=Ridge(),X=df,y=y,cv=10,scoring='neg_mean_squared_error')"
   ]
  },
  {
   "cell_type": "code",
   "execution_count": 47,
   "id": "aeb51a91",
   "metadata": {},
   "outputs": [
    {
     "data": {
      "text/plain": [
       "array([  -9.31766315,  -12.60806897,  -10.79859434,  -36.6093648 ,\n",
       "        -29.62109212,  -18.62598134,   -9.46641896, -168.49831117,\n",
       "        -33.79749469,  -11.43947255])"
      ]
     },
     "execution_count": 47,
     "metadata": {},
     "output_type": "execute_result"
    }
   ],
   "source": [
    "CV_rg"
   ]
  },
  {
   "cell_type": "code",
   "execution_count": 48,
   "id": "75045a85",
   "metadata": {},
   "outputs": [
    {
     "data": {
      "text/plain": [
       "-34.07824620925929"
      ]
     },
     "execution_count": 48,
     "metadata": {},
     "output_type": "execute_result"
    }
   ],
   "source": [
    "CV_rg.mean()"
   ]
  }
 ],
 "metadata": {
  "kernelspec": {
   "display_name": "Python 3 (ipykernel)",
   "language": "python",
   "name": "python3"
  },
  "language_info": {
   "codemirror_mode": {
    "name": "ipython",
    "version": 3
   },
   "file_extension": ".py",
   "mimetype": "text/x-python",
   "name": "python",
   "nbconvert_exporter": "python",
   "pygments_lexer": "ipython3",
   "version": "3.9.12"
  }
 },
 "nbformat": 4,
 "nbformat_minor": 5
}
