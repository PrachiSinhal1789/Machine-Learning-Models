{
 "cells": [
  {
   "cell_type": "markdown",
   "id": "2ada8f91",
   "metadata": {},
   "source": [
    "# Assumptions of Linear Regression \n",
    "\n",
    "    1.Linear relationship:Linear regression needs linear relationship between independent(x) and dependent variable(y).Linear Regression is v sensitive to outliers,it is v imp to chk outliers before performing regression analysis.\n",
    "    2.Normality:LR requires all variables to be normally distributed.The error terms also should be normally distributed.\n",
    "    3.Multicollinearity:There should be v little or no multicollinearity in the data.Multicollinearity happens when the independent variables are highly correlated(linearly corelated) with each other.\n",
    "     -Methods to calculate/detect Multicollinearity\n",
    "         a.Correlation Matrix(heat map)\n",
    "         b.VIF(variance inflating factor)\n",
    "         c.Tolerance\n",
    "    4.Homoscedasticity:The error terms must have a constant variance wrto the regression line.This phenomena is known as homoscedasticity.The presence of non constant variance is referred to as heteroscedasticity.\n",
    "    5.Auto correlation:There should be no correlation between the residual(error) terms.The absence of this phenomena is called as auto correlation."
   ]
  },
  {
   "cell_type": "code",
   "execution_count": 2,
   "id": "168ed4ca",
   "metadata": {
    "ExecuteTime": {
     "end_time": "2022-05-20T03:53:06.054628Z",
     "start_time": "2022-05-20T03:53:06.036633Z"
    }
   },
   "outputs": [],
   "source": [
    "import pandas as pd\n",
    "import numpy as np\n",
    "import matplotlib.pyplot as plt\n",
    "import seaborn as sns\n",
    "from sklearn.model_selection import train_test_split\n",
    "from sklearn.linear_model import LinearRegression\n",
    "from sklearn.metrics import r2_score,mean_squared_error"
   ]
  },
  {
   "cell_type": "code",
   "execution_count": 2,
   "id": "5e19801c",
   "metadata": {
    "ExecuteTime": {
     "end_time": "2022-05-19T16:23:04.040089Z",
     "start_time": "2022-05-19T16:23:03.997640Z"
    }
   },
   "outputs": [
    {
     "data": {
      "text/html": [
       "<div>\n",
       "<style scoped>\n",
       "    .dataframe tbody tr th:only-of-type {\n",
       "        vertical-align: middle;\n",
       "    }\n",
       "\n",
       "    .dataframe tbody tr th {\n",
       "        vertical-align: top;\n",
       "    }\n",
       "\n",
       "    .dataframe thead th {\n",
       "        text-align: right;\n",
       "    }\n",
       "</style>\n",
       "<table border=\"1\" class=\"dataframe\">\n",
       "  <thead>\n",
       "    <tr style=\"text-align: right;\">\n",
       "      <th></th>\n",
       "      <th>mpg</th>\n",
       "      <th>cyl</th>\n",
       "      <th>disp</th>\n",
       "      <th>hp</th>\n",
       "      <th>wt</th>\n",
       "      <th>acc</th>\n",
       "      <th>yr</th>\n",
       "      <th>origin</th>\n",
       "      <th>car_type</th>\n",
       "      <th>car_name</th>\n",
       "    </tr>\n",
       "  </thead>\n",
       "  <tbody>\n",
       "    <tr>\n",
       "      <th>0</th>\n",
       "      <td>18.0</td>\n",
       "      <td>8</td>\n",
       "      <td>307.0</td>\n",
       "      <td>130</td>\n",
       "      <td>3504</td>\n",
       "      <td>12.0</td>\n",
       "      <td>70</td>\n",
       "      <td>1</td>\n",
       "      <td>0</td>\n",
       "      <td>chevrolet chevelle malibu</td>\n",
       "    </tr>\n",
       "    <tr>\n",
       "      <th>1</th>\n",
       "      <td>15.0</td>\n",
       "      <td>8</td>\n",
       "      <td>350.0</td>\n",
       "      <td>165</td>\n",
       "      <td>3693</td>\n",
       "      <td>11.5</td>\n",
       "      <td>70</td>\n",
       "      <td>1</td>\n",
       "      <td>0</td>\n",
       "      <td>buick skylark 320</td>\n",
       "    </tr>\n",
       "    <tr>\n",
       "      <th>2</th>\n",
       "      <td>18.0</td>\n",
       "      <td>8</td>\n",
       "      <td>318.0</td>\n",
       "      <td>150</td>\n",
       "      <td>3436</td>\n",
       "      <td>11.0</td>\n",
       "      <td>70</td>\n",
       "      <td>1</td>\n",
       "      <td>0</td>\n",
       "      <td>plymouth satellite</td>\n",
       "    </tr>\n",
       "    <tr>\n",
       "      <th>3</th>\n",
       "      <td>16.0</td>\n",
       "      <td>8</td>\n",
       "      <td>304.0</td>\n",
       "      <td>150</td>\n",
       "      <td>3433</td>\n",
       "      <td>12.0</td>\n",
       "      <td>70</td>\n",
       "      <td>1</td>\n",
       "      <td>0</td>\n",
       "      <td>amc rebel sst</td>\n",
       "    </tr>\n",
       "    <tr>\n",
       "      <th>4</th>\n",
       "      <td>17.0</td>\n",
       "      <td>8</td>\n",
       "      <td>302.0</td>\n",
       "      <td>140</td>\n",
       "      <td>3449</td>\n",
       "      <td>10.5</td>\n",
       "      <td>70</td>\n",
       "      <td>1</td>\n",
       "      <td>0</td>\n",
       "      <td>ford torino</td>\n",
       "    </tr>\n",
       "  </tbody>\n",
       "</table>\n",
       "</div>"
      ],
      "text/plain": [
       "    mpg  cyl   disp   hp    wt   acc  yr  origin  car_type  \\\n",
       "0  18.0    8  307.0  130  3504  12.0  70       1         0   \n",
       "1  15.0    8  350.0  165  3693  11.5  70       1         0   \n",
       "2  18.0    8  318.0  150  3436  11.0  70       1         0   \n",
       "3  16.0    8  304.0  150  3433  12.0  70       1         0   \n",
       "4  17.0    8  302.0  140  3449  10.5  70       1         0   \n",
       "\n",
       "                    car_name  \n",
       "0  chevrolet chevelle malibu  \n",
       "1          buick skylark 320  \n",
       "2         plymouth satellite  \n",
       "3              amc rebel sst  \n",
       "4                ford torino  "
      ]
     },
     "execution_count": 2,
     "metadata": {},
     "output_type": "execute_result"
    }
   ],
   "source": [
    "df=pd.read_csv('car-mpg_students.csv')\n",
    "df.head()"
   ]
  },
  {
   "cell_type": "code",
   "execution_count": 3,
   "id": "ad11ea55",
   "metadata": {
    "ExecuteTime": {
     "end_time": "2022-05-19T16:23:04.151151Z",
     "start_time": "2022-05-19T16:23:04.044052Z"
    }
   },
   "outputs": [
    {
     "name": "stdout",
     "output_type": "stream",
     "text": [
      "<class 'pandas.core.frame.DataFrame'>\n",
      "RangeIndex: 398 entries, 0 to 397\n",
      "Data columns (total 10 columns):\n",
      " #   Column    Non-Null Count  Dtype  \n",
      "---  ------    --------------  -----  \n",
      " 0   mpg       398 non-null    float64\n",
      " 1   cyl       398 non-null    int64  \n",
      " 2   disp      398 non-null    float64\n",
      " 3   hp        398 non-null    int64  \n",
      " 4   wt        398 non-null    int64  \n",
      " 5   acc       398 non-null    float64\n",
      " 6   yr        398 non-null    int64  \n",
      " 7   origin    398 non-null    int64  \n",
      " 8   car_type  398 non-null    int64  \n",
      " 9   car_name  398 non-null    object \n",
      "dtypes: float64(3), int64(6), object(1)\n",
      "memory usage: 31.2+ KB\n"
     ]
    }
   ],
   "source": [
    "df.info()  # 1st thing to do when u get a dataset"
   ]
  },
  {
   "cell_type": "code",
   "execution_count": 4,
   "id": "19cc5973",
   "metadata": {
    "ExecuteTime": {
     "end_time": "2022-05-19T16:23:04.275984Z",
     "start_time": "2022-05-19T16:23:04.155150Z"
    }
   },
   "outputs": [],
   "source": [
    "#there are no non null values,398 entries as well as 398 non null values"
   ]
  },
  {
   "cell_type": "code",
   "execution_count": 5,
   "id": "745c47bf",
   "metadata": {
    "ExecuteTime": {
     "end_time": "2022-05-19T16:23:04.463426Z",
     "start_time": "2022-05-19T16:23:04.281963Z"
    }
   },
   "outputs": [
    {
     "data": {
      "text/html": [
       "<div>\n",
       "<style scoped>\n",
       "    .dataframe tbody tr th:only-of-type {\n",
       "        vertical-align: middle;\n",
       "    }\n",
       "\n",
       "    .dataframe tbody tr th {\n",
       "        vertical-align: top;\n",
       "    }\n",
       "\n",
       "    .dataframe thead th {\n",
       "        text-align: right;\n",
       "    }\n",
       "</style>\n",
       "<table border=\"1\" class=\"dataframe\">\n",
       "  <thead>\n",
       "    <tr style=\"text-align: right;\">\n",
       "      <th></th>\n",
       "      <th>mpg</th>\n",
       "      <th>cyl</th>\n",
       "      <th>disp</th>\n",
       "      <th>hp</th>\n",
       "      <th>wt</th>\n",
       "      <th>acc</th>\n",
       "      <th>yr</th>\n",
       "      <th>origin</th>\n",
       "      <th>car_type</th>\n",
       "    </tr>\n",
       "  </thead>\n",
       "  <tbody>\n",
       "    <tr>\n",
       "      <th>count</th>\n",
       "      <td>398.000000</td>\n",
       "      <td>398.000000</td>\n",
       "      <td>398.000000</td>\n",
       "      <td>398.000000</td>\n",
       "      <td>398.000000</td>\n",
       "      <td>398.000000</td>\n",
       "      <td>398.000000</td>\n",
       "      <td>398.000000</td>\n",
       "      <td>398.000000</td>\n",
       "    </tr>\n",
       "    <tr>\n",
       "      <th>mean</th>\n",
       "      <td>23.514573</td>\n",
       "      <td>5.454774</td>\n",
       "      <td>193.425879</td>\n",
       "      <td>103.241206</td>\n",
       "      <td>2970.424623</td>\n",
       "      <td>15.568090</td>\n",
       "      <td>76.010050</td>\n",
       "      <td>1.572864</td>\n",
       "      <td>0.530151</td>\n",
       "    </tr>\n",
       "    <tr>\n",
       "      <th>std</th>\n",
       "      <td>7.815984</td>\n",
       "      <td>1.701004</td>\n",
       "      <td>104.269838</td>\n",
       "      <td>39.471217</td>\n",
       "      <td>846.841774</td>\n",
       "      <td>2.757689</td>\n",
       "      <td>3.697627</td>\n",
       "      <td>0.802055</td>\n",
       "      <td>0.499718</td>\n",
       "    </tr>\n",
       "    <tr>\n",
       "      <th>min</th>\n",
       "      <td>9.000000</td>\n",
       "      <td>3.000000</td>\n",
       "      <td>68.000000</td>\n",
       "      <td>23.000000</td>\n",
       "      <td>1613.000000</td>\n",
       "      <td>8.000000</td>\n",
       "      <td>70.000000</td>\n",
       "      <td>1.000000</td>\n",
       "      <td>0.000000</td>\n",
       "    </tr>\n",
       "    <tr>\n",
       "      <th>25%</th>\n",
       "      <td>17.500000</td>\n",
       "      <td>4.000000</td>\n",
       "      <td>104.250000</td>\n",
       "      <td>75.000000</td>\n",
       "      <td>2223.750000</td>\n",
       "      <td>13.825000</td>\n",
       "      <td>73.000000</td>\n",
       "      <td>1.000000</td>\n",
       "      <td>0.000000</td>\n",
       "    </tr>\n",
       "    <tr>\n",
       "      <th>50%</th>\n",
       "      <td>23.000000</td>\n",
       "      <td>4.000000</td>\n",
       "      <td>148.500000</td>\n",
       "      <td>92.000000</td>\n",
       "      <td>2803.500000</td>\n",
       "      <td>15.500000</td>\n",
       "      <td>76.000000</td>\n",
       "      <td>1.000000</td>\n",
       "      <td>1.000000</td>\n",
       "    </tr>\n",
       "    <tr>\n",
       "      <th>75%</th>\n",
       "      <td>29.000000</td>\n",
       "      <td>8.000000</td>\n",
       "      <td>262.000000</td>\n",
       "      <td>125.000000</td>\n",
       "      <td>3608.000000</td>\n",
       "      <td>17.175000</td>\n",
       "      <td>79.000000</td>\n",
       "      <td>2.000000</td>\n",
       "      <td>1.000000</td>\n",
       "    </tr>\n",
       "    <tr>\n",
       "      <th>max</th>\n",
       "      <td>46.600000</td>\n",
       "      <td>8.000000</td>\n",
       "      <td>455.000000</td>\n",
       "      <td>230.000000</td>\n",
       "      <td>5140.000000</td>\n",
       "      <td>24.800000</td>\n",
       "      <td>82.000000</td>\n",
       "      <td>3.000000</td>\n",
       "      <td>1.000000</td>\n",
       "    </tr>\n",
       "  </tbody>\n",
       "</table>\n",
       "</div>"
      ],
      "text/plain": [
       "              mpg         cyl        disp          hp           wt  \\\n",
       "count  398.000000  398.000000  398.000000  398.000000   398.000000   \n",
       "mean    23.514573    5.454774  193.425879  103.241206  2970.424623   \n",
       "std      7.815984    1.701004  104.269838   39.471217   846.841774   \n",
       "min      9.000000    3.000000   68.000000   23.000000  1613.000000   \n",
       "25%     17.500000    4.000000  104.250000   75.000000  2223.750000   \n",
       "50%     23.000000    4.000000  148.500000   92.000000  2803.500000   \n",
       "75%     29.000000    8.000000  262.000000  125.000000  3608.000000   \n",
       "max     46.600000    8.000000  455.000000  230.000000  5140.000000   \n",
       "\n",
       "              acc          yr      origin    car_type  \n",
       "count  398.000000  398.000000  398.000000  398.000000  \n",
       "mean    15.568090   76.010050    1.572864    0.530151  \n",
       "std      2.757689    3.697627    0.802055    0.499718  \n",
       "min      8.000000   70.000000    1.000000    0.000000  \n",
       "25%     13.825000   73.000000    1.000000    0.000000  \n",
       "50%     15.500000   76.000000    1.000000    1.000000  \n",
       "75%     17.175000   79.000000    2.000000    1.000000  \n",
       "max     24.800000   82.000000    3.000000    1.000000  "
      ]
     },
     "execution_count": 5,
     "metadata": {},
     "output_type": "execute_result"
    }
   ],
   "source": [
    "df.describe() # next step is descriptive statistics"
   ]
  },
  {
   "cell_type": "code",
   "execution_count": 6,
   "id": "7436d490",
   "metadata": {
    "ExecuteTime": {
     "end_time": "2022-05-19T16:23:04.573743Z",
     "start_time": "2022-05-19T16:23:04.466424Z"
    }
   },
   "outputs": [
    {
     "name": "stderr",
     "output_type": "stream",
     "text": [
      "C:\\Users\\Dell\\AppData\\Local\\Temp/ipykernel_3172/1665899112.py:1: FutureWarning: Dropping of nuisance columns in DataFrame reductions (with 'numeric_only=None') is deprecated; in a future version this will raise TypeError.  Select only valid columns before calling the reduction.\n",
      "  df.skew()\n"
     ]
    },
    {
     "data": {
      "text/plain": [
       "mpg         0.457066\n",
       "cyl         0.526922\n",
       "disp        0.719645\n",
       "hp          0.953296\n",
       "wt          0.531063\n",
       "acc         0.278777\n",
       "yr          0.011535\n",
       "origin      0.923776\n",
       "car_type   -0.121280\n",
       "dtype: float64"
      ]
     },
     "execution_count": 6,
     "metadata": {},
     "output_type": "execute_result"
    }
   ],
   "source": [
    "df.skew()"
   ]
  },
  {
   "cell_type": "code",
   "execution_count": 7,
   "id": "39478d5c",
   "metadata": {
    "ExecuteTime": {
     "end_time": "2022-05-19T16:23:04.714401Z",
     "start_time": "2022-05-19T16:23:04.577737Z"
    }
   },
   "outputs": [
    {
     "name": "stderr",
     "output_type": "stream",
     "text": [
      "C:\\Users\\Dell\\AppData\\Local\\Temp/ipykernel_3172/1257127604.py:1: FutureWarning: Dropping of nuisance columns in DataFrame reductions (with 'numeric_only=None') is deprecated; in a future version this will raise TypeError.  Select only valid columns before calling the reduction.\n",
      "  df.kurt()\n"
     ]
    },
    {
     "data": {
      "text/plain": [
       "mpg        -0.510781\n",
       "cyl        -1.376662\n",
       "disp       -0.746597\n",
       "hp          0.682171\n",
       "wt         -0.785529\n",
       "acc         0.419497\n",
       "yr         -1.181232\n",
       "origin     -0.817597\n",
       "car_type   -1.995343\n",
       "dtype: float64"
      ]
     },
     "execution_count": 7,
     "metadata": {},
     "output_type": "execute_result"
    }
   ],
   "source": [
    "df.kurt()"
   ]
  },
  {
   "cell_type": "code",
   "execution_count": 8,
   "id": "da043eac",
   "metadata": {
    "ExecuteTime": {
     "end_time": "2022-05-19T16:23:04.823813Z",
     "start_time": "2022-05-19T16:23:04.719395Z"
    }
   },
   "outputs": [
    {
     "data": {
      "text/plain": [
       "1    249\n",
       "3     79\n",
       "2     70\n",
       "Name: origin, dtype: int64"
      ]
     },
     "execution_count": 8,
     "metadata": {},
     "output_type": "execute_result"
    }
   ],
   "source": [
    "df['origin'].value_counts() #1.America,2.Europe,3.Asia"
   ]
  },
  {
   "cell_type": "code",
   "execution_count": 9,
   "id": "4bcbd568",
   "metadata": {
    "ExecuteTime": {
     "end_time": "2022-05-19T16:23:04.948652Z",
     "start_time": "2022-05-19T16:23:04.829810Z"
    }
   },
   "outputs": [],
   "source": [
    "df['origin']=df['origin'].replace({1:'America',2:'Europe',3:'Asia'})"
   ]
  },
  {
   "cell_type": "code",
   "execution_count": 10,
   "id": "151c4581",
   "metadata": {
    "ExecuteTime": {
     "end_time": "2022-05-19T16:23:05.105899Z",
     "start_time": "2022-05-19T16:23:04.960629Z"
    }
   },
   "outputs": [
    {
     "data": {
      "text/html": [
       "<div>\n",
       "<style scoped>\n",
       "    .dataframe tbody tr th:only-of-type {\n",
       "        vertical-align: middle;\n",
       "    }\n",
       "\n",
       "    .dataframe tbody tr th {\n",
       "        vertical-align: top;\n",
       "    }\n",
       "\n",
       "    .dataframe thead th {\n",
       "        text-align: right;\n",
       "    }\n",
       "</style>\n",
       "<table border=\"1\" class=\"dataframe\">\n",
       "  <thead>\n",
       "    <tr style=\"text-align: right;\">\n",
       "      <th></th>\n",
       "      <th>mpg</th>\n",
       "      <th>cyl</th>\n",
       "      <th>disp</th>\n",
       "      <th>hp</th>\n",
       "      <th>wt</th>\n",
       "      <th>acc</th>\n",
       "      <th>yr</th>\n",
       "      <th>origin</th>\n",
       "      <th>car_type</th>\n",
       "      <th>car_name</th>\n",
       "    </tr>\n",
       "  </thead>\n",
       "  <tbody>\n",
       "    <tr>\n",
       "      <th>0</th>\n",
       "      <td>18.0</td>\n",
       "      <td>8</td>\n",
       "      <td>307.0</td>\n",
       "      <td>130</td>\n",
       "      <td>3504</td>\n",
       "      <td>12.0</td>\n",
       "      <td>70</td>\n",
       "      <td>America</td>\n",
       "      <td>0</td>\n",
       "      <td>chevrolet chevelle malibu</td>\n",
       "    </tr>\n",
       "    <tr>\n",
       "      <th>1</th>\n",
       "      <td>15.0</td>\n",
       "      <td>8</td>\n",
       "      <td>350.0</td>\n",
       "      <td>165</td>\n",
       "      <td>3693</td>\n",
       "      <td>11.5</td>\n",
       "      <td>70</td>\n",
       "      <td>America</td>\n",
       "      <td>0</td>\n",
       "      <td>buick skylark 320</td>\n",
       "    </tr>\n",
       "    <tr>\n",
       "      <th>2</th>\n",
       "      <td>18.0</td>\n",
       "      <td>8</td>\n",
       "      <td>318.0</td>\n",
       "      <td>150</td>\n",
       "      <td>3436</td>\n",
       "      <td>11.0</td>\n",
       "      <td>70</td>\n",
       "      <td>America</td>\n",
       "      <td>0</td>\n",
       "      <td>plymouth satellite</td>\n",
       "    </tr>\n",
       "    <tr>\n",
       "      <th>3</th>\n",
       "      <td>16.0</td>\n",
       "      <td>8</td>\n",
       "      <td>304.0</td>\n",
       "      <td>150</td>\n",
       "      <td>3433</td>\n",
       "      <td>12.0</td>\n",
       "      <td>70</td>\n",
       "      <td>America</td>\n",
       "      <td>0</td>\n",
       "      <td>amc rebel sst</td>\n",
       "    </tr>\n",
       "    <tr>\n",
       "      <th>4</th>\n",
       "      <td>17.0</td>\n",
       "      <td>8</td>\n",
       "      <td>302.0</td>\n",
       "      <td>140</td>\n",
       "      <td>3449</td>\n",
       "      <td>10.5</td>\n",
       "      <td>70</td>\n",
       "      <td>America</td>\n",
       "      <td>0</td>\n",
       "      <td>ford torino</td>\n",
       "    </tr>\n",
       "  </tbody>\n",
       "</table>\n",
       "</div>"
      ],
      "text/plain": [
       "    mpg  cyl   disp   hp    wt   acc  yr   origin  car_type  \\\n",
       "0  18.0    8  307.0  130  3504  12.0  70  America         0   \n",
       "1  15.0    8  350.0  165  3693  11.5  70  America         0   \n",
       "2  18.0    8  318.0  150  3436  11.0  70  America         0   \n",
       "3  16.0    8  304.0  150  3433  12.0  70  America         0   \n",
       "4  17.0    8  302.0  140  3449  10.5  70  America         0   \n",
       "\n",
       "                    car_name  \n",
       "0  chevrolet chevelle malibu  \n",
       "1          buick skylark 320  \n",
       "2         plymouth satellite  \n",
       "3              amc rebel sst  \n",
       "4                ford torino  "
      ]
     },
     "execution_count": 10,
     "metadata": {},
     "output_type": "execute_result"
    }
   ],
   "source": [
    "df.head()"
   ]
  },
  {
   "cell_type": "code",
   "execution_count": 11,
   "id": "6cb0106f",
   "metadata": {
    "ExecuteTime": {
     "end_time": "2022-05-19T16:23:05.312436Z",
     "start_time": "2022-05-19T16:23:05.125887Z"
    }
   },
   "outputs": [
    {
     "data": {
      "text/plain": [
       "America    249\n",
       "Asia        79\n",
       "Europe      70\n",
       "Name: origin, dtype: int64"
      ]
     },
     "execution_count": 11,
     "metadata": {},
     "output_type": "execute_result"
    }
   ],
   "source": [
    "df['origin'].value_counts()"
   ]
  },
  {
   "cell_type": "markdown",
   "id": "e3c2b44c",
   "metadata": {},
   "source": [
    "##  Encoding origin column using one hot encoding"
   ]
  },
  {
   "cell_type": "code",
   "execution_count": 12,
   "id": "a147d3c9",
   "metadata": {
    "ExecuteTime": {
     "end_time": "2022-05-19T16:23:05.468818Z",
     "start_time": "2022-05-19T16:23:05.315436Z"
    },
    "scrolled": true
   },
   "outputs": [
    {
     "data": {
      "text/html": [
       "<div>\n",
       "<style scoped>\n",
       "    .dataframe tbody tr th:only-of-type {\n",
       "        vertical-align: middle;\n",
       "    }\n",
       "\n",
       "    .dataframe tbody tr th {\n",
       "        vertical-align: top;\n",
       "    }\n",
       "\n",
       "    .dataframe thead th {\n",
       "        text-align: right;\n",
       "    }\n",
       "</style>\n",
       "<table border=\"1\" class=\"dataframe\">\n",
       "  <thead>\n",
       "    <tr style=\"text-align: right;\">\n",
       "      <th></th>\n",
       "      <th>America</th>\n",
       "      <th>Asia</th>\n",
       "      <th>Europe</th>\n",
       "    </tr>\n",
       "  </thead>\n",
       "  <tbody>\n",
       "    <tr>\n",
       "      <th>0</th>\n",
       "      <td>1</td>\n",
       "      <td>0</td>\n",
       "      <td>0</td>\n",
       "    </tr>\n",
       "    <tr>\n",
       "      <th>1</th>\n",
       "      <td>1</td>\n",
       "      <td>0</td>\n",
       "      <td>0</td>\n",
       "    </tr>\n",
       "    <tr>\n",
       "      <th>2</th>\n",
       "      <td>1</td>\n",
       "      <td>0</td>\n",
       "      <td>0</td>\n",
       "    </tr>\n",
       "    <tr>\n",
       "      <th>3</th>\n",
       "      <td>1</td>\n",
       "      <td>0</td>\n",
       "      <td>0</td>\n",
       "    </tr>\n",
       "    <tr>\n",
       "      <th>4</th>\n",
       "      <td>1</td>\n",
       "      <td>0</td>\n",
       "      <td>0</td>\n",
       "    </tr>\n",
       "    <tr>\n",
       "      <th>...</th>\n",
       "      <td>...</td>\n",
       "      <td>...</td>\n",
       "      <td>...</td>\n",
       "    </tr>\n",
       "    <tr>\n",
       "      <th>393</th>\n",
       "      <td>1</td>\n",
       "      <td>0</td>\n",
       "      <td>0</td>\n",
       "    </tr>\n",
       "    <tr>\n",
       "      <th>394</th>\n",
       "      <td>0</td>\n",
       "      <td>0</td>\n",
       "      <td>1</td>\n",
       "    </tr>\n",
       "    <tr>\n",
       "      <th>395</th>\n",
       "      <td>1</td>\n",
       "      <td>0</td>\n",
       "      <td>0</td>\n",
       "    </tr>\n",
       "    <tr>\n",
       "      <th>396</th>\n",
       "      <td>1</td>\n",
       "      <td>0</td>\n",
       "      <td>0</td>\n",
       "    </tr>\n",
       "    <tr>\n",
       "      <th>397</th>\n",
       "      <td>1</td>\n",
       "      <td>0</td>\n",
       "      <td>0</td>\n",
       "    </tr>\n",
       "  </tbody>\n",
       "</table>\n",
       "<p>398 rows × 3 columns</p>\n",
       "</div>"
      ],
      "text/plain": [
       "     America  Asia  Europe\n",
       "0          1     0       0\n",
       "1          1     0       0\n",
       "2          1     0       0\n",
       "3          1     0       0\n",
       "4          1     0       0\n",
       "..       ...   ...     ...\n",
       "393        1     0       0\n",
       "394        0     0       1\n",
       "395        1     0       0\n",
       "396        1     0       0\n",
       "397        1     0       0\n",
       "\n",
       "[398 rows x 3 columns]"
      ]
     },
     "execution_count": 12,
     "metadata": {},
     "output_type": "execute_result"
    }
   ],
   "source": [
    "pd.get_dummies(df['origin'])"
   ]
  },
  {
   "cell_type": "code",
   "execution_count": 13,
   "id": "e832e9d9",
   "metadata": {
    "ExecuteTime": {
     "end_time": "2022-05-19T16:23:05.594523Z",
     "start_time": "2022-05-19T16:23:05.472815Z"
    }
   },
   "outputs": [],
   "source": [
    "df=pd.get_dummies(df,columns=['origin'],drop_first=True)"
   ]
  },
  {
   "cell_type": "code",
   "execution_count": 14,
   "id": "9ddbc1d9",
   "metadata": {
    "ExecuteTime": {
     "end_time": "2022-05-19T16:23:05.736414Z",
     "start_time": "2022-05-19T16:23:05.597533Z"
    }
   },
   "outputs": [
    {
     "data": {
      "text/html": [
       "<div>\n",
       "<style scoped>\n",
       "    .dataframe tbody tr th:only-of-type {\n",
       "        vertical-align: middle;\n",
       "    }\n",
       "\n",
       "    .dataframe tbody tr th {\n",
       "        vertical-align: top;\n",
       "    }\n",
       "\n",
       "    .dataframe thead th {\n",
       "        text-align: right;\n",
       "    }\n",
       "</style>\n",
       "<table border=\"1\" class=\"dataframe\">\n",
       "  <thead>\n",
       "    <tr style=\"text-align: right;\">\n",
       "      <th></th>\n",
       "      <th>mpg</th>\n",
       "      <th>cyl</th>\n",
       "      <th>disp</th>\n",
       "      <th>hp</th>\n",
       "      <th>wt</th>\n",
       "      <th>acc</th>\n",
       "      <th>yr</th>\n",
       "      <th>car_type</th>\n",
       "      <th>car_name</th>\n",
       "      <th>origin_Asia</th>\n",
       "      <th>origin_Europe</th>\n",
       "    </tr>\n",
       "  </thead>\n",
       "  <tbody>\n",
       "    <tr>\n",
       "      <th>0</th>\n",
       "      <td>18.0</td>\n",
       "      <td>8</td>\n",
       "      <td>307.0</td>\n",
       "      <td>130</td>\n",
       "      <td>3504</td>\n",
       "      <td>12.0</td>\n",
       "      <td>70</td>\n",
       "      <td>0</td>\n",
       "      <td>chevrolet chevelle malibu</td>\n",
       "      <td>0</td>\n",
       "      <td>0</td>\n",
       "    </tr>\n",
       "    <tr>\n",
       "      <th>1</th>\n",
       "      <td>15.0</td>\n",
       "      <td>8</td>\n",
       "      <td>350.0</td>\n",
       "      <td>165</td>\n",
       "      <td>3693</td>\n",
       "      <td>11.5</td>\n",
       "      <td>70</td>\n",
       "      <td>0</td>\n",
       "      <td>buick skylark 320</td>\n",
       "      <td>0</td>\n",
       "      <td>0</td>\n",
       "    </tr>\n",
       "    <tr>\n",
       "      <th>2</th>\n",
       "      <td>18.0</td>\n",
       "      <td>8</td>\n",
       "      <td>318.0</td>\n",
       "      <td>150</td>\n",
       "      <td>3436</td>\n",
       "      <td>11.0</td>\n",
       "      <td>70</td>\n",
       "      <td>0</td>\n",
       "      <td>plymouth satellite</td>\n",
       "      <td>0</td>\n",
       "      <td>0</td>\n",
       "    </tr>\n",
       "    <tr>\n",
       "      <th>3</th>\n",
       "      <td>16.0</td>\n",
       "      <td>8</td>\n",
       "      <td>304.0</td>\n",
       "      <td>150</td>\n",
       "      <td>3433</td>\n",
       "      <td>12.0</td>\n",
       "      <td>70</td>\n",
       "      <td>0</td>\n",
       "      <td>amc rebel sst</td>\n",
       "      <td>0</td>\n",
       "      <td>0</td>\n",
       "    </tr>\n",
       "    <tr>\n",
       "      <th>4</th>\n",
       "      <td>17.0</td>\n",
       "      <td>8</td>\n",
       "      <td>302.0</td>\n",
       "      <td>140</td>\n",
       "      <td>3449</td>\n",
       "      <td>10.5</td>\n",
       "      <td>70</td>\n",
       "      <td>0</td>\n",
       "      <td>ford torino</td>\n",
       "      <td>0</td>\n",
       "      <td>0</td>\n",
       "    </tr>\n",
       "  </tbody>\n",
       "</table>\n",
       "</div>"
      ],
      "text/plain": [
       "    mpg  cyl   disp   hp    wt   acc  yr  car_type                   car_name  \\\n",
       "0  18.0    8  307.0  130  3504  12.0  70         0  chevrolet chevelle malibu   \n",
       "1  15.0    8  350.0  165  3693  11.5  70         0          buick skylark 320   \n",
       "2  18.0    8  318.0  150  3436  11.0  70         0         plymouth satellite   \n",
       "3  16.0    8  304.0  150  3433  12.0  70         0              amc rebel sst   \n",
       "4  17.0    8  302.0  140  3449  10.5  70         0                ford torino   \n",
       "\n",
       "   origin_Asia  origin_Europe  \n",
       "0            0              0  \n",
       "1            0              0  \n",
       "2            0              0  \n",
       "3            0              0  \n",
       "4            0              0  "
      ]
     },
     "execution_count": 14,
     "metadata": {},
     "output_type": "execute_result"
    }
   ],
   "source": [
    "df.head()"
   ]
  },
  {
   "cell_type": "markdown",
   "id": "e6e6f4c4",
   "metadata": {},
   "source": [
    "##  Detecting outliers in the dataset"
   ]
  },
  {
   "cell_type": "code",
   "execution_count": 15,
   "id": "47fc3c13",
   "metadata": {
    "ExecuteTime": {
     "end_time": "2022-05-19T16:23:06.291665Z",
     "start_time": "2022-05-19T16:23:05.739413Z"
    }
   },
   "outputs": [
    {
     "data": {
      "text/plain": [
       "<AxesSubplot:>"
      ]
     },
     "execution_count": 15,
     "metadata": {},
     "output_type": "execute_result"
    },
    {
     "data": {
      "image/png": "[encoded data removed]",
      "text/plain": [
       "<Figure size 1440x864 with 1 Axes>"
      ]
     },
     "metadata": {
      "needs_background": "light"
     },
     "output_type": "display_data"
    }
   ],
   "source": [
    "plt.figure(figsize=(20,12))\n",
    "df.boxplot(vert=False)"
   ]
  },
  {
   "cell_type": "code",
   "execution_count": 16,
   "id": "d345e002",
   "metadata": {
    "ExecuteTime": {
     "end_time": "2022-05-19T16:23:06.307658Z",
     "start_time": "2022-05-19T16:23:06.294663Z"
    }
   },
   "outputs": [],
   "source": [
    "def remove_outlier(col):\n",
    "    sorted(col)\n",
    "    q1,q3=np.percentile(col,[25,75])\n",
    "    IQR=q3-q1\n",
    "    LW=q1-(1.5*IQR)\n",
    "    UW=q3+(1.5*IQR)\n",
    "    return LW,UW"
   ]
  },
  {
   "cell_type": "code",
   "execution_count": 17,
   "id": "42e369db",
   "metadata": {
    "ExecuteTime": {
     "end_time": "2022-05-19T16:23:06.529518Z",
     "start_time": "2022-05-19T16:23:06.312652Z"
    }
   },
   "outputs": [],
   "source": [
    "for column in df.drop(['origin_Asia','origin_Europe','mpg','car_name'],axis=1).columns:  #for loop iterates all columns one by one\n",
    "    LW,UW=remove_outlier(df[column])\n",
    "    df[column]=np.where(df[column]>UW,UW,df[column])\n",
    "    df[column]=np.where(df[column]<LW,LW,df[column])"
   ]
  },
  {
   "cell_type": "code",
   "execution_count": 18,
   "id": "25be2f8e",
   "metadata": {
    "ExecuteTime": {
     "end_time": "2022-05-19T16:23:07.078367Z",
     "start_time": "2022-05-19T16:23:06.532796Z"
    }
   },
   "outputs": [
    {
     "data": {
      "text/plain": [
       "<AxesSubplot:>"
      ]
     },
     "execution_count": 18,
     "metadata": {},
     "output_type": "execute_result"
    },
    {
     "data": {
      "image/png": "[encoded data removed]",
      "text/plain": [
       "<Figure size 1440x864 with 1 Axes>"
      ]
     },
     "metadata": {
      "needs_background": "light"
     },
     "output_type": "display_data"
    }
   ],
   "source": [
    "plt.figure(figsize=(20,12))\n",
    "df.boxplot(vert=False)"
   ]
  },
  {
   "cell_type": "markdown",
   "id": "89ff37ad",
   "metadata": {},
   "source": [
    "##  Train,Test,Split"
   ]
  },
  {
   "cell_type": "code",
   "execution_count": 19,
   "id": "ad52542c",
   "metadata": {
    "ExecuteTime": {
     "end_time": "2022-05-19T16:23:07.126340Z",
     "start_time": "2022-05-19T16:23:07.081365Z"
    }
   },
   "outputs": [
    {
     "data": {
      "text/html": [
       "<div>\n",
       "<style scoped>\n",
       "    .dataframe tbody tr th:only-of-type {\n",
       "        vertical-align: middle;\n",
       "    }\n",
       "\n",
       "    .dataframe tbody tr th {\n",
       "        vertical-align: top;\n",
       "    }\n",
       "\n",
       "    .dataframe thead th {\n",
       "        text-align: right;\n",
       "    }\n",
       "</style>\n",
       "<table border=\"1\" class=\"dataframe\">\n",
       "  <thead>\n",
       "    <tr style=\"text-align: right;\">\n",
       "      <th></th>\n",
       "      <th>mpg</th>\n",
       "      <th>cyl</th>\n",
       "      <th>disp</th>\n",
       "      <th>hp</th>\n",
       "      <th>wt</th>\n",
       "      <th>acc</th>\n",
       "      <th>yr</th>\n",
       "      <th>car_type</th>\n",
       "      <th>car_name</th>\n",
       "      <th>origin_Asia</th>\n",
       "      <th>origin_Europe</th>\n",
       "    </tr>\n",
       "  </thead>\n",
       "  <tbody>\n",
       "    <tr>\n",
       "      <th>0</th>\n",
       "      <td>18.0</td>\n",
       "      <td>8.0</td>\n",
       "      <td>307.0</td>\n",
       "      <td>130.0</td>\n",
       "      <td>3504.0</td>\n",
       "      <td>12.0</td>\n",
       "      <td>70.0</td>\n",
       "      <td>0.0</td>\n",
       "      <td>chevrolet chevelle malibu</td>\n",
       "      <td>0</td>\n",
       "      <td>0</td>\n",
       "    </tr>\n",
       "    <tr>\n",
       "      <th>1</th>\n",
       "      <td>15.0</td>\n",
       "      <td>8.0</td>\n",
       "      <td>350.0</td>\n",
       "      <td>165.0</td>\n",
       "      <td>3693.0</td>\n",
       "      <td>11.5</td>\n",
       "      <td>70.0</td>\n",
       "      <td>0.0</td>\n",
       "      <td>buick skylark 320</td>\n",
       "      <td>0</td>\n",
       "      <td>0</td>\n",
       "    </tr>\n",
       "    <tr>\n",
       "      <th>2</th>\n",
       "      <td>18.0</td>\n",
       "      <td>8.0</td>\n",
       "      <td>318.0</td>\n",
       "      <td>150.0</td>\n",
       "      <td>3436.0</td>\n",
       "      <td>11.0</td>\n",
       "      <td>70.0</td>\n",
       "      <td>0.0</td>\n",
       "      <td>plymouth satellite</td>\n",
       "      <td>0</td>\n",
       "      <td>0</td>\n",
       "    </tr>\n",
       "    <tr>\n",
       "      <th>3</th>\n",
       "      <td>16.0</td>\n",
       "      <td>8.0</td>\n",
       "      <td>304.0</td>\n",
       "      <td>150.0</td>\n",
       "      <td>3433.0</td>\n",
       "      <td>12.0</td>\n",
       "      <td>70.0</td>\n",
       "      <td>0.0</td>\n",
       "      <td>amc rebel sst</td>\n",
       "      <td>0</td>\n",
       "      <td>0</td>\n",
       "    </tr>\n",
       "    <tr>\n",
       "      <th>4</th>\n",
       "      <td>17.0</td>\n",
       "      <td>8.0</td>\n",
       "      <td>302.0</td>\n",
       "      <td>140.0</td>\n",
       "      <td>3449.0</td>\n",
       "      <td>10.5</td>\n",
       "      <td>70.0</td>\n",
       "      <td>0.0</td>\n",
       "      <td>ford torino</td>\n",
       "      <td>0</td>\n",
       "      <td>0</td>\n",
       "    </tr>\n",
       "  </tbody>\n",
       "</table>\n",
       "</div>"
      ],
      "text/plain": [
       "    mpg  cyl   disp     hp      wt   acc    yr  car_type  \\\n",
       "0  18.0  8.0  307.0  130.0  3504.0  12.0  70.0       0.0   \n",
       "1  15.0  8.0  350.0  165.0  3693.0  11.5  70.0       0.0   \n",
       "2  18.0  8.0  318.0  150.0  3436.0  11.0  70.0       0.0   \n",
       "3  16.0  8.0  304.0  150.0  3433.0  12.0  70.0       0.0   \n",
       "4  17.0  8.0  302.0  140.0  3449.0  10.5  70.0       0.0   \n",
       "\n",
       "                    car_name  origin_Asia  origin_Europe  \n",
       "0  chevrolet chevelle malibu            0              0  \n",
       "1          buick skylark 320            0              0  \n",
       "2         plymouth satellite            0              0  \n",
       "3              amc rebel sst            0              0  \n",
       "4                ford torino            0              0  "
      ]
     },
     "execution_count": 19,
     "metadata": {},
     "output_type": "execute_result"
    }
   ],
   "source": [
    "df.head()"
   ]
  },
  {
   "cell_type": "code",
   "execution_count": 20,
   "id": "fd83642b",
   "metadata": {
    "ExecuteTime": {
     "end_time": "2022-05-19T16:23:07.251646Z",
     "start_time": "2022-05-19T16:23:07.130335Z"
    }
   },
   "outputs": [],
   "source": [
    "X=df.drop(['mpg','car_name'],axis=1)"
   ]
  },
  {
   "cell_type": "code",
   "execution_count": 21,
   "id": "48d4daa6",
   "metadata": {
    "ExecuteTime": {
     "end_time": "2022-05-19T16:23:07.423385Z",
     "start_time": "2022-05-19T16:23:07.260641Z"
    }
   },
   "outputs": [
    {
     "data": {
      "text/html": [
       "<div>\n",
       "<style scoped>\n",
       "    .dataframe tbody tr th:only-of-type {\n",
       "        vertical-align: middle;\n",
       "    }\n",
       "\n",
       "    .dataframe tbody tr th {\n",
       "        vertical-align: top;\n",
       "    }\n",
       "\n",
       "    .dataframe thead th {\n",
       "        text-align: right;\n",
       "    }\n",
       "</style>\n",
       "<table border=\"1\" class=\"dataframe\">\n",
       "  <thead>\n",
       "    <tr style=\"text-align: right;\">\n",
       "      <th></th>\n",
       "      <th>cyl</th>\n",
       "      <th>disp</th>\n",
       "      <th>hp</th>\n",
       "      <th>wt</th>\n",
       "      <th>acc</th>\n",
       "      <th>yr</th>\n",
       "      <th>car_type</th>\n",
       "      <th>origin_Asia</th>\n",
       "      <th>origin_Europe</th>\n",
       "    </tr>\n",
       "  </thead>\n",
       "  <tbody>\n",
       "    <tr>\n",
       "      <th>0</th>\n",
       "      <td>8.0</td>\n",
       "      <td>307.0</td>\n",
       "      <td>130.0</td>\n",
       "      <td>3504.0</td>\n",
       "      <td>12.0</td>\n",
       "      <td>70.0</td>\n",
       "      <td>0.0</td>\n",
       "      <td>0</td>\n",
       "      <td>0</td>\n",
       "    </tr>\n",
       "    <tr>\n",
       "      <th>1</th>\n",
       "      <td>8.0</td>\n",
       "      <td>350.0</td>\n",
       "      <td>165.0</td>\n",
       "      <td>3693.0</td>\n",
       "      <td>11.5</td>\n",
       "      <td>70.0</td>\n",
       "      <td>0.0</td>\n",
       "      <td>0</td>\n",
       "      <td>0</td>\n",
       "    </tr>\n",
       "    <tr>\n",
       "      <th>2</th>\n",
       "      <td>8.0</td>\n",
       "      <td>318.0</td>\n",
       "      <td>150.0</td>\n",
       "      <td>3436.0</td>\n",
       "      <td>11.0</td>\n",
       "      <td>70.0</td>\n",
       "      <td>0.0</td>\n",
       "      <td>0</td>\n",
       "      <td>0</td>\n",
       "    </tr>\n",
       "    <tr>\n",
       "      <th>3</th>\n",
       "      <td>8.0</td>\n",
       "      <td>304.0</td>\n",
       "      <td>150.0</td>\n",
       "      <td>3433.0</td>\n",
       "      <td>12.0</td>\n",
       "      <td>70.0</td>\n",
       "      <td>0.0</td>\n",
       "      <td>0</td>\n",
       "      <td>0</td>\n",
       "    </tr>\n",
       "    <tr>\n",
       "      <th>4</th>\n",
       "      <td>8.0</td>\n",
       "      <td>302.0</td>\n",
       "      <td>140.0</td>\n",
       "      <td>3449.0</td>\n",
       "      <td>10.5</td>\n",
       "      <td>70.0</td>\n",
       "      <td>0.0</td>\n",
       "      <td>0</td>\n",
       "      <td>0</td>\n",
       "    </tr>\n",
       "  </tbody>\n",
       "</table>\n",
       "</div>"
      ],
      "text/plain": [
       "   cyl   disp     hp      wt   acc    yr  car_type  origin_Asia  origin_Europe\n",
       "0  8.0  307.0  130.0  3504.0  12.0  70.0       0.0            0              0\n",
       "1  8.0  350.0  165.0  3693.0  11.5  70.0       0.0            0              0\n",
       "2  8.0  318.0  150.0  3436.0  11.0  70.0       0.0            0              0\n",
       "3  8.0  304.0  150.0  3433.0  12.0  70.0       0.0            0              0\n",
       "4  8.0  302.0  140.0  3449.0  10.5  70.0       0.0            0              0"
      ]
     },
     "execution_count": 21,
     "metadata": {},
     "output_type": "execute_result"
    }
   ],
   "source": [
    "X.head()"
   ]
  },
  {
   "cell_type": "code",
   "execution_count": 22,
   "id": "464887d8",
   "metadata": {
    "ExecuteTime": {
     "end_time": "2022-05-19T16:23:07.534671Z",
     "start_time": "2022-05-19T16:23:07.427359Z"
    }
   },
   "outputs": [],
   "source": [
    "y=df['mpg']"
   ]
  },
  {
   "cell_type": "code",
   "execution_count": 23,
   "id": "1c02ecaa",
   "metadata": {
    "ExecuteTime": {
     "end_time": "2022-05-19T16:23:07.707918Z",
     "start_time": "2022-05-19T16:23:07.542636Z"
    }
   },
   "outputs": [
    {
     "data": {
      "text/plain": [
       "0    18.0\n",
       "1    15.0\n",
       "2    18.0\n",
       "3    16.0\n",
       "4    17.0\n",
       "Name: mpg, dtype: float64"
      ]
     },
     "execution_count": 23,
     "metadata": {},
     "output_type": "execute_result"
    }
   ],
   "source": [
    "y.head() #series"
   ]
  },
  {
   "cell_type": "code",
   "execution_count": 24,
   "id": "2182b0ce",
   "metadata": {
    "ExecuteTime": {
     "end_time": "2022-05-19T16:23:07.864504Z",
     "start_time": "2022-05-19T16:23:07.713911Z"
    }
   },
   "outputs": [],
   "source": [
    "X_train,X_test,y_train,y_test=train_test_split(X,y,test_size=0.3,random_state=1)"
   ]
  },
  {
   "cell_type": "code",
   "execution_count": 25,
   "id": "0eccfa11",
   "metadata": {
    "ExecuteTime": {
     "end_time": "2022-05-19T16:23:07.987848Z",
     "start_time": "2022-05-19T16:23:07.872530Z"
    }
   },
   "outputs": [
    {
     "data": {
      "text/plain": [
       "(398, 11)"
      ]
     },
     "execution_count": 25,
     "metadata": {},
     "output_type": "execute_result"
    }
   ],
   "source": [
    "df.shape"
   ]
  },
  {
   "cell_type": "code",
   "execution_count": 26,
   "id": "e8089fa6",
   "metadata": {
    "ExecuteTime": {
     "end_time": "2022-05-19T16:23:08.112946Z",
     "start_time": "2022-05-19T16:23:07.992818Z"
    }
   },
   "outputs": [
    {
     "data": {
      "text/plain": [
       "(278, 9)"
      ]
     },
     "execution_count": 26,
     "metadata": {},
     "output_type": "execute_result"
    }
   ],
   "source": [
    "X_train.shape"
   ]
  },
  {
   "cell_type": "code",
   "execution_count": 27,
   "id": "5b863499",
   "metadata": {
    "ExecuteTime": {
     "end_time": "2022-05-19T16:23:08.247935Z",
     "start_time": "2022-05-19T16:23:08.121940Z"
    }
   },
   "outputs": [
    {
     "data": {
      "text/plain": [
       "(120, 9)"
      ]
     },
     "execution_count": 27,
     "metadata": {},
     "output_type": "execute_result"
    }
   ],
   "source": [
    "X_test.shape"
   ]
  },
  {
   "cell_type": "code",
   "execution_count": 28,
   "id": "97a5e7ec",
   "metadata": {
    "ExecuteTime": {
     "end_time": "2022-05-19T16:23:08.372269Z",
     "start_time": "2022-05-19T16:23:08.262259Z"
    }
   },
   "outputs": [
    {
     "data": {
      "text/plain": [
       "(278,)"
      ]
     },
     "execution_count": 28,
     "metadata": {},
     "output_type": "execute_result"
    }
   ],
   "source": [
    "y_train.shape"
   ]
  },
  {
   "cell_type": "code",
   "execution_count": 29,
   "id": "e4db0e50",
   "metadata": {
    "ExecuteTime": {
     "end_time": "2022-05-19T16:23:08.481964Z",
     "start_time": "2022-05-19T16:23:08.377235Z"
    }
   },
   "outputs": [
    {
     "data": {
      "text/plain": [
       "(120,)"
      ]
     },
     "execution_count": 29,
     "metadata": {},
     "output_type": "execute_result"
    }
   ],
   "source": [
    "y_test.shape"
   ]
  },
  {
   "cell_type": "markdown",
   "id": "2df918a4",
   "metadata": {},
   "source": [
    "##  Model Building\n",
    "    1.Object creation\n",
    "    2.Model fitting\n",
    "    3.Model prediction\n",
    "    4.Model evaluation"
   ]
  },
  {
   "cell_type": "code",
   "execution_count": 30,
   "id": "4f900ebf",
   "metadata": {
    "ExecuteTime": {
     "end_time": "2022-05-19T16:23:08.590234Z",
     "start_time": "2022-05-19T16:23:08.490953Z"
    }
   },
   "outputs": [],
   "source": [
    "model=LinearRegression()"
   ]
  },
  {
   "cell_type": "code",
   "execution_count": 31,
   "id": "8f81d15c",
   "metadata": {
    "ExecuteTime": {
     "end_time": "2022-05-19T16:23:08.753799Z",
     "start_time": "2022-05-19T16:23:08.597224Z"
    }
   },
   "outputs": [
    {
     "data": {
      "text/plain": [
       "LinearRegression()"
      ]
     },
     "execution_count": 31,
     "metadata": {},
     "output_type": "execute_result"
    }
   ],
   "source": [
    "model.fit(X_train,y_train)"
   ]
  },
  {
   "cell_type": "code",
   "execution_count": 32,
   "id": "10f84f4b",
   "metadata": {
    "ExecuteTime": {
     "end_time": "2022-05-19T16:23:08.881718Z",
     "start_time": "2022-05-19T16:23:08.757795Z"
    }
   },
   "outputs": [
    {
     "data": {
      "text/plain": [
       "array([19.42585194, 27.8660333 , 21.22381725, 28.2536898 , 22.52624727,\n",
       "       16.86370688, 30.15476895, 35.05648736, 18.71704462, 11.17711787,\n",
       "       30.61794852, 18.49884122, 19.95444606, 26.84164389, 36.93475033,\n",
       "       23.55430097, 10.70432629, 18.59790519,  9.12736053, 33.50480919,\n",
       "       26.16544084, 32.08588092, 19.25511299, 25.53081904, 26.10930543,\n",
       "       30.42413832, 32.92590017, 33.35168541, 16.29313291, 30.29159422,\n",
       "       24.97732632, 11.04952198, 21.55531399, 28.78155467, 25.40212318,\n",
       "       14.03051298, 27.07124632,  9.60263366, 31.98726829, 24.66510222,\n",
       "       24.65648861, 25.0123797 , 22.21533558, 33.9674628 , 23.69363205,\n",
       "       20.22797277, 19.30123208, 12.48982259, 29.05610466, 17.10854475,\n",
       "       24.73440059, 26.72223946, 17.97694772, 13.05755511, 28.81980896,\n",
       "       25.19721899, 10.32456716, 14.01426801, 31.0260922 , 36.16552764,\n",
       "       36.17916958, 36.18810318, 18.95093038, 25.32815633, 21.15808495,\n",
       "       33.24941211, 24.33193704, 24.8139528 , 30.04182359, 13.55399013,\n",
       "       21.38579852, 23.13614409, 15.15916987, 27.1087118 , 12.83922259,\n",
       "       26.22616095, 30.51992729, 17.56683125, 13.16603195, 23.53247997,\n",
       "       22.42129433, 19.43517647, 35.83137279, 24.26269   , 34.93414513,\n",
       "       15.97302028, 16.88254435, 22.0589575 , 35.63942458, 35.25445698,\n",
       "       20.59829054, 20.43362626, 22.28523353, 26.98219605, 31.4907486 ,\n",
       "       20.34085703, 33.61853399, 28.84620855, 23.973774  , 22.81524993,\n",
       "       19.18794084,  8.02349622, 16.51193495, 34.93347941, 14.27564471,\n",
       "       23.74890419, 31.46111752, 23.30043891, 25.77751745, 18.88182862,\n",
       "       17.61997941, 31.02798698, 28.1127315 , 15.5803177 , 24.47856766,\n",
       "       34.63107594, 11.09585263, 25.39358253, 25.56495881, 32.14488749])"
      ]
     },
     "execution_count": 32,
     "metadata": {},
     "output_type": "execute_result"
    }
   ],
   "source": [
    "model.predict(X_test)"
   ]
  },
  {
   "cell_type": "code",
   "execution_count": 33,
   "id": "1dbd276b",
   "metadata": {
    "ExecuteTime": {
     "end_time": "2022-05-19T16:23:09.007788Z",
     "start_time": "2022-05-19T16:23:08.884715Z"
    }
   },
   "outputs": [],
   "source": [
    "y_pred=model.predict(X_test)"
   ]
  },
  {
   "cell_type": "code",
   "execution_count": 34,
   "id": "80fd3605",
   "metadata": {
    "ExecuteTime": {
     "end_time": "2022-05-19T16:23:09.132935Z",
     "start_time": "2022-05-19T16:23:09.015770Z"
    }
   },
   "outputs": [
    {
     "data": {
      "text/plain": [
       "array([19.42585194, 27.8660333 , 21.22381725, 28.2536898 , 22.52624727,\n",
       "       16.86370688, 30.15476895, 35.05648736, 18.71704462, 11.17711787,\n",
       "       30.61794852, 18.49884122, 19.95444606, 26.84164389, 36.93475033,\n",
       "       23.55430097, 10.70432629, 18.59790519,  9.12736053, 33.50480919,\n",
       "       26.16544084, 32.08588092, 19.25511299, 25.53081904, 26.10930543,\n",
       "       30.42413832, 32.92590017, 33.35168541, 16.29313291, 30.29159422,\n",
       "       24.97732632, 11.04952198, 21.55531399, 28.78155467, 25.40212318,\n",
       "       14.03051298, 27.07124632,  9.60263366, 31.98726829, 24.66510222,\n",
       "       24.65648861, 25.0123797 , 22.21533558, 33.9674628 , 23.69363205,\n",
       "       20.22797277, 19.30123208, 12.48982259, 29.05610466, 17.10854475,\n",
       "       24.73440059, 26.72223946, 17.97694772, 13.05755511, 28.81980896,\n",
       "       25.19721899, 10.32456716, 14.01426801, 31.0260922 , 36.16552764,\n",
       "       36.17916958, 36.18810318, 18.95093038, 25.32815633, 21.15808495,\n",
       "       33.24941211, 24.33193704, 24.8139528 , 30.04182359, 13.55399013,\n",
       "       21.38579852, 23.13614409, 15.15916987, 27.1087118 , 12.83922259,\n",
       "       26.22616095, 30.51992729, 17.56683125, 13.16603195, 23.53247997,\n",
       "       22.42129433, 19.43517647, 35.83137279, 24.26269   , 34.93414513,\n",
       "       15.97302028, 16.88254435, 22.0589575 , 35.63942458, 35.25445698,\n",
       "       20.59829054, 20.43362626, 22.28523353, 26.98219605, 31.4907486 ,\n",
       "       20.34085703, 33.61853399, 28.84620855, 23.973774  , 22.81524993,\n",
       "       19.18794084,  8.02349622, 16.51193495, 34.93347941, 14.27564471,\n",
       "       23.74890419, 31.46111752, 23.30043891, 25.77751745, 18.88182862,\n",
       "       17.61997941, 31.02798698, 28.1127315 , 15.5803177 , 24.47856766,\n",
       "       34.63107594, 11.09585263, 25.39358253, 25.56495881, 32.14488749])"
      ]
     },
     "execution_count": 34,
     "metadata": {},
     "output_type": "execute_result"
    }
   ],
   "source": [
    "y_pred"
   ]
  },
  {
   "cell_type": "code",
   "execution_count": 35,
   "id": "ef196046",
   "metadata": {
    "ExecuteTime": {
     "end_time": "2022-05-19T16:23:09.292382Z",
     "start_time": "2022-05-19T16:23:09.137928Z"
    }
   },
   "outputs": [
    {
     "data": {
      "text/plain": [
       "120"
      ]
     },
     "execution_count": 35,
     "metadata": {},
     "output_type": "execute_result"
    }
   ],
   "source": [
    "len(y_pred)"
   ]
  },
  {
   "cell_type": "code",
   "execution_count": 36,
   "id": "2794d04f",
   "metadata": {
    "ExecuteTime": {
     "end_time": "2022-05-19T16:23:09.414476Z",
     "start_time": "2022-05-19T16:23:09.300374Z"
    }
   },
   "outputs": [
    {
     "data": {
      "text/plain": [
       "0.8550851758053875"
      ]
     },
     "execution_count": 36,
     "metadata": {},
     "output_type": "execute_result"
    }
   ],
   "source": [
    "r2_score(y_test,y_pred)"
   ]
  },
  {
   "cell_type": "code",
   "execution_count": 37,
   "id": "45cc099d",
   "metadata": {
    "ExecuteTime": {
     "end_time": "2022-05-19T16:23:09.538589Z",
     "start_time": "2022-05-19T16:23:09.421471Z"
    }
   },
   "outputs": [
    {
     "data": {
      "text/plain": [
       "2.9107948352334394"
      ]
     },
     "execution_count": 37,
     "metadata": {},
     "output_type": "execute_result"
    }
   ],
   "source": [
    "np.sqrt(mean_squared_error(y_test,y_pred))"
   ]
  },
  {
   "cell_type": "markdown",
   "id": "e01063f1",
   "metadata": {},
   "source": [
    "##  Model Analysis"
   ]
  },
  {
   "cell_type": "code",
   "execution_count": 38,
   "id": "9a64a0da",
   "metadata": {
    "ExecuteTime": {
     "end_time": "2022-05-19T16:23:09.678553Z",
     "start_time": "2022-05-19T16:23:09.544579Z"
    }
   },
   "outputs": [
    {
     "data": {
      "text/plain": [
       "-29.77159122447117"
      ]
     },
     "execution_count": 38,
     "metadata": {},
     "output_type": "execute_result"
    }
   ],
   "source": [
    "model.intercept_"
   ]
  },
  {
   "cell_type": "code",
   "execution_count": 39,
   "id": "ebcc1bf8",
   "metadata": {
    "ExecuteTime": {
     "end_time": "2022-05-19T16:23:09.788595Z",
     "start_time": "2022-05-19T16:23:09.686531Z"
    }
   },
   "outputs": [
    {
     "data": {
      "text/plain": [
       "array([ 1.50535129,  0.02196455, -0.0431252 , -0.00657054,  0.03225078,\n",
       "        0.79641845,  5.79371433,  2.13364186,  2.23053928])"
      ]
     },
     "execution_count": 39,
     "metadata": {},
     "output_type": "execute_result"
    }
   ],
   "source": [
    "model.coef_"
   ]
  },
  {
   "cell_type": "code",
   "execution_count": 40,
   "id": "f45e8f68",
   "metadata": {
    "ExecuteTime": {
     "end_time": "2022-05-19T16:23:09.904447Z",
     "start_time": "2022-05-19T16:23:09.798583Z"
    }
   },
   "outputs": [
    {
     "name": "stdout",
     "output_type": "stream",
     "text": [
      "coefficient for cyl is 1.505351293830718\n",
      "coefficient for disp is 0.02196455340020894\n",
      "coefficient for hp is -0.043125202586347125\n",
      "coefficient for wt is -0.006570535611265039\n",
      "coefficient for acc is 0.032250777588345374\n",
      "coefficient for yr is 0.7964184454325701\n",
      "coefficient for car_type is 5.793714326425115\n",
      "coefficient for origin_Asia is 2.133641860684333\n",
      "coefficient for origin_Europe is 2.2305392772836337\n"
     ]
    }
   ],
   "source": [
    "model_coef=model.coef_\n",
    "for i,column_name in enumerate(X_train.columns):\n",
    "    print(f'coefficient for {column_name} is {model_coef[i]}')\n"
   ]
  },
  {
   "cell_type": "code",
   "execution_count": 41,
   "id": "2eac9e03",
   "metadata": {
    "ExecuteTime": {
     "end_time": "2022-05-19T16:23:10.067998Z",
     "start_time": "2022-05-19T16:23:09.908411Z"
    }
   },
   "outputs": [
    {
     "data": {
      "text/plain": [
       "Index(['cyl', 'disp', 'hp', 'wt', 'acc', 'yr', 'car_type', 'origin_Asia',\n",
       "       'origin_Europe'],\n",
       "      dtype='object')"
      ]
     },
     "execution_count": 41,
     "metadata": {},
     "output_type": "execute_result"
    }
   ],
   "source": [
    "X_train.columns"
   ]
  },
  {
   "cell_type": "markdown",
   "id": "fee0251f",
   "metadata": {},
   "source": [
    "##  Training and Testing Accuracy"
   ]
  },
  {
   "cell_type": "code",
   "execution_count": 42,
   "id": "72c85ac6",
   "metadata": {
    "ExecuteTime": {
     "end_time": "2022-05-19T16:23:10.201231Z",
     "start_time": "2022-05-19T16:23:10.072977Z"
    }
   },
   "outputs": [],
   "source": [
    "y_train_pred=model.predict(X_train)\n",
    "y_test_pred=model.predict(X_test)"
   ]
  },
  {
   "cell_type": "code",
   "execution_count": 43,
   "id": "6d51992d",
   "metadata": {
    "ExecuteTime": {
     "end_time": "2022-05-19T16:23:10.332742Z",
     "start_time": "2022-05-19T16:23:10.207228Z"
    }
   },
   "outputs": [
    {
     "name": "stdout",
     "output_type": "stream",
     "text": [
      "training accuracy is 0.8336633299551519\n",
      "testing accuracy is 0.8550851758053875\n"
     ]
    }
   ],
   "source": [
    "print(f'training accuracy is {r2_score(y_train,y_train_pred)}')\n",
    "print(f'testing accuracy is {r2_score(y_test,y_test_pred)}')"
   ]
  }
 ],
 "metadata": {
  "kernelspec": {
   "display_name": "Python 3 (ipykernel)",
   "language": "python",
   "name": "python3"
  },
  "language_info": {
   "codemirror_mode": {
    "name": "ipython",
    "version": 3
   },
   "file_extension": ".py",
   "mimetype": "text/x-python",
   "name": "python",
   "nbconvert_exporter": "python",
   "pygments_lexer": "ipython3",
   "version": "3.9.7"
  }
 },
 "nbformat": 4,
 "nbformat_minor": 5
}
