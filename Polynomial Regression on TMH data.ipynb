{
 "cells": [
  {
   "cell_type": "code",
   "execution_count": 1,
   "id": "e905db34",
   "metadata": {},
   "outputs": [],
   "source": [
    "import pandas as pd\n",
    "import numpy as np\n",
    "from sklearn.model_selection import train_test_split\n",
    "from sklearn.linear_model import LinearRegression\n",
    "from sklearn.metrics import r2_score,mean_squared_error\n",
    "from sklearn.preprocessing import PolynomialFeatures"
   ]
  },
  {
   "cell_type": "code",
   "execution_count": 2,
   "id": "25560be1",
   "metadata": {},
   "outputs": [],
   "source": [
    "df=pd.read_excel('Cancer Dataset.xlsx')"
   ]
  },
  {
   "cell_type": "code",
   "execution_count": 3,
   "id": "7360be78",
   "metadata": {},
   "outputs": [
    {
     "data": {
      "text/html": [
       "<div>\n",
       "<style scoped>\n",
       "    .dataframe tbody tr th:only-of-type {\n",
       "        vertical-align: middle;\n",
       "    }\n",
       "\n",
       "    .dataframe tbody tr th {\n",
       "        vertical-align: top;\n",
       "    }\n",
       "\n",
       "    .dataframe thead th {\n",
       "        text-align: right;\n",
       "    }\n",
       "</style>\n",
       "<table border=\"1\" class=\"dataframe\">\n",
       "  <thead>\n",
       "    <tr style=\"text-align: right;\">\n",
       "      <th></th>\n",
       "      <th>Report</th>\n",
       "      <th>Herceptin</th>\n",
       "      <th>Doxorubicin</th>\n",
       "    </tr>\n",
       "  </thead>\n",
       "  <tbody>\n",
       "    <tr>\n",
       "      <th>0</th>\n",
       "      <td>18.73178</td>\n",
       "      <td>38.887286</td>\n",
       "      <td>19.912786</td>\n",
       "    </tr>\n",
       "    <tr>\n",
       "      <th>1</th>\n",
       "      <td>18.74178</td>\n",
       "      <td>38.943168</td>\n",
       "      <td>19.928077</td>\n",
       "    </tr>\n",
       "    <tr>\n",
       "      <th>2</th>\n",
       "      <td>18.76178</td>\n",
       "      <td>39.055101</td>\n",
       "      <td>19.958675</td>\n",
       "    </tr>\n",
       "    <tr>\n",
       "      <th>3</th>\n",
       "      <td>18.77178</td>\n",
       "      <td>39.111152</td>\n",
       "      <td>19.973981</td>\n",
       "    </tr>\n",
       "    <tr>\n",
       "      <th>4</th>\n",
       "      <td>18.81780</td>\n",
       "      <td>39.369823</td>\n",
       "      <td>20.044488</td>\n",
       "    </tr>\n",
       "  </tbody>\n",
       "</table>\n",
       "</div>"
      ],
      "text/plain": [
       "     Report  Herceptin  Doxorubicin\n",
       "0  18.73178  38.887286    19.912786\n",
       "1  18.74178  38.943168    19.928077\n",
       "2  18.76178  39.055101    19.958675\n",
       "3  18.77178  39.111152    19.973981\n",
       "4  18.81780  39.369823    20.044488"
      ]
     },
     "execution_count": 3,
     "metadata": {},
     "output_type": "execute_result"
    }
   ],
   "source": [
    "df.head()"
   ]
  },
  {
   "cell_type": "code",
   "execution_count": 4,
   "id": "fb1a2882",
   "metadata": {},
   "outputs": [
    {
     "name": "stdout",
     "output_type": "stream",
     "text": [
      "<class 'pandas.core.frame.DataFrame'>\n",
      "RangeIndex: 99 entries, 0 to 98\n",
      "Data columns (total 3 columns):\n",
      " #   Column       Non-Null Count  Dtype  \n",
      "---  ------       --------------  -----  \n",
      " 0   Report       99 non-null     float64\n",
      " 1   Herceptin    99 non-null     float64\n",
      " 2   Doxorubicin  99 non-null     float64\n",
      "dtypes: float64(3)\n",
      "memory usage: 2.4 KB\n"
     ]
    }
   ],
   "source": [
    "df.info()"
   ]
  },
  {
   "cell_type": "code",
   "execution_count": 5,
   "id": "9e2333e1",
   "metadata": {},
   "outputs": [],
   "source": [
    "df1=df[['Report','Herceptin']]"
   ]
  },
  {
   "cell_type": "code",
   "execution_count": 6,
   "id": "c901fa38",
   "metadata": {},
   "outputs": [],
   "source": [
    "df2=df.drop('Herceptin',axis=1)"
   ]
  },
  {
   "cell_type": "code",
   "execution_count": 7,
   "id": "3caf6915",
   "metadata": {},
   "outputs": [
    {
     "data": {
      "text/html": [
       "<div>\n",
       "<style scoped>\n",
       "    .dataframe tbody tr th:only-of-type {\n",
       "        vertical-align: middle;\n",
       "    }\n",
       "\n",
       "    .dataframe tbody tr th {\n",
       "        vertical-align: top;\n",
       "    }\n",
       "\n",
       "    .dataframe thead th {\n",
       "        text-align: right;\n",
       "    }\n",
       "</style>\n",
       "<table border=\"1\" class=\"dataframe\">\n",
       "  <thead>\n",
       "    <tr style=\"text-align: right;\">\n",
       "      <th></th>\n",
       "      <th>Report</th>\n",
       "      <th>Herceptin</th>\n",
       "    </tr>\n",
       "  </thead>\n",
       "  <tbody>\n",
       "    <tr>\n",
       "      <th>0</th>\n",
       "      <td>18.73178</td>\n",
       "      <td>38.887286</td>\n",
       "    </tr>\n",
       "    <tr>\n",
       "      <th>1</th>\n",
       "      <td>18.74178</td>\n",
       "      <td>38.943168</td>\n",
       "    </tr>\n",
       "    <tr>\n",
       "      <th>2</th>\n",
       "      <td>18.76178</td>\n",
       "      <td>39.055101</td>\n",
       "    </tr>\n",
       "    <tr>\n",
       "      <th>3</th>\n",
       "      <td>18.77178</td>\n",
       "      <td>39.111152</td>\n",
       "    </tr>\n",
       "    <tr>\n",
       "      <th>4</th>\n",
       "      <td>18.81780</td>\n",
       "      <td>39.369823</td>\n",
       "    </tr>\n",
       "  </tbody>\n",
       "</table>\n",
       "</div>"
      ],
      "text/plain": [
       "     Report  Herceptin\n",
       "0  18.73178  38.887286\n",
       "1  18.74178  38.943168\n",
       "2  18.76178  39.055101\n",
       "3  18.77178  39.111152\n",
       "4  18.81780  39.369823"
      ]
     },
     "execution_count": 7,
     "metadata": {},
     "output_type": "execute_result"
    }
   ],
   "source": [
    "df1.head()"
   ]
  },
  {
   "cell_type": "code",
   "execution_count": 8,
   "id": "86cc8a2e",
   "metadata": {},
   "outputs": [
    {
     "data": {
      "text/html": [
       "<div>\n",
       "<style scoped>\n",
       "    .dataframe tbody tr th:only-of-type {\n",
       "        vertical-align: middle;\n",
       "    }\n",
       "\n",
       "    .dataframe tbody tr th {\n",
       "        vertical-align: top;\n",
       "    }\n",
       "\n",
       "    .dataframe thead th {\n",
       "        text-align: right;\n",
       "    }\n",
       "</style>\n",
       "<table border=\"1\" class=\"dataframe\">\n",
       "  <thead>\n",
       "    <tr style=\"text-align: right;\">\n",
       "      <th></th>\n",
       "      <th>Report</th>\n",
       "      <th>Doxorubicin</th>\n",
       "    </tr>\n",
       "  </thead>\n",
       "  <tbody>\n",
       "    <tr>\n",
       "      <th>0</th>\n",
       "      <td>18.73178</td>\n",
       "      <td>19.912786</td>\n",
       "    </tr>\n",
       "    <tr>\n",
       "      <th>1</th>\n",
       "      <td>18.74178</td>\n",
       "      <td>19.928077</td>\n",
       "    </tr>\n",
       "    <tr>\n",
       "      <th>2</th>\n",
       "      <td>18.76178</td>\n",
       "      <td>19.958675</td>\n",
       "    </tr>\n",
       "    <tr>\n",
       "      <th>3</th>\n",
       "      <td>18.77178</td>\n",
       "      <td>19.973981</td>\n",
       "    </tr>\n",
       "    <tr>\n",
       "      <th>4</th>\n",
       "      <td>18.81780</td>\n",
       "      <td>20.044488</td>\n",
       "    </tr>\n",
       "  </tbody>\n",
       "</table>\n",
       "</div>"
      ],
      "text/plain": [
       "     Report  Doxorubicin\n",
       "0  18.73178    19.912786\n",
       "1  18.74178    19.928077\n",
       "2  18.76178    19.958675\n",
       "3  18.77178    19.973981\n",
       "4  18.81780    20.044488"
      ]
     },
     "execution_count": 8,
     "metadata": {},
     "output_type": "execute_result"
    }
   ],
   "source": [
    "df2.head()"
   ]
  },
  {
   "cell_type": "code",
   "execution_count": 9,
   "id": "92fa3703",
   "metadata": {},
   "outputs": [
    {
     "name": "stdout",
     "output_type": "stream",
     "text": [
      "<class 'pandas.core.frame.DataFrame'>\n",
      "RangeIndex: 99 entries, 0 to 98\n",
      "Data columns (total 2 columns):\n",
      " #   Column     Non-Null Count  Dtype  \n",
      "---  ------     --------------  -----  \n",
      " 0   Report     99 non-null     float64\n",
      " 1   Herceptin  99 non-null     float64\n",
      "dtypes: float64(2)\n",
      "memory usage: 1.7 KB\n"
     ]
    }
   ],
   "source": [
    "df1.info()"
   ]
  },
  {
   "cell_type": "code",
   "execution_count": 10,
   "id": "4988f813",
   "metadata": {},
   "outputs": [
    {
     "data": {
      "text/html": [
       "<div>\n",
       "<style scoped>\n",
       "    .dataframe tbody tr th:only-of-type {\n",
       "        vertical-align: middle;\n",
       "    }\n",
       "\n",
       "    .dataframe tbody tr th {\n",
       "        vertical-align: top;\n",
       "    }\n",
       "\n",
       "    .dataframe thead th {\n",
       "        text-align: right;\n",
       "    }\n",
       "</style>\n",
       "<table border=\"1\" class=\"dataframe\">\n",
       "  <thead>\n",
       "    <tr style=\"text-align: right;\">\n",
       "      <th></th>\n",
       "      <th>Report</th>\n",
       "      <th>Herceptin</th>\n",
       "    </tr>\n",
       "  </thead>\n",
       "  <tbody>\n",
       "    <tr>\n",
       "      <th>count</th>\n",
       "      <td>99.000000</td>\n",
       "      <td>99.000000</td>\n",
       "    </tr>\n",
       "    <tr>\n",
       "      <th>mean</th>\n",
       "      <td>77.106739</td>\n",
       "      <td>3977.108776</td>\n",
       "    </tr>\n",
       "    <tr>\n",
       "      <th>std</th>\n",
       "      <td>37.728147</td>\n",
       "      <td>4381.727371</td>\n",
       "    </tr>\n",
       "    <tr>\n",
       "      <th>min</th>\n",
       "      <td>18.731780</td>\n",
       "      <td>38.887286</td>\n",
       "    </tr>\n",
       "    <tr>\n",
       "      <th>25%</th>\n",
       "      <td>46.979450</td>\n",
       "      <td>533.097602</td>\n",
       "    </tr>\n",
       "    <tr>\n",
       "      <th>50%</th>\n",
       "      <td>77.527120</td>\n",
       "      <td>2352.759239</td>\n",
       "    </tr>\n",
       "    <tr>\n",
       "      <th>75%</th>\n",
       "      <td>105.824790</td>\n",
       "      <td>5955.145582</td>\n",
       "    </tr>\n",
       "    <tr>\n",
       "      <th>max</th>\n",
       "      <td>144.485350</td>\n",
       "      <td>15118.436139</td>\n",
       "    </tr>\n",
       "  </tbody>\n",
       "</table>\n",
       "</div>"
      ],
      "text/plain": [
       "           Report     Herceptin\n",
       "count   99.000000     99.000000\n",
       "mean    77.106739   3977.108776\n",
       "std     37.728147   4381.727371\n",
       "min     18.731780     38.887286\n",
       "25%     46.979450    533.097602\n",
       "50%     77.527120   2352.759239\n",
       "75%    105.824790   5955.145582\n",
       "max    144.485350  15118.436139"
      ]
     },
     "execution_count": 10,
     "metadata": {},
     "output_type": "execute_result"
    }
   ],
   "source": [
    "df1.describe()"
   ]
  },
  {
   "cell_type": "code",
   "execution_count": 11,
   "id": "fea9a6f8",
   "metadata": {},
   "outputs": [
    {
     "data": {
      "text/plain": [
       "Report       0.127887\n",
       "Herceptin    1.126327\n",
       "dtype: float64"
      ]
     },
     "execution_count": 11,
     "metadata": {},
     "output_type": "execute_result"
    }
   ],
   "source": [
    "df1.skew()"
   ]
  },
  {
   "cell_type": "code",
   "execution_count": 12,
   "id": "4c835de2",
   "metadata": {},
   "outputs": [],
   "source": [
    "y1=df1.drop('Report',axis=1)\n",
    "x1=df1[['Report']]"
   ]
  },
  {
   "cell_type": "code",
   "execution_count": 13,
   "id": "e8af6b4d",
   "metadata": {},
   "outputs": [],
   "source": [
    "x1_train,x1_test,y1_train,y1_test=train_test_split(x1,y1,test_size=0.1,random_state=10)"
   ]
  },
  {
   "cell_type": "code",
   "execution_count": 14,
   "id": "5e59c79a",
   "metadata": {},
   "outputs": [],
   "source": [
    "model1=LinearRegression()"
   ]
  },
  {
   "cell_type": "code",
   "execution_count": 15,
   "id": "1c896ac8",
   "metadata": {},
   "outputs": [
    {
     "data": {
      "text/plain": [
       "LinearRegression()"
      ]
     },
     "execution_count": 15,
     "metadata": {},
     "output_type": "execute_result"
    }
   ],
   "source": [
    "model1.fit(x1_train,y1_train)"
   ]
  },
  {
   "cell_type": "code",
   "execution_count": 16,
   "id": "1d0c712d",
   "metadata": {},
   "outputs": [],
   "source": [
    "y1_pred=model1.predict(x1_test)"
   ]
  },
  {
   "cell_type": "code",
   "execution_count": 17,
   "id": "a75525a7",
   "metadata": {},
   "outputs": [
    {
     "data": {
      "text/plain": [
       "0.7081131980799265"
      ]
     },
     "execution_count": 17,
     "metadata": {},
     "output_type": "execute_result"
    }
   ],
   "source": [
    "r2_score(y1_test,y1_pred)"
   ]
  },
  {
   "cell_type": "code",
   "execution_count": 18,
   "id": "d0be9cde",
   "metadata": {},
   "outputs": [],
   "source": [
    "y2=df2.drop('Report',axis=1)\n",
    "x2=df2[['Report']]"
   ]
  },
  {
   "cell_type": "code",
   "execution_count": 19,
   "id": "72f5c216",
   "metadata": {},
   "outputs": [],
   "source": [
    "x2_train,x2_test,y2_train,y2_test=train_test_split(x2,y2,test_size=0.1,random_state=10)"
   ]
  },
  {
   "cell_type": "code",
   "execution_count": 20,
   "id": "206e50ab",
   "metadata": {},
   "outputs": [],
   "source": [
    "model2=LinearRegression()"
   ]
  },
  {
   "cell_type": "code",
   "execution_count": 21,
   "id": "015d7357",
   "metadata": {},
   "outputs": [
    {
     "data": {
      "text/plain": [
       "LinearRegression()"
      ]
     },
     "execution_count": 21,
     "metadata": {},
     "output_type": "execute_result"
    }
   ],
   "source": [
    "model2.fit(x2_train,y2_train)"
   ]
  },
  {
   "cell_type": "code",
   "execution_count": 22,
   "id": "2b15f049",
   "metadata": {},
   "outputs": [],
   "source": [
    "y2_pred=model2.predict(x2_test)"
   ]
  },
  {
   "cell_type": "code",
   "execution_count": 23,
   "id": "dea6a753",
   "metadata": {},
   "outputs": [
    {
     "data": {
      "text/plain": [
       "0.9353676696372673"
      ]
     },
     "execution_count": 23,
     "metadata": {},
     "output_type": "execute_result"
    }
   ],
   "source": [
    "r2_score(y2_test,y2_pred)"
   ]
  },
  {
   "cell_type": "markdown",
   "id": "e16deb74",
   "metadata": {},
   "source": [
    "##  Polynomial regression on herceptin"
   ]
  },
  {
   "cell_type": "code",
   "execution_count": 24,
   "id": "a967dce4",
   "metadata": {},
   "outputs": [],
   "source": [
    "poly=PolynomialFeatures(degree=2)"
   ]
  },
  {
   "cell_type": "code",
   "execution_count": 25,
   "id": "73cd4b91",
   "metadata": {},
   "outputs": [],
   "source": [
    "x_poly1=poly.fit_transform(x1)"
   ]
  },
  {
   "cell_type": "code",
   "execution_count": 26,
   "id": "bec11fbf",
   "metadata": {},
   "outputs": [
    {
     "data": {
      "text/html": [
       "<div>\n",
       "<style scoped>\n",
       "    .dataframe tbody tr th:only-of-type {\n",
       "        vertical-align: middle;\n",
       "    }\n",
       "\n",
       "    .dataframe tbody tr th {\n",
       "        vertical-align: top;\n",
       "    }\n",
       "\n",
       "    .dataframe thead th {\n",
       "        text-align: right;\n",
       "    }\n",
       "</style>\n",
       "<table border=\"1\" class=\"dataframe\">\n",
       "  <thead>\n",
       "    <tr style=\"text-align: right;\">\n",
       "      <th></th>\n",
       "      <th>Report</th>\n",
       "    </tr>\n",
       "  </thead>\n",
       "  <tbody>\n",
       "    <tr>\n",
       "      <th>0</th>\n",
       "      <td>18.73178</td>\n",
       "    </tr>\n",
       "    <tr>\n",
       "      <th>1</th>\n",
       "      <td>18.74178</td>\n",
       "    </tr>\n",
       "    <tr>\n",
       "      <th>2</th>\n",
       "      <td>18.76178</td>\n",
       "    </tr>\n",
       "    <tr>\n",
       "      <th>3</th>\n",
       "      <td>18.77178</td>\n",
       "    </tr>\n",
       "    <tr>\n",
       "      <th>4</th>\n",
       "      <td>18.81780</td>\n",
       "    </tr>\n",
       "  </tbody>\n",
       "</table>\n",
       "</div>"
      ],
      "text/plain": [
       "     Report\n",
       "0  18.73178\n",
       "1  18.74178\n",
       "2  18.76178\n",
       "3  18.77178\n",
       "4  18.81780"
      ]
     },
     "execution_count": 26,
     "metadata": {},
     "output_type": "execute_result"
    }
   ],
   "source": [
    "x1.head()"
   ]
  },
  {
   "cell_type": "code",
   "execution_count": 27,
   "id": "a3e10bda",
   "metadata": {},
   "outputs": [
    {
     "data": {
      "text/plain": [
       "array([[1.00000000e+00, 1.87317800e+01, 3.50879582e+02],\n",
       "       [1.00000000e+00, 1.87417800e+01, 3.51254318e+02],\n",
       "       [1.00000000e+00, 1.87617800e+01, 3.52004389e+02],\n",
       "       [1.00000000e+00, 1.87717800e+01, 3.52379724e+02],\n",
       "       [1.00000000e+00, 1.88178000e+01, 3.54109597e+02],\n",
       "       [1.00000000e+00, 2.07317800e+01, 4.29806702e+02],\n",
       "       [1.00000000e+00, 2.20976700e+01, 4.88307019e+02],\n",
       "       [1.00000000e+00, 2.30976700e+01, 5.33502359e+02],\n",
       "       [1.00000000e+00, 2.60976700e+01, 6.81088379e+02],\n",
       "       [1.00000000e+00, 2.70976700e+01, 7.34283719e+02],\n",
       "       [1.00000000e+00, 2.71976700e+01, 7.39713253e+02],\n",
       "       [1.00000000e+00, 2.76976700e+01, 7.67160923e+02],\n",
       "       [1.00000000e+00, 2.80976700e+01, 7.89479059e+02],\n",
       "       [1.00000000e+00, 3.00976700e+01, 9.05869739e+02],\n",
       "       [1.00000000e+00, 3.14635600e+01, 9.89955608e+02],\n",
       "       [1.00000000e+00, 3.24635600e+01, 1.05388273e+03],\n",
       "       [1.00000000e+00, 3.34635600e+01, 1.11980985e+03],\n",
       "       [1.00000000e+00, 3.44635600e+01, 1.18773697e+03],\n",
       "       [1.00000000e+00, 3.54635600e+01, 1.25766409e+03],\n",
       "       [1.00000000e+00, 3.57635600e+01, 1.27903222e+03],\n",
       "       [1.00000000e+00, 3.61635600e+01, 1.30780307e+03],\n",
       "       [1.00000000e+00, 3.62535600e+01, 1.31432061e+03],\n",
       "       [1.00000000e+00, 3.69635600e+01, 1.36630477e+03],\n",
       "       [1.00000000e+00, 3.74635600e+01, 1.40351833e+03],\n",
       "       [1.00000000e+00, 4.68294500e+01, 2.19299739e+03],\n",
       "       [1.00000000e+00, 4.71294500e+01, 2.22118506e+03],\n",
       "       [1.00000000e+00, 4.85694500e+01, 2.35899147e+03],\n",
       "       [1.00000000e+00, 4.98294500e+01, 2.48297409e+03],\n",
       "       [1.00000000e+00, 5.09294500e+01, 2.59380888e+03],\n",
       "       [1.00000000e+00, 5.18294500e+01, 2.68629189e+03],\n",
       "       [1.00000000e+00, 5.38294500e+01, 2.89760969e+03],\n",
       "       [1.00000000e+00, 5.61953400e+01, 3.15791624e+03],\n",
       "       [1.00000000e+00, 5.72353400e+01, 3.27588414e+03],\n",
       "       [1.00000000e+00, 5.81963400e+01, 3.38681399e+03],\n",
       "       [1.00000000e+00, 5.89953400e+01, 3.48045014e+03],\n",
       "       [1.00000000e+00, 5.91953400e+01, 3.50408828e+03],\n",
       "       [1.00000000e+00, 6.01568340e+01, 3.61884468e+03],\n",
       "       [1.00000000e+00, 6.21583400e+01, 3.86365923e+03],\n",
       "       [1.00000000e+00, 6.55612300e+01, 4.29827488e+03],\n",
       "       [1.00000000e+00, 6.67812300e+01, 4.45973268e+03],\n",
       "       [1.00000000e+00, 6.78952300e+01, 4.60976226e+03],\n",
       "       [1.00000000e+00, 6.79612300e+01, 4.61872878e+03],\n",
       "       [1.00000000e+00, 6.89892300e+01, 4.75951386e+03],\n",
       "       [1.00000000e+00, 7.05612300e+01, 4.97888718e+03],\n",
       "       [1.00000000e+00, 7.29812300e+01, 5.32625993e+03],\n",
       "       [1.00000000e+00, 7.49271200e+01, 5.61407331e+03],\n",
       "       [1.00000000e+00, 7.52271200e+01, 5.65911958e+03],\n",
       "       [1.00000000e+00, 7.65671200e+01, 5.86252387e+03],\n",
       "       [1.00000000e+00, 7.71271200e+01, 5.94859264e+03],\n",
       "       [1.00000000e+00, 7.75271200e+01, 6.01045434e+03],\n",
       "       [1.00000000e+00, 7.77271200e+01, 6.04150518e+03],\n",
       "       [1.00000000e+00, 7.81071200e+01, 6.10072219e+03],\n",
       "       [1.00000000e+00, 7.82571200e+01, 6.12417683e+03],\n",
       "       [1.00000000e+00, 7.82597120e+01, 6.12458252e+03],\n",
       "       [1.00000000e+00, 7.89291200e+01, 6.22980598e+03],\n",
       "       [1.00000000e+00, 8.09271200e+01, 6.54919875e+03],\n",
       "       [1.00000000e+00, 8.16271200e+01, 6.66298672e+03],\n",
       "       [1.00000000e+00, 8.17271200e+01, 6.67932214e+03],\n",
       "       [1.00000000e+00, 8.18271200e+01, 6.69567757e+03],\n",
       "       [1.00000000e+00, 8.42930100e+01, 7.10531153e+03],\n",
       "       [1.00000000e+00, 8.58301000e+01, 7.36680607e+03],\n",
       "       [1.00000000e+00, 8.69301000e+01, 7.55684229e+03],\n",
       "       [1.00000000e+00, 8.77301000e+01, 7.69657045e+03],\n",
       "       [1.00000000e+00, 8.82830100e+01, 7.79388985e+03],\n",
       "       [1.00000000e+00, 9.01930100e+01, 8.13477905e+03],\n",
       "       [1.00000000e+00, 9.36589000e+01, 8.77198955e+03],\n",
       "       [1.00000000e+00, 9.46589000e+01, 8.96030735e+03],\n",
       "       [1.00000000e+00, 9.55589000e+01, 9.13150337e+03],\n",
       "       [1.00000000e+00, 9.69589000e+01, 9.40102829e+03],\n",
       "       [1.00000000e+00, 9.76989000e+01, 9.54507506e+03],\n",
       "       [1.00000000e+00, 1.03024790e+02, 1.06141074e+04],\n",
       "       [1.00000000e+00, 1.05124790e+02, 1.10512215e+04],\n",
       "       [1.00000000e+00, 1.05524790e+02, 1.11354813e+04],\n",
       "       [1.00000000e+00, 1.05724790e+02, 1.11777312e+04],\n",
       "       [1.00000000e+00, 1.05924790e+02, 1.12200611e+04],\n",
       "       [1.00000000e+00, 1.09364790e+02, 1.19606573e+04],\n",
       "       [1.00000000e+00, 1.10024790e+02, 1.21054544e+04],\n",
       "       [1.00000000e+00, 1.12390680e+02, 1.26316650e+04],\n",
       "       [1.00000000e+00, 1.18590680e+02, 1.40637494e+04],\n",
       "       [1.00000000e+00, 1.21756570e+02, 1.48246623e+04],\n",
       "       [1.00000000e+00, 1.21656570e+02, 1.48003210e+04],\n",
       "       [1.00000000e+00, 1.22556570e+02, 1.50201129e+04],\n",
       "       [1.00000000e+00, 1.23856570e+02, 1.53404499e+04],\n",
       "       [1.00000000e+00, 1.24695700e+02, 1.55490176e+04],\n",
       "       [1.00000000e+00, 1.25256570e+02, 1.56892083e+04],\n",
       "       [1.00000000e+00, 1.26565700e+02, 1.60188764e+04],\n",
       "       [1.00000000e+00, 1.27756570e+02, 1.63217412e+04],\n",
       "       [1.00000000e+00, 1.28866570e+02, 1.66065929e+04],\n",
       "       [1.00000000e+00, 1.30756570e+02, 1.70972806e+04],\n",
       "       [1.00000000e+00, 1.31122460e+02, 1.71930995e+04],\n",
       "       [1.00000000e+00, 1.33782460e+02, 1.78977466e+04],\n",
       "       [1.00000000e+00, 1.34522460e+02, 1.80962922e+04],\n",
       "       [1.00000000e+00, 1.36582460e+02, 1.86547684e+04],\n",
       "       [1.00000000e+00, 1.40488350e+02, 1.97369765e+04],\n",
       "       [1.00000000e+00, 1.40568350e+02, 1.97594610e+04],\n",
       "       [1.00000000e+00, 1.40638350e+02, 1.97791455e+04],\n",
       "       [1.00000000e+00, 1.41258350e+02, 1.99539214e+04],\n",
       "       [1.00000000e+00, 1.42368350e+02, 2.02687471e+04],\n",
       "       [1.00000000e+00, 1.44485350e+02, 2.08760164e+04]])"
      ]
     },
     "execution_count": 27,
     "metadata": {},
     "output_type": "execute_result"
    }
   ],
   "source": [
    "x_poly1 #the output format is c,x,x^2"
   ]
  },
  {
   "cell_type": "code",
   "execution_count": 28,
   "id": "df7ca72a",
   "metadata": {},
   "outputs": [],
   "source": [
    "x3_train,x3_test,y3_train,y3_test=train_test_split(x_poly1,y1,test_size=0.1,random_state=1)"
   ]
  },
  {
   "cell_type": "code",
   "execution_count": 29,
   "id": "02748188",
   "metadata": {},
   "outputs": [],
   "source": [
    "model3=LinearRegression()"
   ]
  },
  {
   "cell_type": "code",
   "execution_count": 30,
   "id": "2297694a",
   "metadata": {},
   "outputs": [
    {
     "data": {
      "text/plain": [
       "LinearRegression()"
      ]
     },
     "execution_count": 30,
     "metadata": {},
     "output_type": "execute_result"
    }
   ],
   "source": [
    "model3.fit(x3_train,y3_train)"
   ]
  },
  {
   "cell_type": "code",
   "execution_count": 31,
   "id": "727e3c89",
   "metadata": {},
   "outputs": [],
   "source": [
    "y3_pred=model3.predict(x3_test)"
   ]
  },
  {
   "cell_type": "code",
   "execution_count": 32,
   "id": "37f4dce0",
   "metadata": {},
   "outputs": [
    {
     "data": {
      "text/plain": [
       "0.9984884890269637"
      ]
     },
     "execution_count": 32,
     "metadata": {},
     "output_type": "execute_result"
    }
   ],
   "source": [
    "r2_score(y3_test,y3_pred)"
   ]
  },
  {
   "cell_type": "markdown",
   "id": "8c9ee839",
   "metadata": {},
   "source": [
    "####  Polynimial regression on doxorubicin"
   ]
  },
  {
   "cell_type": "code",
   "execution_count": 33,
   "id": "1a3621a1",
   "metadata": {},
   "outputs": [],
   "source": [
    "x_poly2=poly.fit_transform(x2)"
   ]
  },
  {
   "cell_type": "code",
   "execution_count": 34,
   "id": "8bdef863",
   "metadata": {},
   "outputs": [
    {
     "data": {
      "text/html": [
       "<div>\n",
       "<style scoped>\n",
       "    .dataframe tbody tr th:only-of-type {\n",
       "        vertical-align: middle;\n",
       "    }\n",
       "\n",
       "    .dataframe tbody tr th {\n",
       "        vertical-align: top;\n",
       "    }\n",
       "\n",
       "    .dataframe thead th {\n",
       "        text-align: right;\n",
       "    }\n",
       "</style>\n",
       "<table border=\"1\" class=\"dataframe\">\n",
       "  <thead>\n",
       "    <tr style=\"text-align: right;\">\n",
       "      <th></th>\n",
       "      <th>Report</th>\n",
       "    </tr>\n",
       "  </thead>\n",
       "  <tbody>\n",
       "    <tr>\n",
       "      <th>0</th>\n",
       "      <td>18.73178</td>\n",
       "    </tr>\n",
       "    <tr>\n",
       "      <th>1</th>\n",
       "      <td>18.74178</td>\n",
       "    </tr>\n",
       "    <tr>\n",
       "      <th>2</th>\n",
       "      <td>18.76178</td>\n",
       "    </tr>\n",
       "    <tr>\n",
       "      <th>3</th>\n",
       "      <td>18.77178</td>\n",
       "    </tr>\n",
       "    <tr>\n",
       "      <th>4</th>\n",
       "      <td>18.81780</td>\n",
       "    </tr>\n",
       "  </tbody>\n",
       "</table>\n",
       "</div>"
      ],
      "text/plain": [
       "     Report\n",
       "0  18.73178\n",
       "1  18.74178\n",
       "2  18.76178\n",
       "3  18.77178\n",
       "4  18.81780"
      ]
     },
     "execution_count": 34,
     "metadata": {},
     "output_type": "execute_result"
    }
   ],
   "source": [
    "x2.head()"
   ]
  },
  {
   "cell_type": "code",
   "execution_count": 35,
   "id": "57bf11a4",
   "metadata": {},
   "outputs": [
    {
     "data": {
      "text/plain": [
       "array([[1.00000000e+00, 1.87317800e+01, 3.50879582e+02],\n",
       "       [1.00000000e+00, 1.87417800e+01, 3.51254318e+02],\n",
       "       [1.00000000e+00, 1.87617800e+01, 3.52004389e+02],\n",
       "       [1.00000000e+00, 1.87717800e+01, 3.52379724e+02],\n",
       "       [1.00000000e+00, 1.88178000e+01, 3.54109597e+02],\n",
       "       [1.00000000e+00, 2.07317800e+01, 4.29806702e+02],\n",
       "       [1.00000000e+00, 2.20976700e+01, 4.88307019e+02],\n",
       "       [1.00000000e+00, 2.30976700e+01, 5.33502359e+02],\n",
       "       [1.00000000e+00, 2.60976700e+01, 6.81088379e+02],\n",
       "       [1.00000000e+00, 2.70976700e+01, 7.34283719e+02],\n",
       "       [1.00000000e+00, 2.71976700e+01, 7.39713253e+02],\n",
       "       [1.00000000e+00, 2.76976700e+01, 7.67160923e+02],\n",
       "       [1.00000000e+00, 2.80976700e+01, 7.89479059e+02],\n",
       "       [1.00000000e+00, 3.00976700e+01, 9.05869739e+02],\n",
       "       [1.00000000e+00, 3.14635600e+01, 9.89955608e+02],\n",
       "       [1.00000000e+00, 3.24635600e+01, 1.05388273e+03],\n",
       "       [1.00000000e+00, 3.34635600e+01, 1.11980985e+03],\n",
       "       [1.00000000e+00, 3.44635600e+01, 1.18773697e+03],\n",
       "       [1.00000000e+00, 3.54635600e+01, 1.25766409e+03],\n",
       "       [1.00000000e+00, 3.57635600e+01, 1.27903222e+03],\n",
       "       [1.00000000e+00, 3.61635600e+01, 1.30780307e+03],\n",
       "       [1.00000000e+00, 3.62535600e+01, 1.31432061e+03],\n",
       "       [1.00000000e+00, 3.69635600e+01, 1.36630477e+03],\n",
       "       [1.00000000e+00, 3.74635600e+01, 1.40351833e+03],\n",
       "       [1.00000000e+00, 4.68294500e+01, 2.19299739e+03],\n",
       "       [1.00000000e+00, 4.71294500e+01, 2.22118506e+03],\n",
       "       [1.00000000e+00, 4.85694500e+01, 2.35899147e+03],\n",
       "       [1.00000000e+00, 4.98294500e+01, 2.48297409e+03],\n",
       "       [1.00000000e+00, 5.09294500e+01, 2.59380888e+03],\n",
       "       [1.00000000e+00, 5.18294500e+01, 2.68629189e+03],\n",
       "       [1.00000000e+00, 5.38294500e+01, 2.89760969e+03],\n",
       "       [1.00000000e+00, 5.61953400e+01, 3.15791624e+03],\n",
       "       [1.00000000e+00, 5.72353400e+01, 3.27588414e+03],\n",
       "       [1.00000000e+00, 5.81963400e+01, 3.38681399e+03],\n",
       "       [1.00000000e+00, 5.89953400e+01, 3.48045014e+03],\n",
       "       [1.00000000e+00, 5.91953400e+01, 3.50408828e+03],\n",
       "       [1.00000000e+00, 6.01568340e+01, 3.61884468e+03],\n",
       "       [1.00000000e+00, 6.21583400e+01, 3.86365923e+03],\n",
       "       [1.00000000e+00, 6.55612300e+01, 4.29827488e+03],\n",
       "       [1.00000000e+00, 6.67812300e+01, 4.45973268e+03],\n",
       "       [1.00000000e+00, 6.78952300e+01, 4.60976226e+03],\n",
       "       [1.00000000e+00, 6.79612300e+01, 4.61872878e+03],\n",
       "       [1.00000000e+00, 6.89892300e+01, 4.75951386e+03],\n",
       "       [1.00000000e+00, 7.05612300e+01, 4.97888718e+03],\n",
       "       [1.00000000e+00, 7.29812300e+01, 5.32625993e+03],\n",
       "       [1.00000000e+00, 7.49271200e+01, 5.61407331e+03],\n",
       "       [1.00000000e+00, 7.52271200e+01, 5.65911958e+03],\n",
       "       [1.00000000e+00, 7.65671200e+01, 5.86252387e+03],\n",
       "       [1.00000000e+00, 7.71271200e+01, 5.94859264e+03],\n",
       "       [1.00000000e+00, 7.75271200e+01, 6.01045434e+03],\n",
       "       [1.00000000e+00, 7.77271200e+01, 6.04150518e+03],\n",
       "       [1.00000000e+00, 7.81071200e+01, 6.10072219e+03],\n",
       "       [1.00000000e+00, 7.82571200e+01, 6.12417683e+03],\n",
       "       [1.00000000e+00, 7.82597120e+01, 6.12458252e+03],\n",
       "       [1.00000000e+00, 7.89291200e+01, 6.22980598e+03],\n",
       "       [1.00000000e+00, 8.09271200e+01, 6.54919875e+03],\n",
       "       [1.00000000e+00, 8.16271200e+01, 6.66298672e+03],\n",
       "       [1.00000000e+00, 8.17271200e+01, 6.67932214e+03],\n",
       "       [1.00000000e+00, 8.18271200e+01, 6.69567757e+03],\n",
       "       [1.00000000e+00, 8.42930100e+01, 7.10531153e+03],\n",
       "       [1.00000000e+00, 8.58301000e+01, 7.36680607e+03],\n",
       "       [1.00000000e+00, 8.69301000e+01, 7.55684229e+03],\n",
       "       [1.00000000e+00, 8.77301000e+01, 7.69657045e+03],\n",
       "       [1.00000000e+00, 8.82830100e+01, 7.79388985e+03],\n",
       "       [1.00000000e+00, 9.01930100e+01, 8.13477905e+03],\n",
       "       [1.00000000e+00, 9.36589000e+01, 8.77198955e+03],\n",
       "       [1.00000000e+00, 9.46589000e+01, 8.96030735e+03],\n",
       "       [1.00000000e+00, 9.55589000e+01, 9.13150337e+03],\n",
       "       [1.00000000e+00, 9.69589000e+01, 9.40102829e+03],\n",
       "       [1.00000000e+00, 9.76989000e+01, 9.54507506e+03],\n",
       "       [1.00000000e+00, 1.03024790e+02, 1.06141074e+04],\n",
       "       [1.00000000e+00, 1.05124790e+02, 1.10512215e+04],\n",
       "       [1.00000000e+00, 1.05524790e+02, 1.11354813e+04],\n",
       "       [1.00000000e+00, 1.05724790e+02, 1.11777312e+04],\n",
       "       [1.00000000e+00, 1.05924790e+02, 1.12200611e+04],\n",
       "       [1.00000000e+00, 1.09364790e+02, 1.19606573e+04],\n",
       "       [1.00000000e+00, 1.10024790e+02, 1.21054544e+04],\n",
       "       [1.00000000e+00, 1.12390680e+02, 1.26316650e+04],\n",
       "       [1.00000000e+00, 1.18590680e+02, 1.40637494e+04],\n",
       "       [1.00000000e+00, 1.21756570e+02, 1.48246623e+04],\n",
       "       [1.00000000e+00, 1.21656570e+02, 1.48003210e+04],\n",
       "       [1.00000000e+00, 1.22556570e+02, 1.50201129e+04],\n",
       "       [1.00000000e+00, 1.23856570e+02, 1.53404499e+04],\n",
       "       [1.00000000e+00, 1.24695700e+02, 1.55490176e+04],\n",
       "       [1.00000000e+00, 1.25256570e+02, 1.56892083e+04],\n",
       "       [1.00000000e+00, 1.26565700e+02, 1.60188764e+04],\n",
       "       [1.00000000e+00, 1.27756570e+02, 1.63217412e+04],\n",
       "       [1.00000000e+00, 1.28866570e+02, 1.66065929e+04],\n",
       "       [1.00000000e+00, 1.30756570e+02, 1.70972806e+04],\n",
       "       [1.00000000e+00, 1.31122460e+02, 1.71930995e+04],\n",
       "       [1.00000000e+00, 1.33782460e+02, 1.78977466e+04],\n",
       "       [1.00000000e+00, 1.34522460e+02, 1.80962922e+04],\n",
       "       [1.00000000e+00, 1.36582460e+02, 1.86547684e+04],\n",
       "       [1.00000000e+00, 1.40488350e+02, 1.97369765e+04],\n",
       "       [1.00000000e+00, 1.40568350e+02, 1.97594610e+04],\n",
       "       [1.00000000e+00, 1.40638350e+02, 1.97791455e+04],\n",
       "       [1.00000000e+00, 1.41258350e+02, 1.99539214e+04],\n",
       "       [1.00000000e+00, 1.42368350e+02, 2.02687471e+04],\n",
       "       [1.00000000e+00, 1.44485350e+02, 2.08760164e+04]])"
      ]
     },
     "execution_count": 35,
     "metadata": {},
     "output_type": "execute_result"
    }
   ],
   "source": [
    "x_poly2"
   ]
  },
  {
   "cell_type": "code",
   "execution_count": 36,
   "id": "79f6b35e",
   "metadata": {},
   "outputs": [],
   "source": [
    "x4_train,x4_test,y4_train,y4_test=train_test_split(x_poly2,y2,test_size=0.1,random_state=1)"
   ]
  },
  {
   "cell_type": "code",
   "execution_count": 37,
   "id": "d5b05151",
   "metadata": {},
   "outputs": [],
   "source": [
    "model4=LinearRegression()"
   ]
  },
  {
   "cell_type": "code",
   "execution_count": 38,
   "id": "15a7a96c",
   "metadata": {},
   "outputs": [
    {
     "data": {
      "text/plain": [
       "LinearRegression()"
      ]
     },
     "execution_count": 38,
     "metadata": {},
     "output_type": "execute_result"
    }
   ],
   "source": [
    "model4.fit(x4_train,y4_train)"
   ]
  },
  {
   "cell_type": "code",
   "execution_count": 39,
   "id": "58239e21",
   "metadata": {},
   "outputs": [],
   "source": [
    "y4_pred=model4.predict(x4_test)"
   ]
  },
  {
   "cell_type": "code",
   "execution_count": 40,
   "id": "c3b434c2",
   "metadata": {},
   "outputs": [
    {
     "data": {
      "text/plain": [
       "1.0"
      ]
     },
     "execution_count": 40,
     "metadata": {},
     "output_type": "execute_result"
    }
   ],
   "source": [
    "r2_score(y4_test,y4_pred)"
   ]
  }
 ],
 "metadata": {
  "kernelspec": {
   "display_name": "Python 3 (ipykernel)",
   "language": "python",
   "name": "python3"
  },
  "language_info": {
   "codemirror_mode": {
    "name": "ipython",
    "version": 3
   },
   "file_extension": ".py",
   "mimetype": "text/x-python",
   "name": "python",
   "nbconvert_exporter": "python",
   "pygments_lexer": "ipython3",
   "version": "3.9.12"
  }
 },
 "nbformat": 4,
 "nbformat_minor": 5
}
