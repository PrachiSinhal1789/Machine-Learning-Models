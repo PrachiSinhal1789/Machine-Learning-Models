{
 "cells": [
  {
   "cell_type": "code",
   "execution_count": 1,
   "id": "22d10e5d",
   "metadata": {},
   "outputs": [],
   "source": [
    "import pandas as pd\n",
    "import numpy as np\n",
    "from sklearn.preprocessing import LabelEncoder\n",
    "from sklearn.ensemble import GradientBoostingRegressor\n",
    "from sklearn.model_selection import train_test_split,StratifiedKFold,cross_val_score,GridSearchCV\n",
    "from sklearn.metrics import r2_score"
   ]
  },
  {
   "cell_type": "code",
   "execution_count": 2,
   "id": "77d81324",
   "metadata": {},
   "outputs": [],
   "source": [
    "df=pd.read_excel('Xiaomi Raw Data.xlsx')"
   ]
  },
  {
   "cell_type": "code",
   "execution_count": 4,
   "id": "a2f74be8",
   "metadata": {},
   "outputs": [
    {
     "data": {
      "text/html": [
       "<div>\n",
       "<style scoped>\n",
       "    .dataframe tbody tr th:only-of-type {\n",
       "        vertical-align: middle;\n",
       "    }\n",
       "\n",
       "    .dataframe tbody tr th {\n",
       "        vertical-align: top;\n",
       "    }\n",
       "\n",
       "    .dataframe thead th {\n",
       "        text-align: right;\n",
       "    }\n",
       "</style>\n",
       "<table border=\"1\" class=\"dataframe\">\n",
       "  <thead>\n",
       "    <tr style=\"text-align: right;\">\n",
       "      <th></th>\n",
       "      <th>Customer</th>\n",
       "      <th>Day</th>\n",
       "      <th>Browser</th>\n",
       "      <th>No. of Clicks</th>\n",
       "      <th>Pages Viewed</th>\n",
       "      <th>Time (min)</th>\n",
       "      <th>Amount Spent (Rs.)</th>\n",
       "    </tr>\n",
       "  </thead>\n",
       "  <tbody>\n",
       "    <tr>\n",
       "      <th>0</th>\n",
       "      <td>1</td>\n",
       "      <td>Monday</td>\n",
       "      <td>Chrome</td>\n",
       "      <td>13</td>\n",
       "      <td>4</td>\n",
       "      <td>8.5</td>\n",
       "      <td>2668.0</td>\n",
       "    </tr>\n",
       "    <tr>\n",
       "      <th>1</th>\n",
       "      <td>2</td>\n",
       "      <td>Saturday</td>\n",
       "      <td>Chrome</td>\n",
       "      <td>15</td>\n",
       "      <td>5</td>\n",
       "      <td>16.9</td>\n",
       "      <td>3469.0</td>\n",
       "    </tr>\n",
       "    <tr>\n",
       "      <th>2</th>\n",
       "      <td>3</td>\n",
       "      <td>Monday</td>\n",
       "      <td>Internet Explorer</td>\n",
       "      <td>20</td>\n",
       "      <td>6</td>\n",
       "      <td>7.3</td>\n",
       "      <td>5215.0</td>\n",
       "    </tr>\n",
       "    <tr>\n",
       "      <th>3</th>\n",
       "      <td>4</td>\n",
       "      <td>Monday</td>\n",
       "      <td>Chrome</td>\n",
       "      <td>42</td>\n",
       "      <td>6</td>\n",
       "      <td>30.1</td>\n",
       "      <td>10423.0</td>\n",
       "    </tr>\n",
       "    <tr>\n",
       "      <th>4</th>\n",
       "      <td>5</td>\n",
       "      <td>Saturday</td>\n",
       "      <td>Internet Explorer</td>\n",
       "      <td>20</td>\n",
       "      <td>6</td>\n",
       "      <td>13.3</td>\n",
       "      <td>5404.0</td>\n",
       "    </tr>\n",
       "  </tbody>\n",
       "</table>\n",
       "</div>"
      ],
      "text/plain": [
       "   Customer       Day            Browser  No. of Clicks  Pages Viewed  \\\n",
       "0         1    Monday             Chrome             13             4   \n",
       "1         2  Saturday             Chrome             15             5   \n",
       "2         3    Monday  Internet Explorer             20             6   \n",
       "3         4    Monday             Chrome             42             6   \n",
       "4         5  Saturday  Internet Explorer             20             6   \n",
       "\n",
       "   Time (min)  Amount Spent (Rs.)  \n",
       "0         8.5              2668.0  \n",
       "1        16.9              3469.0  \n",
       "2         7.3              5215.0  \n",
       "3        30.1             10423.0  \n",
       "4        13.3              5404.0  "
      ]
     },
     "execution_count": 4,
     "metadata": {},
     "output_type": "execute_result"
    }
   ],
   "source": [
    "df.head()"
   ]
  },
  {
   "cell_type": "code",
   "execution_count": 5,
   "id": "9e639a42",
   "metadata": {},
   "outputs": [],
   "source": [
    "le=LabelEncoder()"
   ]
  },
  {
   "cell_type": "code",
   "execution_count": 6,
   "id": "513f0c1d",
   "metadata": {},
   "outputs": [],
   "source": [
    "df['Day']=le.fit_transform(df['Day'])\n",
    "df['Browser']=le.fit_transform(df['Browser'])"
   ]
  },
  {
   "cell_type": "code",
   "execution_count": 7,
   "id": "f8d0aa88",
   "metadata": {},
   "outputs": [
    {
     "data": {
      "text/html": [
       "<div>\n",
       "<style scoped>\n",
       "    .dataframe tbody tr th:only-of-type {\n",
       "        vertical-align: middle;\n",
       "    }\n",
       "\n",
       "    .dataframe tbody tr th {\n",
       "        vertical-align: top;\n",
       "    }\n",
       "\n",
       "    .dataframe thead th {\n",
       "        text-align: right;\n",
       "    }\n",
       "</style>\n",
       "<table border=\"1\" class=\"dataframe\">\n",
       "  <thead>\n",
       "    <tr style=\"text-align: right;\">\n",
       "      <th></th>\n",
       "      <th>Customer</th>\n",
       "      <th>Day</th>\n",
       "      <th>Browser</th>\n",
       "      <th>No. of Clicks</th>\n",
       "      <th>Pages Viewed</th>\n",
       "      <th>Time (min)</th>\n",
       "      <th>Amount Spent (Rs.)</th>\n",
       "    </tr>\n",
       "  </thead>\n",
       "  <tbody>\n",
       "    <tr>\n",
       "      <th>0</th>\n",
       "      <td>1</td>\n",
       "      <td>1</td>\n",
       "      <td>0</td>\n",
       "      <td>13</td>\n",
       "      <td>4</td>\n",
       "      <td>8.5</td>\n",
       "      <td>2668.0</td>\n",
       "    </tr>\n",
       "    <tr>\n",
       "      <th>1</th>\n",
       "      <td>2</td>\n",
       "      <td>2</td>\n",
       "      <td>0</td>\n",
       "      <td>15</td>\n",
       "      <td>5</td>\n",
       "      <td>16.9</td>\n",
       "      <td>3469.0</td>\n",
       "    </tr>\n",
       "    <tr>\n",
       "      <th>2</th>\n",
       "      <td>3</td>\n",
       "      <td>1</td>\n",
       "      <td>2</td>\n",
       "      <td>20</td>\n",
       "      <td>6</td>\n",
       "      <td>7.3</td>\n",
       "      <td>5215.0</td>\n",
       "    </tr>\n",
       "    <tr>\n",
       "      <th>3</th>\n",
       "      <td>4</td>\n",
       "      <td>1</td>\n",
       "      <td>0</td>\n",
       "      <td>42</td>\n",
       "      <td>6</td>\n",
       "      <td>30.1</td>\n",
       "      <td>10423.0</td>\n",
       "    </tr>\n",
       "    <tr>\n",
       "      <th>4</th>\n",
       "      <td>5</td>\n",
       "      <td>2</td>\n",
       "      <td>2</td>\n",
       "      <td>20</td>\n",
       "      <td>6</td>\n",
       "      <td>13.3</td>\n",
       "      <td>5404.0</td>\n",
       "    </tr>\n",
       "  </tbody>\n",
       "</table>\n",
       "</div>"
      ],
      "text/plain": [
       "   Customer  Day  Browser  No. of Clicks  Pages Viewed  Time (min)  \\\n",
       "0         1    1        0             13             4         8.5   \n",
       "1         2    2        0             15             5        16.9   \n",
       "2         3    1        2             20             6         7.3   \n",
       "3         4    1        0             42             6        30.1   \n",
       "4         5    2        2             20             6        13.3   \n",
       "\n",
       "   Amount Spent (Rs.)  \n",
       "0              2668.0  \n",
       "1              3469.0  \n",
       "2              5215.0  \n",
       "3             10423.0  \n",
       "4              5404.0  "
      ]
     },
     "execution_count": 7,
     "metadata": {},
     "output_type": "execute_result"
    }
   ],
   "source": [
    "df.head()"
   ]
  },
  {
   "cell_type": "code",
   "execution_count": 12,
   "id": "3e9be228",
   "metadata": {},
   "outputs": [],
   "source": [
    "X=df.drop(['Customer','Amount Spent (Rs.)'],axis=1)\n",
    "y=df['Amount Spent (Rs.)']"
   ]
  },
  {
   "cell_type": "code",
   "execution_count": 8,
   "id": "68eb50df",
   "metadata": {},
   "outputs": [],
   "source": [
    "def model_builder(model,score,X,y):\n",
    "    X_train,X_test,y_train,y_test=train_test_split(X,y,test_size=0.3,random_state=1)\n",
    "    model.fit(X_train,y_train)\n",
    "    y_pred=model.predict(X_test)\n",
    "    accuracy=score(y_test,y_pred)\n",
    "    cv_score=np.mean(cross_val_score(estimator=model,X=X,y=y,cv=10))\n",
    "    return accuracy,cv_score"
   ]
  },
  {
   "cell_type": "code",
   "execution_count": 13,
   "id": "5dd0a6b8",
   "metadata": {},
   "outputs": [
    {
     "data": {
      "text/plain": [
       "(0.999481028255094, 0.9995743895182979)"
      ]
     },
     "execution_count": 13,
     "metadata": {},
     "output_type": "execute_result"
    }
   ],
   "source": [
    "model_builder(GradientBoostingRegressor(),r2_score,X,y)"
   ]
  }
 ],
 "metadata": {
  "kernelspec": {
   "display_name": "Python 3 (ipykernel)",
   "language": "python",
   "name": "python3"
  },
  "language_info": {
   "codemirror_mode": {
    "name": "ipython",
    "version": 3
   },
   "file_extension": ".py",
   "mimetype": "text/x-python",
   "name": "python",
   "nbconvert_exporter": "python",
   "pygments_lexer": "ipython3",
   "version": "3.9.12"
  }
 },
 "nbformat": 4,
 "nbformat_minor": 5
}
